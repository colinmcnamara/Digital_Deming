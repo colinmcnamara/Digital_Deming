{
  "nbformat": 4,
  "nbformat_minor": 0,
  "metadata": {
    "colab": {
      "provenance": [],
      "include_colab_link": true
    },
    "kernelspec": {
      "name": "python3",
      "display_name": "Python 3"
    },
    "language_info": {
      "name": "python"
    }
  },
  "cells": [
    {
      "cell_type": "markdown",
      "metadata": {
        "id": "view-in-github",
        "colab_type": "text"
      },
      "source": [
        "<a href=\"https://colab.research.google.com/github/botchagalupe/Digital_Deming/blob/main/Prototype_Digital_Deming_V2.ipynb\" target=\"_parent\"><img src=\"https://colab.research.google.com/assets/colab-badge.svg\" alt=\"Open In Colab\"/></a>"
      ]
    },
    {
      "cell_type": "markdown",
      "source": [
        "# Set up your local environment \n",
        "\n",
        "On intial run of \"import colab_env\" it will create vars.env in the root of your Google Drive\n",
        "\n",
        "COLAB_ENV = Active\n",
        "\n",
        "export OPENAI_API_KEY = \"your_key\"\n",
        "\n",
        "export SERPAPI_API_KEY = \"your_key\"\n"
      ],
      "metadata": {
        "id": "MYHpBGCb9huK"
      }
    },
    {
      "cell_type": "markdown",
      "source": [
        "#Backend Code"
      ],
      "metadata": {
        "id": "cKuANo5PWv5V"
      }
    },
    {
      "cell_type": "markdown",
      "source": [
        "Install my local packages"
      ],
      "metadata": {
        "id": "s18SqtmEhRfZ"
      }
    },
    {
      "cell_type": "code",
      "execution_count": null,
      "metadata": {
        "colab": {
          "base_uri": "https://localhost:8080/"
        },
        "id": "kLG6Xcprwh9m",
        "outputId": "14f785e3-8176-4b56-db6d-37e1ec959955"
      },
      "outputs": [
        {
          "output_type": "stream",
          "name": "stdout",
          "text": [
            "Looking in indexes: https://pypi.org/simple, https://us-python.pkg.dev/colab-wheels/public/simple/\n",
            "Collecting OpenAI\n",
            "  Downloading openai-0.27.8-py3-none-any.whl (73 kB)\n",
            "\u001b[2K     \u001b[90m━━━━━━━━━━━━━━━━━━━━━━━━━━━━━━━━━━━━━━━━\u001b[0m \u001b[32m73.6/73.6 kB\u001b[0m \u001b[31m7.5 MB/s\u001b[0m eta \u001b[36m0:00:00\u001b[0m\n",
            "\u001b[?25hCollecting langchain\n",
            "  Downloading langchain-0.0.196-py3-none-any.whl (1.0 MB)\n",
            "\u001b[2K     \u001b[90m━━━━━━━━━━━━━━━━━━━━━━━━━━━━━━━━━━━━━━━━\u001b[0m \u001b[32m1.0/1.0 MB\u001b[0m \u001b[31m43.7 MB/s\u001b[0m eta \u001b[36m0:00:00\u001b[0m\n",
            "\u001b[?25hRequirement already satisfied: pydantic in /usr/local/lib/python3.10/dist-packages (1.10.7)\n",
            "Collecting faiss-gpu\n",
            "  Downloading faiss_gpu-1.7.2-cp310-cp310-manylinux_2_17_x86_64.manylinux2014_x86_64.whl (85.5 MB)\n",
            "\u001b[2K     \u001b[90m━━━━━━━━━━━━━━━━━━━━━━━━━━━━━━━━━━━━━━━━\u001b[0m \u001b[32m85.5/85.5 MB\u001b[0m \u001b[31m9.3 MB/s\u001b[0m eta \u001b[36m0:00:00\u001b[0m\n",
            "\u001b[?25hCollecting colab-env\n",
            "  Downloading colab-env-0.2.0.tar.gz (4.7 kB)\n",
            "  Preparing metadata (setup.py) ... \u001b[?25l\u001b[?25hdone\n",
            "Collecting unstructured\n",
            "  Downloading unstructured-0.7.3-py3-none-any.whl (1.3 MB)\n",
            "\u001b[2K     \u001b[90m━━━━━━━━━━━━━━━━━━━━━━━━━━━━━━━━━━━━━━━━\u001b[0m \u001b[32m1.3/1.3 MB\u001b[0m \u001b[31m57.7 MB/s\u001b[0m eta \u001b[36m0:00:00\u001b[0m\n",
            "\u001b[?25hCollecting chromadb\n",
            "  Downloading chromadb-0.3.26-py3-none-any.whl (123 kB)\n",
            "\u001b[2K     \u001b[90m━━━━━━━━━━━━━━━━━━━━━━━━━━━━━━━━━━━━━━\u001b[0m \u001b[32m123.6/123.6 kB\u001b[0m \u001b[31m13.9 MB/s\u001b[0m eta \u001b[36m0:00:00\u001b[0m\n",
            "\u001b[?25hCollecting tiktoken\n",
            "  Downloading tiktoken-0.4.0-cp310-cp310-manylinux_2_17_x86_64.manylinux2014_x86_64.whl (1.7 MB)\n",
            "\u001b[2K     \u001b[90m━━━━━━━━━━━━━━━━━━━━━━━━━━━━━━━━━━━━━━━━\u001b[0m \u001b[32m1.7/1.7 MB\u001b[0m \u001b[31m68.0 MB/s\u001b[0m eta \u001b[36m0:00:00\u001b[0m\n",
            "\u001b[?25hCollecting pdf2image\n",
            "  Downloading pdf2image-1.16.3-py3-none-any.whl (11 kB)\n",
            "Requirement already satisfied: requests>=2.20 in /usr/local/lib/python3.10/dist-packages (from OpenAI) (2.27.1)\n",
            "Requirement already satisfied: tqdm in /usr/local/lib/python3.10/dist-packages (from OpenAI) (4.65.0)\n",
            "Collecting aiohttp (from OpenAI)\n",
            "  Downloading aiohttp-3.8.4-cp310-cp310-manylinux_2_17_x86_64.manylinux2014_x86_64.whl (1.0 MB)\n",
            "\u001b[2K     \u001b[90m━━━━━━━━━━━━━━━━━━━━━━━━━━━━━━━━━━━━━━━━\u001b[0m \u001b[32m1.0/1.0 MB\u001b[0m \u001b[31m65.1 MB/s\u001b[0m eta \u001b[36m0:00:00\u001b[0m\n",
            "\u001b[?25hRequirement already satisfied: PyYAML>=5.4.1 in /usr/local/lib/python3.10/dist-packages (from langchain) (6.0)\n",
            "Requirement already satisfied: SQLAlchemy<3,>=1.4 in /usr/local/lib/python3.10/dist-packages (from langchain) (2.0.10)\n",
            "Collecting async-timeout<5.0.0,>=4.0.0 (from langchain)\n",
            "  Downloading async_timeout-4.0.2-py3-none-any.whl (5.8 kB)\n",
            "Collecting dataclasses-json<0.6.0,>=0.5.7 (from langchain)\n",
            "  Downloading dataclasses_json-0.5.7-py3-none-any.whl (25 kB)\n",
            "Collecting langchainplus-sdk>=0.0.7 (from langchain)\n",
            "  Downloading langchainplus_sdk-0.0.8-py3-none-any.whl (22 kB)\n",
            "Requirement already satisfied: numexpr<3.0.0,>=2.8.4 in /usr/local/lib/python3.10/dist-packages (from langchain) (2.8.4)\n",
            "Requirement already satisfied: numpy<2,>=1 in /usr/local/lib/python3.10/dist-packages (from langchain) (1.22.4)\n",
            "Collecting openapi-schema-pydantic<2.0,>=1.2 (from langchain)\n",
            "  Downloading openapi_schema_pydantic-1.2.4-py3-none-any.whl (90 kB)\n",
            "\u001b[2K     \u001b[90m━━━━━━━━━━━━━━━━━━━━━━━━━━━━━━━━━━━━━━━━\u001b[0m \u001b[32m90.0/90.0 kB\u001b[0m \u001b[31m13.0 MB/s\u001b[0m eta \u001b[36m0:00:00\u001b[0m\n",
            "\u001b[?25hRequirement already satisfied: tenacity<9.0.0,>=8.1.0 in /usr/local/lib/python3.10/dist-packages (from langchain) (8.2.2)\n",
            "Requirement already satisfied: typing-extensions>=4.2.0 in /usr/local/lib/python3.10/dist-packages (from pydantic) (4.5.0)\n",
            "Collecting python-dotenv<1.0,>=0.10.0 (from colab-env)\n",
            "  Downloading python_dotenv-0.21.1-py3-none-any.whl (19 kB)\n",
            "Collecting argilla (from unstructured)\n",
            "  Downloading argilla-1.9.0-py3-none-any.whl (2.5 MB)\n",
            "\u001b[2K     \u001b[90m━━━━━━━━━━━━━━━━━━━━━━━━━━━━━━━━━━━━━━━━\u001b[0m \u001b[32m2.5/2.5 MB\u001b[0m \u001b[31m79.7 MB/s\u001b[0m eta \u001b[36m0:00:00\u001b[0m\n",
            "\u001b[?25hRequirement already satisfied: chardet in /usr/local/lib/python3.10/dist-packages (from unstructured) (4.0.0)\n",
            "Requirement already satisfied: lxml in /usr/local/lib/python3.10/dist-packages (from unstructured) (4.9.2)\n",
            "Collecting msg-parser (from unstructured)\n",
            "  Downloading msg_parser-1.2.0-py2.py3-none-any.whl (101 kB)\n",
            "\u001b[2K     \u001b[90m━━━━━━━━━━━━━━━━━━━━━━━━━━━━━━━━━━━━━━\u001b[0m \u001b[32m101.8/101.8 kB\u001b[0m \u001b[31m11.6 MB/s\u001b[0m eta \u001b[36m0:00:00\u001b[0m\n",
            "\u001b[?25hRequirement already satisfied: nltk in /usr/local/lib/python3.10/dist-packages (from unstructured) (3.8.1)\n",
            "Requirement already satisfied: openpyxl in /usr/local/lib/python3.10/dist-packages (from unstructured) (3.0.10)\n",
            "Requirement already satisfied: pandas in /usr/local/lib/python3.10/dist-packages (from unstructured) (1.5.3)\n",
            "Collecting pdfminer.six (from unstructured)\n",
            "  Downloading pdfminer.six-20221105-py3-none-any.whl (5.6 MB)\n",
            "\u001b[2K     \u001b[90m━━━━━━━━━━━━━━━━━━━━━━━━━━━━━━━━━━━━━━━━\u001b[0m \u001b[32m5.6/5.6 MB\u001b[0m \u001b[31m95.5 MB/s\u001b[0m eta \u001b[36m0:00:00\u001b[0m\n",
            "\u001b[?25hRequirement already satisfied: pillow in /usr/local/lib/python3.10/dist-packages (from unstructured) (8.4.0)\n",
            "Collecting pypandoc (from unstructured)\n",
            "  Downloading pypandoc-1.11-py3-none-any.whl (20 kB)\n",
            "Collecting python-docx (from unstructured)\n",
            "  Downloading python-docx-0.8.11.tar.gz (5.6 MB)\n",
            "\u001b[2K     \u001b[90m━━━━━━━━━━━━━━━━━━━━━━━━━━━━━━━━━━━━━━━━\u001b[0m \u001b[32m5.6/5.6 MB\u001b[0m \u001b[31m103.1 MB/s\u001b[0m eta \u001b[36m0:00:00\u001b[0m\n",
            "\u001b[?25h  Preparing metadata (setup.py) ... \u001b[?25l\u001b[?25hdone\n",
            "Collecting python-pptx (from unstructured)\n",
            "  Downloading python-pptx-0.6.21.tar.gz (10.1 MB)\n",
            "\u001b[2K     \u001b[90m━━━━━━━━━━━━━━━━━━━━━━━━━━━━━━━━━━━━━━━━\u001b[0m \u001b[32m10.1/10.1 MB\u001b[0m \u001b[31m93.4 MB/s\u001b[0m eta \u001b[36m0:00:00\u001b[0m\n",
            "\u001b[?25h  Preparing metadata (setup.py) ... \u001b[?25l\u001b[?25hdone\n",
            "Collecting python-magic (from unstructured)\n",
            "  Downloading python_magic-0.4.27-py2.py3-none-any.whl (13 kB)\n",
            "Requirement already satisfied: markdown in /usr/local/lib/python3.10/dist-packages (from unstructured) (3.4.3)\n",
            "Requirement already satisfied: tabulate in /usr/local/lib/python3.10/dist-packages (from unstructured) (0.8.10)\n",
            "Requirement already satisfied: xlrd in /usr/local/lib/python3.10/dist-packages (from unstructured) (2.0.1)\n",
            "Collecting requests>=2.20 (from OpenAI)\n",
            "  Downloading requests-2.31.0-py3-none-any.whl (62 kB)\n",
            "\u001b[2K     \u001b[90m━━━━━━━━━━━━━━━━━━━━━━━━━━━━━━━━━━━━━━━━\u001b[0m \u001b[32m62.6/62.6 kB\u001b[0m \u001b[31m8.8 MB/s\u001b[0m eta \u001b[36m0:00:00\u001b[0m\n",
            "\u001b[?25hCollecting hnswlib>=0.7 (from chromadb)\n",
            "  Downloading hnswlib-0.7.0.tar.gz (33 kB)\n",
            "  Installing build dependencies ... \u001b[?25l\u001b[?25hdone\n",
            "  Getting requirements to build wheel ... \u001b[?25l\u001b[?25hdone\n",
            "  Preparing metadata (pyproject.toml) ... \u001b[?25l\u001b[?25hdone\n",
            "Collecting clickhouse-connect>=0.5.7 (from chromadb)\n",
            "  Downloading clickhouse_connect-0.6.2-cp310-cp310-manylinux_2_17_x86_64.manylinux2014_x86_64.whl (965 kB)\n",
            "\u001b[2K     \u001b[90m━━━━━━━━━━━━━━━━━━━━━━━━━━━━━━━━━━━━━━━\u001b[0m \u001b[32m965.1/965.1 kB\u001b[0m \u001b[31m5.4 MB/s\u001b[0m eta \u001b[36m0:00:00\u001b[0m\n",
            "\u001b[?25hRequirement already satisfied: duckdb>=0.7.1 in /usr/local/lib/python3.10/dist-packages (from chromadb) (0.7.1)\n",
            "Collecting fastapi>=0.85.1 (from chromadb)\n",
            "  Downloading fastapi-0.96.1-py3-none-any.whl (57 kB)\n",
            "\u001b[2K     \u001b[90m━━━━━━━━━━━━━━━━━━━━━━━━━━━━━━━━━━━━━━━━\u001b[0m \u001b[32m57.1/57.1 kB\u001b[0m \u001b[31m6.8 MB/s\u001b[0m eta \u001b[36m0:00:00\u001b[0m\n",
            "\u001b[?25hCollecting uvicorn[standard]>=0.18.3 (from chromadb)\n",
            "  Downloading uvicorn-0.22.0-py3-none-any.whl (58 kB)\n",
            "\u001b[2K     \u001b[90m━━━━━━━━━━━━━━━━━━━━━━━━━━━━━━━━━━━━━━━━\u001b[0m \u001b[32m58.3/58.3 kB\u001b[0m \u001b[31m6.4 MB/s\u001b[0m eta \u001b[36m0:00:00\u001b[0m\n",
            "\u001b[?25hCollecting posthog>=2.4.0 (from chromadb)\n",
            "  Downloading posthog-3.0.1-py2.py3-none-any.whl (37 kB)\n",
            "Collecting pulsar-client>=3.1.0 (from chromadb)\n",
            "  Downloading pulsar_client-3.2.0-cp310-cp310-manylinux_2_17_x86_64.manylinux2014_x86_64.whl (5.3 MB)\n",
            "\u001b[2K     \u001b[90m━━━━━━━━━━━━━━━━━━━━━━━━━━━━━━━━━━━━━━━━\u001b[0m \u001b[32m5.3/5.3 MB\u001b[0m \u001b[31m69.8 MB/s\u001b[0m eta \u001b[36m0:00:00\u001b[0m\n",
            "\u001b[?25hCollecting onnxruntime>=1.14.1 (from chromadb)\n",
            "  Downloading onnxruntime-1.15.0-cp310-cp310-manylinux_2_17_x86_64.manylinux2014_x86_64.whl (5.9 MB)\n",
            "\u001b[2K     \u001b[90m━━━━━━━━━━━━━━━━━━━━━━━━━━━━━━━━━━━━━━━━\u001b[0m \u001b[32m5.9/5.9 MB\u001b[0m \u001b[31m71.2 MB/s\u001b[0m eta \u001b[36m0:00:00\u001b[0m\n",
            "\u001b[?25hCollecting tokenizers>=0.13.2 (from chromadb)\n",
            "  Downloading tokenizers-0.13.3-cp310-cp310-manylinux_2_17_x86_64.manylinux2014_x86_64.whl (7.8 MB)\n",
            "\u001b[2K     \u001b[90m━━━━━━━━━━━━━━━━━━━━━━━━━━━━━━━━━━━━━━━━\u001b[0m \u001b[32m7.8/7.8 MB\u001b[0m \u001b[31m100.9 MB/s\u001b[0m eta \u001b[36m0:00:00\u001b[0m\n",
            "\u001b[?25hCollecting overrides>=7.3.1 (from chromadb)\n",
            "  Downloading overrides-7.3.1-py3-none-any.whl (17 kB)\n",
            "Requirement already satisfied: regex>=2022.1.18 in /usr/local/lib/python3.10/dist-packages (from tiktoken) (2022.10.31)\n",
            "Requirement already satisfied: attrs>=17.3.0 in /usr/local/lib/python3.10/dist-packages (from aiohttp->OpenAI) (23.1.0)\n",
            "Requirement already satisfied: charset-normalizer<4.0,>=2.0 in /usr/local/lib/python3.10/dist-packages (from aiohttp->OpenAI) (2.0.12)\n",
            "Collecting multidict<7.0,>=4.5 (from aiohttp->OpenAI)\n",
            "  Downloading multidict-6.0.4-cp310-cp310-manylinux_2_17_x86_64.manylinux2014_x86_64.whl (114 kB)\n",
            "\u001b[2K     \u001b[90m━━━━━━━━━━━━━━━━━━━━━━━━━━━━━━━━━━━━━━\u001b[0m \u001b[32m114.5/114.5 kB\u001b[0m \u001b[31m14.6 MB/s\u001b[0m eta \u001b[36m0:00:00\u001b[0m\n",
            "\u001b[?25hCollecting yarl<2.0,>=1.0 (from aiohttp->OpenAI)\n",
            "  Downloading yarl-1.9.2-cp310-cp310-manylinux_2_17_x86_64.manylinux2014_x86_64.whl (268 kB)\n",
            "\u001b[2K     \u001b[90m━━━━━━━━━━━━━━━━━━━━━━━━━━━━━━━━━━━━━━\u001b[0m \u001b[32m268.8/268.8 kB\u001b[0m \u001b[31m26.2 MB/s\u001b[0m eta \u001b[36m0:00:00\u001b[0m\n",
            "\u001b[?25hCollecting frozenlist>=1.1.1 (from aiohttp->OpenAI)\n",
            "  Downloading frozenlist-1.3.3-cp310-cp310-manylinux_2_5_x86_64.manylinux1_x86_64.manylinux_2_17_x86_64.manylinux2014_x86_64.whl (149 kB)\n",
            "\u001b[2K     \u001b[90m━━━━━━━━━━━━━━━━━━━━━━━━━━━━━━━━━━━━━━\u001b[0m \u001b[32m149.6/149.6 kB\u001b[0m \u001b[31m16.8 MB/s\u001b[0m eta \u001b[36m0:00:00\u001b[0m\n",
            "\u001b[?25hCollecting aiosignal>=1.1.2 (from aiohttp->OpenAI)\n",
            "  Downloading aiosignal-1.3.1-py3-none-any.whl (7.6 kB)\n",
            "Requirement already satisfied: certifi in /usr/local/lib/python3.10/dist-packages (from clickhouse-connect>=0.5.7->chromadb) (2022.12.7)\n",
            "Requirement already satisfied: urllib3>=1.26 in /usr/local/lib/python3.10/dist-packages (from clickhouse-connect>=0.5.7->chromadb) (1.26.15)\n",
            "Requirement already satisfied: pytz in /usr/local/lib/python3.10/dist-packages (from clickhouse-connect>=0.5.7->chromadb) (2022.7.1)\n",
            "Collecting zstandard (from clickhouse-connect>=0.5.7->chromadb)\n",
            "  Downloading zstandard-0.21.0-cp310-cp310-manylinux_2_17_x86_64.manylinux2014_x86_64.whl (2.7 MB)\n",
            "\u001b[2K     \u001b[90m━━━━━━━━━━━━━━━━━━━━━━━━━━━━━━━━━━━━━━━━\u001b[0m \u001b[32m2.7/2.7 MB\u001b[0m \u001b[31m91.7 MB/s\u001b[0m eta \u001b[36m0:00:00\u001b[0m\n",
            "\u001b[?25hCollecting lz4 (from clickhouse-connect>=0.5.7->chromadb)\n",
            "  Downloading lz4-4.3.2-cp310-cp310-manylinux_2_17_x86_64.manylinux2014_x86_64.whl (1.3 MB)\n",
            "\u001b[2K     \u001b[90m━━━━━━━━━━━━━━━━━━━━━━━━━━━━━━━━━━━━━━━━\u001b[0m \u001b[32m1.3/1.3 MB\u001b[0m \u001b[31m74.0 MB/s\u001b[0m eta \u001b[36m0:00:00\u001b[0m\n",
            "\u001b[?25hCollecting marshmallow<4.0.0,>=3.3.0 (from dataclasses-json<0.6.0,>=0.5.7->langchain)\n",
            "  Downloading marshmallow-3.19.0-py3-none-any.whl (49 kB)\n",
            "\u001b[2K     \u001b[90m━━━━━━━━━━━━━━━━━━━━━━━━━━━━━━━━━━━━━━━━\u001b[0m \u001b[32m49.1/49.1 kB\u001b[0m \u001b[31m6.9 MB/s\u001b[0m eta \u001b[36m0:00:00\u001b[0m\n",
            "\u001b[?25hCollecting marshmallow-enum<2.0.0,>=1.5.1 (from dataclasses-json<0.6.0,>=0.5.7->langchain)\n",
            "  Downloading marshmallow_enum-1.5.1-py2.py3-none-any.whl (4.2 kB)\n",
            "Collecting typing-inspect>=0.4.0 (from dataclasses-json<0.6.0,>=0.5.7->langchain)\n",
            "  Downloading typing_inspect-0.9.0-py3-none-any.whl (8.8 kB)\n",
            "Collecting starlette<0.28.0,>=0.27.0 (from fastapi>=0.85.1->chromadb)\n",
            "  Downloading starlette-0.27.0-py3-none-any.whl (66 kB)\n",
            "\u001b[2K     \u001b[90m━━━━━━━━━━━━━━━━━━━━━━━━━━━━━━━━━━━━━━━━\u001b[0m \u001b[32m67.0/67.0 kB\u001b[0m \u001b[31m9.9 MB/s\u001b[0m eta \u001b[36m0:00:00\u001b[0m\n",
            "\u001b[?25hCollecting coloredlogs (from onnxruntime>=1.14.1->chromadb)\n",
            "  Downloading coloredlogs-15.0.1-py2.py3-none-any.whl (46 kB)\n",
            "\u001b[2K     \u001b[90m━━━━━━━━━━━━━━━━━━━━━━━━━━━━━━━━━━━━━━━━\u001b[0m \u001b[32m46.0/46.0 kB\u001b[0m \u001b[31m6.6 MB/s\u001b[0m eta \u001b[36m0:00:00\u001b[0m\n",
            "\u001b[?25hRequirement already satisfied: flatbuffers in /usr/local/lib/python3.10/dist-packages (from onnxruntime>=1.14.1->chromadb) (23.3.3)\n",
            "Requirement already satisfied: packaging in /usr/local/lib/python3.10/dist-packages (from onnxruntime>=1.14.1->chromadb) (23.1)\n",
            "Requirement already satisfied: protobuf in /usr/local/lib/python3.10/dist-packages (from onnxruntime>=1.14.1->chromadb) (3.20.3)\n",
            "Requirement already satisfied: sympy in /usr/local/lib/python3.10/dist-packages (from onnxruntime>=1.14.1->chromadb) (1.11.1)\n",
            "Requirement already satisfied: python-dateutil>=2.8.1 in /usr/local/lib/python3.10/dist-packages (from pandas->unstructured) (2.8.2)\n",
            "Requirement already satisfied: six>=1.5 in /usr/local/lib/python3.10/dist-packages (from posthog>=2.4.0->chromadb) (1.16.0)\n",
            "Collecting monotonic>=1.5 (from posthog>=2.4.0->chromadb)\n",
            "  Downloading monotonic-1.6-py2.py3-none-any.whl (8.2 kB)\n",
            "Collecting backoff>=1.10.0 (from posthog>=2.4.0->chromadb)\n",
            "  Downloading backoff-2.2.1-py3-none-any.whl (15 kB)\n",
            "Requirement already satisfied: idna<4,>=2.5 in /usr/local/lib/python3.10/dist-packages (from requests>=2.20->OpenAI) (3.4)\n",
            "Requirement already satisfied: greenlet!=0.4.17 in /usr/local/lib/python3.10/dist-packages (from SQLAlchemy<3,>=1.4->langchain) (2.0.2)\n",
            "Requirement already satisfied: click>=7.0 in /usr/local/lib/python3.10/dist-packages (from uvicorn[standard]>=0.18.3->chromadb) (8.1.3)\n",
            "Collecting h11>=0.8 (from uvicorn[standard]>=0.18.3->chromadb)\n",
            "  Downloading h11-0.14.0-py3-none-any.whl (58 kB)\n",
            "\u001b[2K     \u001b[90m━━━━━━━━━━━━━━━━━━━━━━━━━━━━━━━━━━━━━━━━\u001b[0m \u001b[32m58.3/58.3 kB\u001b[0m \u001b[31m7.6 MB/s\u001b[0m eta \u001b[36m0:00:00\u001b[0m\n",
            "\u001b[?25hCollecting httptools>=0.5.0 (from uvicorn[standard]>=0.18.3->chromadb)\n",
            "  Downloading httptools-0.5.0-cp310-cp310-manylinux_2_5_x86_64.manylinux1_x86_64.manylinux_2_17_x86_64.manylinux2014_x86_64.whl (414 kB)\n",
            "\u001b[2K     \u001b[90m━━━━━━━━━━━━━━━━━━━━━━━━━━━━━━━━━━━━━━\u001b[0m \u001b[32m414.1/414.1 kB\u001b[0m \u001b[31m31.3 MB/s\u001b[0m eta \u001b[36m0:00:00\u001b[0m\n",
            "\u001b[?25hCollecting uvloop!=0.15.0,!=0.15.1,>=0.14.0 (from uvicorn[standard]>=0.18.3->chromadb)\n",
            "  Downloading uvloop-0.17.0-cp310-cp310-manylinux_2_17_x86_64.manylinux2014_x86_64.whl (4.1 MB)\n",
            "\u001b[2K     \u001b[90m━━━━━━━━━━━━━━━━━━━━━━━━━━━━━━━━━━━━━━━━\u001b[0m \u001b[32m4.1/4.1 MB\u001b[0m \u001b[31m96.8 MB/s\u001b[0m eta \u001b[36m0:00:00\u001b[0m\n",
            "\u001b[?25hCollecting watchfiles>=0.13 (from uvicorn[standard]>=0.18.3->chromadb)\n",
            "  Downloading watchfiles-0.19.0-cp37-abi3-manylinux_2_17_x86_64.manylinux2014_x86_64.whl (1.3 MB)\n",
            "\u001b[2K     \u001b[90m━━━━━━━━━━━━━━━━━━━━━━━━━━━━━━━━━━━━━━━━\u001b[0m \u001b[32m1.3/1.3 MB\u001b[0m \u001b[31m71.0 MB/s\u001b[0m eta \u001b[36m0:00:00\u001b[0m\n",
            "\u001b[?25hCollecting websockets>=10.4 (from uvicorn[standard]>=0.18.3->chromadb)\n",
            "  Downloading websockets-11.0.3-cp310-cp310-manylinux_2_5_x86_64.manylinux1_x86_64.manylinux_2_17_x86_64.manylinux2014_x86_64.whl (129 kB)\n",
            "\u001b[2K     \u001b[90m━━━━━━━━━━━━━━━━━━━━━━━━━━━━━━━━━━━━━━\u001b[0m \u001b[32m129.9/129.9 kB\u001b[0m \u001b[31m18.9 MB/s\u001b[0m eta \u001b[36m0:00:00\u001b[0m\n",
            "\u001b[?25hCollecting httpx<0.24,>=0.15 (from argilla->unstructured)\n",
            "  Downloading httpx-0.23.3-py3-none-any.whl (71 kB)\n",
            "\u001b[2K     \u001b[90m━━━━━━━━━━━━━━━━━━━━━━━━━━━━━━━━━━━━━━━━\u001b[0m \u001b[32m71.5/71.5 kB\u001b[0m \u001b[31m11.0 MB/s\u001b[0m eta \u001b[36m0:00:00\u001b[0m\n",
            "\u001b[?25hCollecting deprecated~=1.2.0 (from argilla->unstructured)\n",
            "  Downloading Deprecated-1.2.14-py2.py3-none-any.whl (9.6 kB)\n",
            "Requirement already satisfied: wrapt<1.15,>=1.13 in /usr/local/lib/python3.10/dist-packages (from argilla->unstructured) (1.14.1)\n",
            "Collecting rich<=13.0.1 (from argilla->unstructured)\n",
            "  Downloading rich-13.0.1-py3-none-any.whl (238 kB)\n",
            "\u001b[2K     \u001b[90m━━━━━━━━━━━━━━━━━━━━━━━━━━━━━━━━━━━━━━\u001b[0m \u001b[32m238.1/238.1 kB\u001b[0m \u001b[31m30.4 MB/s\u001b[0m eta \u001b[36m0:00:00\u001b[0m\n",
            "\u001b[?25hRequirement already satisfied: typer<1.0.0,>=0.6.0 in /usr/local/lib/python3.10/dist-packages (from argilla->unstructured) (0.7.0)\n",
            "Collecting olefile>=0.46 (from msg-parser->unstructured)\n",
            "  Downloading olefile-0.46.zip (112 kB)\n",
            "\u001b[2K     \u001b[90m━━━━━━━━━━━━━━━━━━━━━━━━━━━━━━━━━━━━━━\u001b[0m \u001b[32m112.2/112.2 kB\u001b[0m \u001b[31m17.0 MB/s\u001b[0m eta \u001b[36m0:00:00\u001b[0m\n",
            "\u001b[?25h  Preparing metadata (setup.py) ... \u001b[?25l\u001b[?25hdone\n",
            "Requirement already satisfied: joblib in /usr/local/lib/python3.10/dist-packages (from nltk->unstructured) (1.2.0)\n",
            "Requirement already satisfied: et-xmlfile in /usr/local/lib/python3.10/dist-packages (from openpyxl->unstructured) (1.1.0)\n",
            "Requirement already satisfied: cryptography>=36.0.0 in /usr/local/lib/python3.10/dist-packages (from pdfminer.six->unstructured) (40.0.2)\n",
            "Collecting XlsxWriter>=0.5.7 (from python-pptx->unstructured)\n",
            "  Downloading XlsxWriter-3.1.2-py3-none-any.whl (153 kB)\n",
            "\u001b[2K     \u001b[90m━━━━━━━━━━━━━━━━━━━━━━━━━━━━━━━━━━━━━━\u001b[0m \u001b[32m153.0/153.0 kB\u001b[0m \u001b[31m16.4 MB/s\u001b[0m eta \u001b[36m0:00:00\u001b[0m\n",
            "\u001b[?25hRequirement already satisfied: cffi>=1.12 in /usr/local/lib/python3.10/dist-packages (from cryptography>=36.0.0->pdfminer.six->unstructured) (1.15.1)\n",
            "Collecting httpcore<0.17.0,>=0.15.0 (from httpx<0.24,>=0.15->argilla->unstructured)\n",
            "  Downloading httpcore-0.16.3-py3-none-any.whl (69 kB)\n",
            "\u001b[2K     \u001b[90m━━━━━━━━━━━━━━━━━━━━━━━━━━━━━━━━━━━━━━━━\u001b[0m \u001b[32m69.6/69.6 kB\u001b[0m \u001b[31m7.2 MB/s\u001b[0m eta \u001b[36m0:00:00\u001b[0m\n",
            "\u001b[?25hCollecting rfc3986[idna2008]<2,>=1.3 (from httpx<0.24,>=0.15->argilla->unstructured)\n",
            "  Downloading rfc3986-1.5.0-py2.py3-none-any.whl (31 kB)\n",
            "Requirement already satisfied: sniffio in /usr/local/lib/python3.10/dist-packages (from httpx<0.24,>=0.15->argilla->unstructured) (1.3.0)\n",
            "Collecting commonmark<0.10.0,>=0.9.0 (from rich<=13.0.1->argilla->unstructured)\n",
            "  Downloading commonmark-0.9.1-py2.py3-none-any.whl (51 kB)\n",
            "\u001b[2K     \u001b[90m━━━━━━━━━━━━━━━━━━━━━━━━━━━━━━━━━━━━━━━━\u001b[0m \u001b[32m51.1/51.1 kB\u001b[0m \u001b[31m6.5 MB/s\u001b[0m eta \u001b[36m0:00:00\u001b[0m\n",
            "\u001b[?25hRequirement already satisfied: pygments<3.0.0,>=2.6.0 in /usr/local/lib/python3.10/dist-packages (from rich<=13.0.1->argilla->unstructured) (2.14.0)\n",
            "Requirement already satisfied: anyio<5,>=3.4.0 in /usr/local/lib/python3.10/dist-packages (from starlette<0.28.0,>=0.27.0->fastapi>=0.85.1->chromadb) (3.6.2)\n",
            "Collecting mypy-extensions>=0.3.0 (from typing-inspect>=0.4.0->dataclasses-json<0.6.0,>=0.5.7->langchain)\n",
            "  Downloading mypy_extensions-1.0.0-py3-none-any.whl (4.7 kB)\n",
            "Collecting humanfriendly>=9.1 (from coloredlogs->onnxruntime>=1.14.1->chromadb)\n",
            "  Downloading humanfriendly-10.0-py2.py3-none-any.whl (86 kB)\n",
            "\u001b[2K     \u001b[90m━━━━━━━━━━━━━━━━━━━━━━━━━━━━━━━━━━━━━━━━\u001b[0m \u001b[32m86.8/86.8 kB\u001b[0m \u001b[31m11.0 MB/s\u001b[0m eta \u001b[36m0:00:00\u001b[0m\n",
            "\u001b[?25hRequirement already satisfied: mpmath>=0.19 in /usr/local/lib/python3.10/dist-packages (from sympy->onnxruntime>=1.14.1->chromadb) (1.3.0)\n",
            "Requirement already satisfied: pycparser in /usr/local/lib/python3.10/dist-packages (from cffi>=1.12->cryptography>=36.0.0->pdfminer.six->unstructured) (2.21)\n",
            "Building wheels for collected packages: colab-env, hnswlib, python-docx, python-pptx, olefile\n",
            "  Building wheel for colab-env (setup.py) ... \u001b[?25l\u001b[?25hdone\n",
            "  Created wheel for colab-env: filename=colab_env-0.2.0-py3-none-any.whl size=3807 sha256=3bb86e81109ab0971f2162c42d88211de816bffa9ad7af55d2297ed64d05ac1c\n",
            "  Stored in directory: /root/.cache/pip/wheels/ae/36/4f/466c2cd4db5d08f317893a920c4a0f58a81459ee3bdb136d35\n",
            "  Building wheel for hnswlib (pyproject.toml) ... \u001b[?25l\u001b[?25hdone\n",
            "  Created wheel for hnswlib: filename=hnswlib-0.7.0-cp310-cp310-linux_x86_64.whl size=2119904 sha256=d2987ee8d8a7ac139ba72b2cd605239add18a003b0d193a10e381592ded4549d\n",
            "  Stored in directory: /root/.cache/pip/wheels/8a/ae/ec/235a682e0041fbaeee389843670581ec6c66872db856dfa9a4\n",
            "  Building wheel for python-docx (setup.py) ... \u001b[?25l\u001b[?25hdone\n",
            "  Created wheel for python-docx: filename=python_docx-0.8.11-py3-none-any.whl size=184491 sha256=c4cadde71d16fdf14eb2c108fb54f9361fac1dc9fc00c18cefbf0c74e21f375c\n",
            "  Stored in directory: /root/.cache/pip/wheels/80/27/06/837436d4c3bd989b957a91679966f207bfd71d358d63a8194d\n",
            "  Building wheel for python-pptx (setup.py) ... \u001b[?25l\u001b[?25hdone\n",
            "  Created wheel for python-pptx: filename=python_pptx-0.6.21-py3-none-any.whl size=470935 sha256=150fba860a2663ba92a0ef5c7f96d95d1dc2c52cd83b6e6e7730fae06bd0aebf\n",
            "  Stored in directory: /root/.cache/pip/wheels/ea/dd/74/01b3ec7256a0800b99384e9a0f7620e358afc3a51a59bf9b49\n",
            "  Building wheel for olefile (setup.py) ... \u001b[?25l\u001b[?25hdone\n",
            "  Created wheel for olefile: filename=olefile-0.46-py2.py3-none-any.whl size=35417 sha256=cc998178ab8334edc12b3d3d559aad613018a568efb891a2849e94a0a7229378\n",
            "  Stored in directory: /root/.cache/pip/wheels/02/39/c0/9eb1f7a42b4b38f6f333b6314d4ed11c46f12a0f7b78194f0d\n",
            "Successfully built colab-env hnswlib python-docx python-pptx olefile\n",
            "Installing collected packages: tokenizers, rfc3986, monotonic, faiss-gpu, commonmark, zstandard, XlsxWriter, websockets, uvloop, rich, requests, python-magic, python-dotenv, python-docx, pypandoc, pulsar-client, pdf2image, overrides, olefile, mypy-extensions, multidict, marshmallow, lz4, humanfriendly, httptools, hnswlib, h11, frozenlist, deprecated, backoff, async-timeout, yarl, watchfiles, uvicorn, typing-inspect, tiktoken, starlette, python-pptx, posthog, openapi-schema-pydantic, msg-parser, marshmallow-enum, langchainplus-sdk, httpcore, coloredlogs, colab-env, clickhouse-connect, aiosignal, pdfminer.six, onnxruntime, httpx, fastapi, dataclasses-json, aiohttp, OpenAI, langchain, chromadb, argilla, unstructured\n",
            "  Attempting uninstall: rich\n",
            "    Found existing installation: rich 13.3.4\n",
            "    Uninstalling rich-13.3.4:\n",
            "      Successfully uninstalled rich-13.3.4\n",
            "  Attempting uninstall: requests\n",
            "    Found existing installation: requests 2.27.1\n",
            "    Uninstalling requests-2.27.1:\n",
            "      Successfully uninstalled requests-2.27.1\n",
            "\u001b[31mERROR: pip's dependency resolver does not currently take into account all the packages that are installed. This behaviour is the source of the following dependency conflicts.\n",
            "google-colab 1.0.0 requires requests==2.27.1, but you have requests 2.31.0 which is incompatible.\u001b[0m\u001b[31m\n",
            "\u001b[0mSuccessfully installed OpenAI-0.27.8 XlsxWriter-3.1.2 aiohttp-3.8.4 aiosignal-1.3.1 argilla-1.9.0 async-timeout-4.0.2 backoff-2.2.1 chromadb-0.3.26 clickhouse-connect-0.6.2 colab-env-0.2.0 coloredlogs-15.0.1 commonmark-0.9.1 dataclasses-json-0.5.7 deprecated-1.2.14 faiss-gpu-1.7.2 fastapi-0.96.1 frozenlist-1.3.3 h11-0.14.0 hnswlib-0.7.0 httpcore-0.16.3 httptools-0.5.0 httpx-0.23.3 humanfriendly-10.0 langchain-0.0.196 langchainplus-sdk-0.0.8 lz4-4.3.2 marshmallow-3.19.0 marshmallow-enum-1.5.1 monotonic-1.6 msg-parser-1.2.0 multidict-6.0.4 mypy-extensions-1.0.0 olefile-0.46 onnxruntime-1.15.0 openapi-schema-pydantic-1.2.4 overrides-7.3.1 pdf2image-1.16.3 pdfminer.six-20221105 posthog-3.0.1 pulsar-client-3.2.0 pypandoc-1.11 python-docx-0.8.11 python-dotenv-0.21.1 python-magic-0.4.27 python-pptx-0.6.21 requests-2.31.0 rfc3986-1.5.0 rich-13.0.1 starlette-0.27.0 tiktoken-0.4.0 tokenizers-0.13.3 typing-inspect-0.9.0 unstructured-0.7.3 uvicorn-0.22.0 uvloop-0.17.0 watchfiles-0.19.0 websockets-11.0.3 yarl-1.9.2 zstandard-0.21.0\n"
          ]
        }
      ],
      "source": [
        "pip install OpenAI langchain pydantic faiss-gpu colab-env unstructured chromadb tiktoken pdf2image faiss-gpu"
      ]
    },
    {
      "cell_type": "markdown",
      "source": [
        "Yo, let's import our local env so we don't have to show the world our keys"
      ],
      "metadata": {
        "id": "thnn1Guth9nA"
      }
    },
    {
      "cell_type": "code",
      "execution_count": null,
      "metadata": {
        "id": "bIQmA_whelu1",
        "colab": {
          "base_uri": "https://localhost:8080/"
        },
        "outputId": "3485c110-e830-4400-ea1d-bc2b1b754b94"
      },
      "outputs": [
        {
          "output_type": "stream",
          "name": "stdout",
          "text": [
            "Mounted at /content/gdrive\n"
          ]
        }
      ],
      "source": [
        "import colab_env"
      ]
    },
    {
      "cell_type": "markdown",
      "source": [
        "Let's import our python modules"
      ],
      "metadata": {
        "id": "NoZ4EBVsiqMf"
      }
    },
    {
      "cell_type": "code",
      "source": [
        "from langchain.embeddings.openai import OpenAIEmbeddings\n",
        "from langchain.vectorstores import Chroma\n",
        "from langchain.text_splitter import CharacterTextSplitter\n",
        "from langchain.text_splitter import RecursiveCharacterTextSplitter\n",
        "from langchain import OpenAI, VectorDBQA\n",
        "from langchain.chains import RetrievalQA\n",
        "from langchain.chains import RetrievalQAWithSourcesChain\n",
        "from langchain.document_loaders import DirectoryLoader\n",
        "from langchain.prompts import PromptTemplate\n",
        "from langchain.llms import OpenAI\n",
        "from langchain.agents import load_tools\n",
        "from langchain.agents import initialize_agent\n",
        "from langchain.agents import AgentType\n",
        "from langchain.chat_models import ChatOpenAI\n",
        "from langchain.schema import (\n",
        "    AIMessage,\n",
        "    HumanMessage,\n",
        "    SystemMessage\n",
        ")\n",
        "import magic\n",
        "import os\n",
        "import nltk\n",
        "import textwrap\n",
        "\n"
      ],
      "metadata": {
        "id": "dThYIPCKjKcS"
      },
      "execution_count": null,
      "outputs": []
    },
    {
      "cell_type": "markdown",
      "source": [
        "**Define Functions**"
      ],
      "metadata": {
        "id": "Veq0uDd6LCRU"
      }
    },
    {
      "cell_type": "code",
      "source": [
        "def print_it():\n",
        "\n",
        "  global content\n",
        "  global sources\n",
        "\n",
        "  #print(\"content \", content)\n",
        "  #print(\"sources \",sources)"
      ],
      "metadata": {
        "id": "d6iswCOETevu"
      },
      "execution_count": null,
      "outputs": []
    },
    {
      "cell_type": "code",
      "source": [
        "def format_book(format_str):\n",
        "\n",
        "  global content\n",
        "  \n",
        "  content += format_str\n",
        "  \n",
        "  print_it()"
      ],
      "metadata": {
        "id": "FChDb5IQS9t1"
      },
      "execution_count": null,
      "outputs": []
    },
    {
      "cell_type": "code",
      "source": [
        "def call_query(query):\n",
        "  result = qa({\"query\": query})\n",
        "  #print(result)\n",
        "\n",
        "  # Result is type dict, content is type str, sources is type list \n",
        "\n",
        "  global content\n",
        "  global sources\n",
        "\n",
        "  content += result['result']\n",
        "  sources += result['source_documents']\n",
        "\n",
        "  print_it()"
      ],
      "metadata": {
        "id": "8h12M4JBLfom"
      },
      "execution_count": null,
      "outputs": []
    },
    {
      "cell_type": "markdown",
      "source": [
        "Let's set the temperature of our AI models"
      ],
      "metadata": {
        "id": "MH2-7NiKjdkE"
      }
    },
    {
      "cell_type": "code",
      "source": [
        "llm = OpenAI(temperature=0)\n",
        "chat = ChatOpenAI(temperature=0)"
      ],
      "metadata": {
        "id": "Imm3MHuFjh_N"
      },
      "execution_count": null,
      "outputs": []
    },
    {
      "cell_type": "markdown",
      "source": [
        "Let's specify the directory and file type for our Demming source docs"
      ],
      "metadata": {
        "id": "zz19cRbakQdZ"
      }
    },
    {
      "cell_type": "code",
      "execution_count": null,
      "metadata": {
        "id": "e8a28a08"
      },
      "outputs": [],
      "source": [
        "loader = DirectoryLoader('/content/gdrive/MyDrive/Projects/Digital_Deming/src_content', glob='**/*.pdf')"
      ]
    },
    {
      "cell_type": "markdown",
      "source": [
        "Load our documents\n"
      ],
      "metadata": {
        "id": "1bXP4IjLmc9D"
      }
    },
    {
      "cell_type": "code",
      "source": [
        "documents = loader.load()"
      ],
      "metadata": {
        "id": "yYcyBEQcmfEB",
        "colab": {
          "base_uri": "https://localhost:8080/"
        },
        "outputId": "088f6924-3651-4629-90e8-394ed5373c63"
      },
      "execution_count": null,
      "outputs": [
        {
          "output_type": "stream",
          "name": "stderr",
          "text": [
            "[nltk_data] Downloading package punkt to /root/nltk_data...\n",
            "[nltk_data]   Unzipping tokenizers/punkt.zip.\n",
            "[nltk_data] Downloading package averaged_perceptron_tagger to\n",
            "[nltk_data]     /root/nltk_data...\n",
            "[nltk_data]   Unzipping taggers/averaged_perceptron_tagger.zip.\n"
          ]
        }
      ]
    },
    {
      "cell_type": "markdown",
      "source": [
        "Check how many documents are loaded"
      ],
      "metadata": {
        "id": "LdhzQ0Yrmj-r"
      }
    },
    {
      "cell_type": "code",
      "source": [
        "len (documents)"
      ],
      "metadata": {
        "colab": {
          "base_uri": "https://localhost:8080/"
        },
        "id": "47e8iE6Imgwk",
        "outputId": "7451e544-a81b-4d5f-fe59-3636ed3ff0be"
      },
      "execution_count": null,
      "outputs": [
        {
          "output_type": "execute_result",
          "data": {
            "text/plain": [
              "1"
            ]
          },
          "metadata": {},
          "execution_count": 10
        }
      ]
    },
    {
      "cell_type": "markdown",
      "source": [
        "Let's split our document up into chunks"
      ],
      "metadata": {
        "id": "6LMzp2tkmp_z"
      }
    },
    {
      "cell_type": "code",
      "execution_count": null,
      "metadata": {
        "id": "3153f864"
      },
      "outputs": [],
      "source": [
        "#text_splitter = CharacterTextSplitter(chunk_size=1000, chunk_overlap=0)\n",
        "text_splitter = RecursiveCharacterTextSplitter(\n",
        "    # Set a really small chunk size, just to show.\n",
        "    chunk_size = 1000,\n",
        "    chunk_overlap  = 20,\n",
        "    length_function = len,\n",
        "    separators=[\"\\n\\n\", \"\\n\", \" \", \"\"]\n",
        ")"
      ]
    },
    {
      "cell_type": "markdown",
      "source": [
        "Let' create a variable named texts, and split these documents into it"
      ],
      "metadata": {
        "id": "VBPEkFIenBaf"
      }
    },
    {
      "cell_type": "code",
      "source": [
        "texts = text_splitter.split_documents(documents)"
      ],
      "metadata": {
        "id": "hG6BjgOunHLQ"
      },
      "execution_count": null,
      "outputs": []
    },
    {
      "cell_type": "markdown",
      "source": [
        "Let's tell it that we want it to use OpenAI embeddings, and tell it what env variable the key is held"
      ],
      "metadata": {
        "id": "tFdzlP2anIlJ"
      }
    },
    {
      "cell_type": "code",
      "source": [
        "embeddings = OpenAIEmbeddings(openai_api_key=os.environ['OPENAI_API_KEY'])"
      ],
      "metadata": {
        "id": "lglhxYJZnUZt"
      },
      "execution_count": null,
      "outputs": []
    },
    {
      "cell_type": "markdown",
      "source": [
        "Let's create a variable named docsearch, and pull from Chroma vectorstore including texts, and the embeddings)"
      ],
      "metadata": {
        "id": "3nZoNACcnVhj"
      }
    },
    {
      "cell_type": "code",
      "source": [
        "docsearch = Chroma.from_documents(texts, embeddings)"
      ],
      "metadata": {
        "id": "Ts7ek3lBnf2O"
      },
      "execution_count": null,
      "outputs": []
    },
    {
      "cell_type": "markdown",
      "source": [
        "Let's define qa and pull it from our local vectorDB"
      ],
      "metadata": {
        "id": "MuNtuuwUPuos"
      }
    },
    {
      "cell_type": "code",
      "source": [
        "#qa = VectorDBQA.from_chain_type(llm=OpenAI(), chain_type=\"stuff\", vectorstore=docsearch, return_source_documents=False)\n",
        "#qa = VectorDBQA.from_chain_type(llm=OpenAI(), chain_type=\"stuff\", vectorstore=docsearch, return_source_documents=True)\n",
        "\n",
        "from langchain.prompts import PromptTemplate\n",
        "prompt_template = \"\"\"Use the following pieces of context to answer the question at the end. If you don't know the answer, just say that you don't know, don't try to make up an answer.\n",
        "Provide responses in Markdown using # to indicate a heading and ## to indicate a subheading#\n",
        "\n",
        "{context}\n",
        "\n",
        "Question: {question}\n",
        "Answer as if you are a quality management consultant. Use specific dates and references. Use bullet points and tabels where appropriate. Use markdown to produce the output.Reference iource documents:\n",
        "\n",
        "\"\"\"\n",
        "PROMPT = PromptTemplate(\n",
        "    template=prompt_template, input_variables=[\"context\", \"question\"]\n",
        ")\n",
        "chain_type_kwargs = {\"prompt\": PROMPT}\n",
        "qa = RetrievalQA.from_chain_type(llm=OpenAI(), chain_type=\"stuff\", retriever=docsearch.as_retriever(), chain_type_kwargs=chain_type_kwargs, return_source_documents=True)"
      ],
      "metadata": {
        "id": "OWYuSv5mPuIh"
      },
      "execution_count": null,
      "outputs": []
    },
    {
      "cell_type": "markdown",
      "source": [
        "define qa chain, which pulls from VectorDBQA, and use the LLM chain named OpenAI. We specify that it \"Stuff\"'s all the data in. We could use \"map_reduce\" instead to optimize for performance and scale. Let's tell it to use the vectorstore we defined earlier named docsearch\n",
        "\n",
        "note, i'm trying RetrievalQA because VectorDBQA is depricated"
      ],
      "metadata": {
        "id": "7qk5wNDbnjfR"
      }
    },
    {
      "cell_type": "markdown",
      "source": [
        "Inital Call for Book Introduction"
      ],
      "metadata": {
        "id": "3Ki-X4s8a5zO"
      }
    },
    {
      "cell_type": "code",
      "source": [
        "query = \"write a breif overview about a book about Kaoru Ishikawa, JUSE, Deming, and TQM)\"\n",
        "result = qa({\"query\": query})\n",
        "content = result['result']\n",
        "sources = result['source_documents']"
      ],
      "metadata": {
        "id": "9lMkQ80YaRm3"
      },
      "execution_count": null,
      "outputs": []
    },
    {
      "cell_type": "markdown",
      "source": [
        "# The History and Evolution of Total Quality Management (TQM): The Contributions of Kaoru Ishikawa and the Japanese Union of Scientists and Engineers (JUSE)"
      ],
      "metadata": {
        "id": "-Yx4MUyLRJ1l"
      }
    },
    {
      "cell_type": "markdown",
      "source": [
        "## I. Introduction\n",
        "* Definition of Total Quality Management (TQM)\n",
        "* Brief introduction of the significance of TQM in the modern business world\n",
        "* Introduction to Kaoru Ishikawa and the Japanese Union of Scientists and Engineers (JUSE)\n",
        "* Thesis Statement"
      ],
      "metadata": {
        "id": "oXnKV5R-Q8P1"
      }
    },
    {
      "cell_type": "code",
      "source": [
        "query = \"write a breif introduction to TQM)\"\n",
        "call_query(query)"
      ],
      "metadata": {
        "id": "vIxjxz4XNZtr"
      },
      "execution_count": null,
      "outputs": []
    },
    {
      "cell_type": "code",
      "source": [
        "query = \"write a definition of Total Quality Management (TQM)\"\n",
        "call_query(query)"
      ],
      "metadata": {
        "id": "SYD__SwSRTOa"
      },
      "execution_count": null,
      "outputs": []
    },
    {
      "cell_type": "code",
      "source": [
        "query = \"write a paragraph about the significance of TQM in the modern business world\"\n",
        "call_query(query)"
      ],
      "metadata": {
        "id": "hZ2hwhHhRTOa"
      },
      "execution_count": null,
      "outputs": []
    },
    {
      "cell_type": "code",
      "source": [
        "query = \"write a paragraph about Kaoru Ishikawa and the Japanese Union of Scientists and Engineers (JUSE)\"\n",
        "call_query(query)"
      ],
      "metadata": {
        "id": "oLDF1e3ZRTOb"
      },
      "execution_count": null,
      "outputs": []
    },
    {
      "cell_type": "code",
      "source": [
        "query = \"write a Thesis statement about Evolution of Total Quality Management (TQM): The Contributions of Kaoru Ishikawa and the Japanese Union of Scientists and Engineers (JUSE)\"\n",
        "call_query(query)"
      ],
      "metadata": {
        "id": "CJGWRzgDRc99"
      },
      "execution_count": null,
      "outputs": []
    },
    {
      "cell_type": "markdown",
      "source": [
        "## II. Early History of Quality Management\n",
        "- Brief description of quality management before TQM\n",
        "- Introduction to foundational concepts: Inspection, Quality Control, and Quality Assurance\n",
        "- The rise of statistical process control and its significance"
      ],
      "metadata": {
        "id": "ugA0XFEvwoAC"
      }
    },
    {
      "cell_type": "code",
      "source": [
        "query = \"write about the early History of Quality Management\"\n",
        "call_query(query)"
      ],
      "metadata": {
        "id": "KZpoRElXLY5W"
      },
      "execution_count": null,
      "outputs": []
    },
    {
      "cell_type": "code",
      "source": [
        "query = \"write a brief description of quality management before TQM\"\n",
        "call_query(query)"
      ],
      "metadata": {
        "id": "H7EBToMfIaN0"
      },
      "execution_count": null,
      "outputs": []
    },
    {
      "cell_type": "code",
      "source": [
        "query = \"write Introduction to foundational concepts: Inspection, Quality Control, and Quality Assurance\"\n",
        "call_query(query)"
      ],
      "metadata": {
        "id": "AiMPW9MJOZ6R"
      },
      "execution_count": null,
      "outputs": []
    },
    {
      "cell_type": "code",
      "source": [
        "query = \"write about the rise of statistical process control and its significance\"\n",
        "call_query(query)"
      ],
      "metadata": {
        "id": "99JZa7mVOaDh"
      },
      "execution_count": null,
      "outputs": []
    },
    {
      "cell_type": "markdown",
      "source": [
        "## III. The Birth and Evolution of TQM\n",
        "- Introduction to the concept of TQM\n",
        "- Overview of the principles and practices of TQM\n",
        "- The role of TQM in post-World War II Japan's industrial comeback\n",
        "- Adoption and evolution of TQM in the United States and around the world"
      ],
      "metadata": {
        "id": "l8pKsaLgwqBa"
      }
    },
    {
      "cell_type": "code",
      "source": [
        "query = \"write a breif introduction about the Birth and Evolution of TQM\"\n",
        "call_query(query)"
      ],
      "metadata": {
        "id": "sBLCfkUkOlTB"
      },
      "execution_count": null,
      "outputs": []
    },
    {
      "cell_type": "code",
      "source": [
        "query = \"write an Introduction to the concept of TQMM\"\n",
        "call_query(query)"
      ],
      "metadata": {
        "id": "AWm_LCZPN6bH"
      },
      "execution_count": null,
      "outputs": []
    },
    {
      "cell_type": "code",
      "source": [
        "query = \"write an Overview of the principles and practices of TQM\"\n",
        "call_query(query)"
      ],
      "metadata": {
        "id": "rlVd8XXMOlYT"
      },
      "execution_count": null,
      "outputs": []
    },
    {
      "cell_type": "code",
      "source": [
        "query = \"write about The role of TQM in post-World War II Japan's industrial comeback\"\n",
        "call_query(query)"
      ],
      "metadata": {
        "id": "7zl12_xHOleT"
      },
      "execution_count": null,
      "outputs": []
    },
    {
      "cell_type": "code",
      "source": [
        "query = \"write about the Adoption and evolution of TQM in the United States and around the world\"\n",
        "call_query(query)"
      ],
      "metadata": {
        "id": "a8-VC7-gBP47"
      },
      "execution_count": null,
      "outputs": []
    },
    {
      "cell_type": "markdown",
      "source": [
        "## IV. The Role of Kaoru Ishikawa in the Development of TQM\n",
        "- Introduction to Ishikawa: his background and career\n",
        "- Ishikawa's contribution to the development of Quality Circles\n",
        "- The development and importance of the Ishikawa (cause-and-effect) Diagram\n",
        "- Ishikawa's philosophical contribution to TQM: the 'next process is your customer'\n"
      ],
      "metadata": {
        "id": "VwNC3dSEwsVx"
      }
    },
    {
      "cell_type": "code",
      "source": [
        "query = \"write about The Role of Kaoru Ishikawa in the Development of TQM\"\n",
        "call_query(query)"
      ],
      "metadata": {
        "id": "-pg-ohP5PuPx"
      },
      "execution_count": null,
      "outputs": []
    },
    {
      "cell_type": "code",
      "source": [
        "query = \"write about an introduction to Ishikawa: his background and career\"\n",
        "call_query(query)"
      ],
      "metadata": {
        "id": "tcGFiR2rGOd3"
      },
      "execution_count": null,
      "outputs": []
    },
    {
      "cell_type": "code",
      "source": [
        "query = \"write about Ishikawa's contribution to the development of Quality Circles\"\n",
        "call_query(query)"
      ],
      "metadata": {
        "id": "on87zT6dP7lE"
      },
      "execution_count": null,
      "outputs": []
    },
    {
      "cell_type": "code",
      "source": [
        "query = \"write about the development and importance of the Ishikawa (cause-and-effect) Diagram\"\n",
        "call_query(query)"
      ],
      "metadata": {
        "id": "P99DnOBrP-OQ"
      },
      "execution_count": null,
      "outputs": []
    },
    {
      "cell_type": "code",
      "source": [
        "query = \"write about Ishikawa's philosophical contribution to TQM: the 'next process is your customer'\"\n",
        "call_query(query)"
      ],
      "metadata": {
        "id": "20WIlNZXP_HI"
      },
      "execution_count": null,
      "outputs": []
    },
    {
      "cell_type": "markdown",
      "source": [
        "## V. The Role of the Japanese Union of Scientists and Engineers (JUSE)\n",
        "- Background of JUSE and its role in the development of quality management in Japan\n",
        "- Introduction of the Deming Prize by JUSE and its significance\n",
        "- JUSE's role in promoting TQM and its principles in Japan and globally\n"
      ],
      "metadata": {
        "id": "DqjyPiaQwvf0"
      }
    },
    {
      "cell_type": "code",
      "source": [
        "query = \"write a breif introduction about the Role of the Japanese Union of Scientists and Engineers (JUSE)\"\n",
        "call_query(query)"
      ],
      "metadata": {
        "id": "2gfSsVVSPjGG"
      },
      "execution_count": null,
      "outputs": []
    },
    {
      "cell_type": "code",
      "source": [
        "query = \"write about the background of JUSE and its role in the development of quality management in Japan\"\n",
        "call_query(query)"
      ],
      "metadata": {
        "id": "JohRVdzsQPFd"
      },
      "execution_count": null,
      "outputs": []
    },
    {
      "cell_type": "code",
      "source": [
        "query = \"write about the introduction of the Deming Prize by JUSE and its significance\"\n",
        "call_query(query)"
      ],
      "metadata": {
        "id": "johXbNb7QXvd"
      },
      "execution_count": null,
      "outputs": []
    },
    {
      "cell_type": "code",
      "source": [
        "query = \"write about JUSE's role in promoting TQM and its principles in Japan and globally\"\n",
        "call_query(query)"
      ],
      "metadata": {
        "id": "BD1c-ZrXHzDY"
      },
      "execution_count": null,
      "outputs": []
    },
    {
      "cell_type": "markdown",
      "source": [
        "## VI. The Impact of TQM, Ishikawa, and JUSE on Contemporary Business Practices\n",
        "- Analysis of the role TQM plays in today's business and management practices\n",
        "- The legacy of Ishikawa's methods and tools in current quality management\n",
        "- Influence of JUSE's principles in contemporary quality initiatives and awards\n"
      ],
      "metadata": {
        "id": "0KeRuCyHwzH3"
      }
    },
    {
      "cell_type": "code",
      "source": [
        "query = \"write a breif intro to the Impact of TQM, Ishikawa, and JUSE on Contemporary Business Practicess\"\n",
        "call_query(query)"
      ],
      "metadata": {
        "id": "LjtqA2oEQfXh"
      },
      "execution_count": null,
      "outputs": []
    },
    {
      "cell_type": "code",
      "source": [
        "query = \"write about the legacy of Ishikawa's methods and tools in current quality management\"\n",
        "call_query(query)"
      ],
      "metadata": {
        "id": "EKRIA6wUQlQl"
      },
      "execution_count": null,
      "outputs": []
    },
    {
      "cell_type": "code",
      "source": [
        "query = \"write an analysis of the role TQM plays in today's business and management practices\"\n",
        "call_query(query)"
      ],
      "metadata": {
        "id": "tlf3ouVeQezA"
      },
      "execution_count": null,
      "outputs": []
    },
    {
      "cell_type": "code",
      "source": [
        "query = \"write about the Influence of JUSE's principles in contemporary quality initiatives and awards\"\n",
        "call_query(query)"
      ],
      "metadata": {
        "id": "As1ldkBSQupW"
      },
      "execution_count": null,
      "outputs": []
    },
    {
      "cell_type": "markdown",
      "source": [
        "## VII. Conclusion\n",
        "- Summary of the importance and influence of TQM, Ishikawa, and JUSE in the field of quality management\n",
        "- Restatement of Thesis\n",
        "- Future implications of the principles and practices of TQM, Ishikawa, and JUSE in the global business landscape"
      ],
      "metadata": {
        "id": "FUefWHRXw1lo"
      }
    },
    {
      "cell_type": "code",
      "source": [
        "query = \"write about: Summary of the importance and influence of TQM, Ishikawa, and JUSE in the field of quality management\"\n",
        "call_query(query)"
      ],
      "metadata": {
        "id": "hbrwO1FjQt-x"
      },
      "execution_count": null,
      "outputs": []
    },
    {
      "cell_type": "code",
      "source": [
        "query = \"Restatement of Thesis - Evolution of Total Quality Management (TQM): The Contributions of Kaoru Ishikawa and the Japanese Union of Scientists and Engineers (JUSE)\"\n",
        "call_query(query)"
      ],
      "metadata": {
        "id": "21Dc7sBtR76L"
      },
      "execution_count": null,
      "outputs": []
    },
    {
      "cell_type": "markdown",
      "source": [
        "FAQ"
      ],
      "metadata": {
        "id": "QLG_P1ApSnY0"
      }
    },
    {
      "cell_type": "code",
      "source": [
        "query = \"who won the deming prize\"\n",
        "call_query(query)"
      ],
      "metadata": {
        "id": "lw5QDqZGNpBq"
      },
      "execution_count": null,
      "outputs": []
    },
    {
      "cell_type": "code",
      "source": [
        "query = \"when was the QC Circle Seminar for Top Management helde\"\n",
        "call_query(query)"
      ],
      "metadata": {
        "id": "QPcUzZlpN9h6"
      },
      "execution_count": null,
      "outputs": []
    },
    {
      "cell_type": "code",
      "source": [
        "content = \"\" \n",
        "format_book(\"# Hellow Word<br>\")"
      ],
      "metadata": {
        "id": "OU_LiRCEEmYG"
      },
      "execution_count": null,
      "outputs": []
    },
    {
      "cell_type": "code",
      "source": [
        "print(\"content \", content)\n",
        "print(\"sources \",sources)"
      ],
      "metadata": {
        "colab": {
          "base_uri": "https://localhost:8080/"
        },
        "id": "7Z2b0sp6SMDw",
        "outputId": "116581ef-7bc3-464f-8fb3-68a6c56d77e3"
      },
      "execution_count": null,
      "outputs": [
        {
          "output_type": "stream",
          "name": "stdout",
          "text": [
            "content  #Hellow Word<br>\n",
            "sources  [Document(page_content='Deming Application Prize. It was the first construction company to win the prize. (Nov.)\\n\\n\\uf09f A committee to research QC in the\\n\\nservice industry was established. (Nov.,\\n\\nA Parallel Chronology of Prof. Kaoru Ishikawa’s Life and TQC in Japan\\n\\nYear\\n\\nProf. Ishikawa’s Life\\n\\nMajor Events in the Development of QC\\n\\ncommissioned by the Ministry of the Environment.)\\n\\n\\uf09f His book Control Points of Quality (joint authorship) (Zeimukeiri Kyokai) was awarded Nikkei Quality Control Literature Prize.\\n\\nJUSE)\\n\\n\\uf09f The 28th QCS: New product planning\\n\\nand market research.\\n\\n\\uf09f The 29th QCS: Future Quality\\n\\nControl—challenges in the 1980s.\\n\\n1980\\n\\n\\uf09f He became a council member of the Japan Standards Association. (–84)\\n\\n\\uf09f He became a council member of the Japanese Society for Quality Control. (–82)\\n\\n\\uf09f He became the chair of the Nuclear\\n\\nPower Plant Quality Assurance Review Committee. (MITI)\\n\\n\\uf09f He became the chair of the Management\\n\\nResearch Group of Japan-China Economic Association.', metadata={'source': '/content/gdrive/MyDrive/Projects/Digital_Deming/src_content/ParallelChronology_Ver2_150717.pdf'}), Document(page_content='JUSE)\\n\\n\\uf09f The QC and Standardization Seminar was\\n\\nheld. (JSA)\\n\\n\\uf09f The Award of the Excellent Factories in\\n\\nImplementation of Industrial Standardization, the Award of the Minister of International Trade and Industry, the Award of Director-General of Agency of Industrial Science and Technology for the Excellent Factory in Implementation of Industrial Standardization and the Award of the Director-General of the Regional Bureau of International Trade and Industry for the Excellent Factory in Implementation of Industrial Standardization were established.\\n\\n\\uf09f He became a part-time lecturer at Gunma\\n\\n\\uf09f Dr. Juran visited Japan. During his\\n\\nUniversity. (–66)\\n\\n(Age 39)\\n\\n\\uf09f He published Introduction to Quality\\n\\n45-day stay in Japan, he gave a special QC Seminar for Executives and a QC\\n\\n502\\n\\nA Parallel Chronology of Prof. Kaoru Ishikawa’s Life and TQC in Japan\\n\\nYear\\n\\nProf. Ishikawa’s Life\\n\\nMajor Events in the Development of QC\\n\\nControl. (JUSE)\\n\\n\\uf09f His book Sampling in Factories', metadata={'source': '/content/gdrive/MyDrive/Projects/Digital_Deming/src_content/ParallelChronology_Ver2_150717.pdf'}), Document(page_content='International Friendship Club. \\uf09f Quality Assurance Guidebook (JUSE Press) written and edited by Ishikawa was awarded the Nikkei Quality Control Literature Prize.\\n\\nASQC Annual Conference.\\n\\n\\uf09f IAQ meeting was held in Venice in September, at the same time as the EOQC Conference.\\n\\n\\uf09f The 25th anniversary of the Deming\\n\\nPrize. Dr. Deming was invited to Japan. \\uf09f The South Korea’s Industrial Promotion\\n\\nBureau began promoting QC.\\n\\n\\uf09f The 1st National QC Circle Conference\\n\\n514\\n\\nA Parallel Chronology of Prof. Kaoru Ishikawa’s Life and TQC in Japan\\n\\nYear\\n\\nProf. Ishikawa’s Life\\n\\nMajor Events in the Development of QC\\n\\nwas held in South Korea. The 1st QC and Standardization Conference was also held.\\n\\n\\uf09f The Delegation Team from the South\\n\\nKorea’s Industrial Promotion Bureau and the Korean Standards Association Research visited Japan.\\n\\n\\uf09f A delegation team was dispatched to the USSR. (Japan-Soviet Round-table Conference on Standardization) \\uf09f The 21st QCS: Measures to address\\n\\nproduct liability.', metadata={'source': '/content/gdrive/MyDrive/Projects/Digital_Deming/src_content/ParallelChronology_Ver2_150717.pdf'}), Document(page_content='\\uf09f The Deming Application Prize for Small Enterprise was established. (Nov.) The first winner was Nakayo, Inc.\\n\\n\\uf09f The Kyushu QC Research Group was\\n\\n(Age 42)\\n\\n1958\\n\\nFeb.\\n\\n(Age 43)\\n\\n\\uf09f Quality Control Guidebook (Vol. 1, Vol.\\n\\nestablished. (JSA)\\n\\n504\\n\\nA Parallel Chronology of Prof. Kaoru Ishikawa’s Life and TQC in Japan\\n\\nYear\\n\\nProf. Ishikawa’s Life\\n\\nMajor Events in the Development of QC\\n\\n2), written and edited by Ishikawa, were published. (A revised edition of Vol. 1 was published in July, 1963 and a revised edition of Vol. 2 was published in Nov., 1964.)\\n\\n\\uf09f The Shikoku QC Research Group was\\n\\nestablished. (JSA)\\n\\n\\uf09f QC slides were released. (JSA) \\uf09f Konishi & Taguchi proposed the linear graph method in their book Orthogonal Array Table and Allocation Type.\\n\\n1959\\n\\nFeb. 1\\n\\n\\uf09f The 1st QCG (QC GOLF) competition\\n\\n\\uf09f Dr. Shewhart visited Japan and gave', metadata={'source': '/content/gdrive/MyDrive/Projects/Digital_Deming/src_content/ParallelChronology_Ver2_150717.pdf'}), Document(page_content='1) AGREE: Advisory Group on Reliability of Electronic Equipment 2) AOTS: Association for Overseas Technical Scholarship 3) APO: Asian Productivity Organization 4) ASA: American Standards Association 5) ASQC: American Society for Quality Control 6) BS: British Standards 7) CCS: Civil Communication Section 8) COSCO: Control System Committee 9) EOQC: European Organization for Quality Control 10) EOQ: European Organization for Quality 11) EFQM: European Foundation for Quality Management 12) FMES: Japan Federation of Managerial Engineering Societies\\n\\n524\\n\\nA Parallel Chronology of Prof. Kaoru Ishikawa’s Life and TQC in Japan', metadata={'source': '/content/gdrive/MyDrive/Projects/Digital_Deming/src_content/ParallelChronology_Ver2_150717.pdf'}), Document(page_content='International Friendship Club. \\uf09f Quality Assurance Guidebook (JUSE Press) written and edited by Ishikawa was awarded the Nikkei Quality Control Literature Prize.\\n\\nASQC Annual Conference.\\n\\n\\uf09f IAQ meeting was held in Venice in September, at the same time as the EOQC Conference.\\n\\n\\uf09f The 25th anniversary of the Deming\\n\\nPrize. Dr. Deming was invited to Japan. \\uf09f The South Korea’s Industrial Promotion\\n\\nBureau began promoting QC.\\n\\n\\uf09f The 1st National QC Circle Conference\\n\\n514\\n\\nA Parallel Chronology of Prof. Kaoru Ishikawa’s Life and TQC in Japan\\n\\nYear\\n\\nProf. Ishikawa’s Life\\n\\nMajor Events in the Development of QC\\n\\nwas held in South Korea. The 1st QC and Standardization Conference was also held.\\n\\n\\uf09f The Delegation Team from the South\\n\\nKorea’s Industrial Promotion Bureau and the Korean Standards Association Research visited Japan.\\n\\n\\uf09f A delegation team was dispatched to the USSR. (Japan-Soviet Round-table Conference on Standardization) \\uf09f The 21st QCS: Measures to address\\n\\nproduct liability.', metadata={'source': '/content/gdrive/MyDrive/Projects/Digital_Deming/src_content/ParallelChronology_Ver2_150717.pdf'}), Document(page_content='Deming Application Prize. It was the first construction company to win the prize. (Nov.)\\n\\n\\uf09f A committee to research QC in the\\n\\nservice industry was established. (Nov.,\\n\\nA Parallel Chronology of Prof. Kaoru Ishikawa’s Life and TQC in Japan\\n\\nYear\\n\\nProf. Ishikawa’s Life\\n\\nMajor Events in the Development of QC\\n\\ncommissioned by the Ministry of the Environment.)\\n\\n\\uf09f His book Control Points of Quality (joint authorship) (Zeimukeiri Kyokai) was awarded Nikkei Quality Control Literature Prize.\\n\\nJUSE)\\n\\n\\uf09f The 28th QCS: New product planning\\n\\nand market research.\\n\\n\\uf09f The 29th QCS: Future Quality\\n\\nControl—challenges in the 1980s.\\n\\n1980\\n\\n\\uf09f He became a council member of the Japan Standards Association. (–84)\\n\\n\\uf09f He became a council member of the Japanese Society for Quality Control. (–82)\\n\\n\\uf09f He became the chair of the Nuclear\\n\\nPower Plant Quality Assurance Review Committee. (MITI)\\n\\n\\uf09f He became the chair of the Management\\n\\nResearch Group of Japan-China Economic Association.', metadata={'source': '/content/gdrive/MyDrive/Projects/Digital_Deming/src_content/ParallelChronology_Ver2_150717.pdf'}), Document(page_content='\\uf09f The Quality Control Research Group was established. [The group was called the “QC Research Group” from around autumn of 1949.”] (JUSE)\\n\\n\\uf09f NEC Tamagawa Plant introduced QC in accordance with Z1-1 to Z1-3 under the guidance of Sarasohn. (GHQ, CCS) \\uf09f Magil, Sarasohn, Reck and others gave\\n\\nlectures on QC at several communication device manufacturing companies. \\uf09f The Research Institute for Electrical Communication introduced sampling inspection on purchased products. (Nippon Telegraph and Telephone Public Corporation)\\n\\n\\uf09f Consultations on QC activities started at\\n\\nseveral companies by Eizaburo Nishibori, etc. (May, JMA)\\n\\n\\uf09f A 2-days QC seminar was held. (June,\\n\\nJSA)\\n\\n\\uf09f The Industrial Standardization Act came into effect. (JES was unified into JIS and the JIS Marking System was established. July)\\n\\n\\uf09f The QC Basic Course was held. (The first\\n\\ncourse was one year long. From the second year, the course lasted for 6 months.) (Sep. JUSE)\\n\\n\\uf09f The Overseas Technologies Research', metadata={'source': '/content/gdrive/MyDrive/Projects/Digital_Deming/src_content/ParallelChronology_Ver2_150717.pdf'}), Document(page_content='1) AGREE: Advisory Group on Reliability of Electronic Equipment 2) AOTS: Association for Overseas Technical Scholarship 3) APO: Asian Productivity Organization 4) ASA: American Standards Association 5) ASQC: American Society for Quality Control 6) BS: British Standards 7) CCS: Civil Communication Section 8) COSCO: Control System Committee 9) EOQC: European Organization for Quality Control 10) EOQ: European Organization for Quality 11) EFQM: European Foundation for Quality Management 12) FMES: Japan Federation of Managerial Engineering Societies\\n\\n524\\n\\nA Parallel Chronology of Prof. Kaoru Ishikawa’s Life and TQC in Japan', metadata={'source': '/content/gdrive/MyDrive/Projects/Digital_Deming/src_content/ParallelChronology_Ver2_150717.pdf'}), Document(page_content='Medal. (ASQC)\\n\\n\\uf09f The Pharmaceutical Manufacturing and Quality Control (GMP) Seminar was held. (Sep., JUSE)\\n\\n\\uf09f The Japan Prefabricated Construction\\n\\nSuppliers and Manufacturers Association held TQC seminars.\\n\\n\\uf09f Noboru Takagi was elected as the 22nd\\n\\npresident of the IEC.\\n\\n\\uf09f The 4th ICPR Conference (IE\\n\\ninternational conference) was held. \\uf09f The 24th QCS: Quality design and\\n\\n\\uf09f Quality Control Handbook (New Edition)\\n\\nprocess design.\\n\\nwritten and edited by Ishikawa was published. (The second edition was published in April, 1988, JSA)\\n\\n\\uf09f The 25th QCS: Small-group activities\\n\\nand QC.\\n\\n1978\\n\\nApril 1\\n\\n\\uf09f He became the President of Musashi\\n\\n\\uf09f The Construction Industry TQC\\n\\nInstitute of Technology.\\n\\nRound-table Conference was held. (JSA)\\n\\n\\uf09f He became the director of Goto-Ikueikai. \\uf09f He became the director of the Tokyu Foundation for Foreign Students.\\n\\n\\uf09f He became the chairperson of the board\\n\\nof directors of the Japan-China Industrial Technology and Culture Center. (–82)', metadata={'source': '/content/gdrive/MyDrive/Projects/Digital_Deming/src_content/ParallelChronology_Ver2_150717.pdf'}), Document(page_content='prize. (Nov.)\\n\\n\\uf09f The Japan Federation of Managerial Engineering Societies (FMES) was established. (JSQC, JIMA, and ORSJ)\\n\\n\\uf09f The Act on Science Council of Japan was revised. (Cabinet decision). “Management engineering” was added to “Part 5: Engineering.”\\n\\n\\uf09f ICQCC ’84-Manila was held. \\uf09f The 38th QCS: Sales department and\\n\\nTQC.\\n\\n\\uf09f The 39th QCS: Current situations and\\n\\nissues of TQC.\\n\\n1985\\n\\nJune 15\\n\\n\\uf09f He achieved a hole-in-one (at Tomei\\n\\n\\uf09f The number of countries where QC circle\\n\\nGotemba Country Club). \\uf09f He became the director of the\\n\\nAssociation for Overseas Technical Scholarship. (–87)\\n\\nactivities are conducted reached 52. \\uf09f The Software QC Research Group was\\n\\nestablished. (Apr., JUSE)\\n\\n\\uf09f ICQCC ’85-TOKYO was held. (May,\\n\\n\\uf09f He became the accounting audit for the\\n\\nJUSE)\\n\\nPrivate University Council for Information Processing Education. \\uf09f He became the chair of the ICQCC ’85-TOKYO Program Committee.', metadata={'source': '/content/gdrive/MyDrive/Projects/Digital_Deming/src_content/ParallelChronology_Ver2_150717.pdf'}), Document(page_content='Deming Application Prize. It was the first construction company to win the prize. (Nov.)\\n\\n\\uf09f A committee to research QC in the\\n\\nservice industry was established. (Nov.,\\n\\nA Parallel Chronology of Prof. Kaoru Ishikawa’s Life and TQC in Japan\\n\\nYear\\n\\nProf. Ishikawa’s Life\\n\\nMajor Events in the Development of QC\\n\\ncommissioned by the Ministry of the Environment.)\\n\\n\\uf09f His book Control Points of Quality (joint authorship) (Zeimukeiri Kyokai) was awarded Nikkei Quality Control Literature Prize.\\n\\nJUSE)\\n\\n\\uf09f The 28th QCS: New product planning\\n\\nand market research.\\n\\n\\uf09f The 29th QCS: Future Quality\\n\\nControl—challenges in the 1980s.\\n\\n1980\\n\\n\\uf09f He became a council member of the Japan Standards Association. (–84)\\n\\n\\uf09f He became a council member of the Japanese Society for Quality Control. (–82)\\n\\n\\uf09f He became the chair of the Nuclear\\n\\nPower Plant Quality Assurance Review Committee. (MITI)\\n\\n\\uf09f He became the chair of the Management\\n\\nResearch Group of Japan-China Economic Association.', metadata={'source': '/content/gdrive/MyDrive/Projects/Digital_Deming/src_content/ParallelChronology_Ver2_150717.pdf'}), Document(page_content='1) AGREE: Advisory Group on Reliability of Electronic Equipment 2) AOTS: Association for Overseas Technical Scholarship 3) APO: Asian Productivity Organization 4) ASA: American Standards Association 5) ASQC: American Society for Quality Control 6) BS: British Standards 7) CCS: Civil Communication Section 8) COSCO: Control System Committee 9) EOQC: European Organization for Quality Control 10) EOQ: European Organization for Quality 11) EFQM: European Foundation for Quality Management 12) FMES: Japan Federation of Managerial Engineering Societies\\n\\n524\\n\\nA Parallel Chronology of Prof. Kaoru Ishikawa’s Life and TQC in Japan', metadata={'source': '/content/gdrive/MyDrive/Projects/Digital_Deming/src_content/ParallelChronology_Ver2_150717.pdf'}), Document(page_content='Deming Application Prize. It was the first construction company to win the prize. (Nov.)\\n\\n\\uf09f A committee to research QC in the\\n\\nservice industry was established. (Nov.,\\n\\nA Parallel Chronology of Prof. Kaoru Ishikawa’s Life and TQC in Japan\\n\\nYear\\n\\nProf. Ishikawa’s Life\\n\\nMajor Events in the Development of QC\\n\\ncommissioned by the Ministry of the Environment.)\\n\\n\\uf09f His book Control Points of Quality (joint authorship) (Zeimukeiri Kyokai) was awarded Nikkei Quality Control Literature Prize.\\n\\nJUSE)\\n\\n\\uf09f The 28th QCS: New product planning\\n\\nand market research.\\n\\n\\uf09f The 29th QCS: Future Quality\\n\\nControl—challenges in the 1980s.\\n\\n1980\\n\\n\\uf09f He became a council member of the Japan Standards Association. (–84)\\n\\n\\uf09f He became a council member of the Japanese Society for Quality Control. (–82)\\n\\n\\uf09f He became the chair of the Nuclear\\n\\nPower Plant Quality Assurance Review Committee. (MITI)\\n\\n\\uf09f He became the chair of the Management\\n\\nResearch Group of Japan-China Economic Association.', metadata={'source': '/content/gdrive/MyDrive/Projects/Digital_Deming/src_content/ParallelChronology_Ver2_150717.pdf'}), Document(page_content='Jan. 23\\n\\n\\uf09f A party to celebrate his honor conferred decoration was held at the Hotel Okura.\\n\\nJan. 31\\n\\n\\uf09f He published Introduction to\\n\\nQuality Control (3rd Edition). (JUSE Press)\\n\\nThe English edition:\\n\\nIntroduction to Quality Control (3rd\\n\\n523\\n\\n\\uf09f The 2000th Memorial QC Circle\\n\\nConference was held. (March, QC Circle Headquarters)\\n\\n\\uf09f EFQM was founded. (Sep.) \\uf09f The Software Quality Control Seminar for Managers was held. (Oct., JUSE)\\n\\n\\uf09f The 1st Malcolm Baldrige National Quality Award was awarded. (Oct., America)\\n\\n\\uf09f Joban Hawaiian Center was awarded the Deming Application Prize for Division, as the first service company to win the prize. (Nov.)\\n\\n\\uf09f ICQCC ’88-Taipei was held. (Nov.,\\n\\nTaipei)\\n\\n\\uf09f The number of foreign companies too whom the use of JIS mark is permitted exceeded 100.\\n\\n\\uf09f The 46th QCS: Quality control\\n\\ntraining—current situation and future direction.\\n\\n\\uf09f The 47th QCS: New product planning\\n\\nand market research—how to understand the quality required by customers.', metadata={'source': '/content/gdrive/MyDrive/Projects/Digital_Deming/src_content/ParallelChronology_Ver2_150717.pdf'}), Document(page_content='International Friendship Club. \\uf09f Quality Assurance Guidebook (JUSE Press) written and edited by Ishikawa was awarded the Nikkei Quality Control Literature Prize.\\n\\nASQC Annual Conference.\\n\\n\\uf09f IAQ meeting was held in Venice in September, at the same time as the EOQC Conference.\\n\\n\\uf09f The 25th anniversary of the Deming\\n\\nPrize. Dr. Deming was invited to Japan. \\uf09f The South Korea’s Industrial Promotion\\n\\nBureau began promoting QC.\\n\\n\\uf09f The 1st National QC Circle Conference\\n\\n514\\n\\nA Parallel Chronology of Prof. Kaoru Ishikawa’s Life and TQC in Japan\\n\\nYear\\n\\nProf. Ishikawa’s Life\\n\\nMajor Events in the Development of QC\\n\\nwas held in South Korea. The 1st QC and Standardization Conference was also held.\\n\\n\\uf09f The Delegation Team from the South\\n\\nKorea’s Industrial Promotion Bureau and the Korean Standards Association Research visited Japan.\\n\\n\\uf09f A delegation team was dispatched to the USSR. (Japan-Soviet Round-table Conference on Standardization) \\uf09f The 21st QCS: Measures to address\\n\\nproduct liability.', metadata={'source': '/content/gdrive/MyDrive/Projects/Digital_Deming/src_content/ParallelChronology_Ver2_150717.pdf'}), Document(page_content='department, Ishikawa belonged to the 4th Fuel Engineering Laboratory (Applied Combustible Science). (the University of Tokyo)\\n\\n\\uf09f He became a lecturer of the Introductory\\n\\n\\uf09f The QC Seminar for Managers and the QC Seminar for Supervisors started. (Central Japan Industries Association)\\n\\n\\uf09f Introductory Course for Design of\\n\\nExperiment was held. (Apr., JUSE) \\uf09f The Asian Productivity Organization\\n\\nCourse for Design of Experiment. (JUSE)\\n\\n(APO) was founded. (May) \\uf09f Japan became the secretariat of\\n\\n\\uf09f He became a member of the ISO/TC 102 Japan Committee and served as the chair of the Sampling Subcommittee. (–81, Japan Iron and Steel Federation)\\n\\n\\uf09f He was awarded with the Fuel Society of\\n\\n(Age 46) 1962\\n\\nJapan Award.\\n\\nISO/TC102 (iron ore).\\n\\n\\uf09f The Japan Consumers’ Association was\\n\\nfounded. (Sep.)\\n\\n\\uf09f The “Supervisor Special Issue” of\\n\\nHinshitsu Kanri (Statistical Quality Control) was issued. (Nov., JUSE)\\n\\n\\uf09f He became the chair of the editorial board of Genba To QC-magazine. (JUSE)', metadata={'source': '/content/gdrive/MyDrive/Projects/Digital_Deming/src_content/ParallelChronology_Ver2_150717.pdf'}), Document(page_content='held at Atami Golf Club. After the reorganization of the department, Ishikawa belonged to the Department of Chemical Engineering, Fuel Engineering Laboratory. (the University of Tokyo)\\n\\n\\uf09f He became the chair of the Editorial\\n\\nCommittee of the JUSE English Report. \\uf09f He became an examiner of the Ministry of International Trade and Industry’s Professional engineers qualification examination. (–61)\\n\\n\\uf09f He became a member of the Council for\\n\\nIndustrial Rationalization. (–61)\\n\\n\\uf09f He became a lecturer of the QC Seminar\\n\\nfor Managers. (JSA)\\n\\nlectures around the country.\\n\\n\\uf09f The QC Seminar for Managers was held.\\n\\n(JSA)\\n\\n\\uf09f The Inspection Seminar was held. (JSA) \\uf09f To celebrate the 10th anniversary of the Industrial Standardization Act, Japan’s Industrial Standardization was published. (Agency of Industrial Science and Technology)\\n\\n\\uf09f The TV series “The Training of Quality', metadata={'source': '/content/gdrive/MyDrive/Projects/Digital_Deming/src_content/ParallelChronology_Ver2_150717.pdf'}), Document(page_content='JUSE)\\n\\n\\uf09f The QC and Standardization Seminar was\\n\\nheld. (JSA)\\n\\n\\uf09f The Award of the Excellent Factories in\\n\\nImplementation of Industrial Standardization, the Award of the Minister of International Trade and Industry, the Award of Director-General of Agency of Industrial Science and Technology for the Excellent Factory in Implementation of Industrial Standardization and the Award of the Director-General of the Regional Bureau of International Trade and Industry for the Excellent Factory in Implementation of Industrial Standardization were established.\\n\\n\\uf09f He became a part-time lecturer at Gunma\\n\\n\\uf09f Dr. Juran visited Japan. During his\\n\\nUniversity. (–66)\\n\\n(Age 39)\\n\\n\\uf09f He published Introduction to Quality\\n\\n45-day stay in Japan, he gave a special QC Seminar for Executives and a QC\\n\\n502\\n\\nA Parallel Chronology of Prof. Kaoru Ishikawa’s Life and TQC in Japan\\n\\nYear\\n\\nProf. Ishikawa’s Life\\n\\nMajor Events in the Development of QC\\n\\nControl. (JUSE)\\n\\n\\uf09f His book Sampling in Factories', metadata={'source': '/content/gdrive/MyDrive/Projects/Digital_Deming/src_content/ParallelChronology_Ver2_150717.pdf'}), Document(page_content='\\uf09f He became the vice-chair of the Reliability and Maintainability Symposium Organizing Committee. (JUSE)\\n\\n\\uf09f He became the chair of the Organizing Committee of the JUSE Course for Purchasing. (JUSE)\\n\\n\\uf09f The Sensory Test Overseas Research Team was dispatched. (May, JUSE) \\uf09f The Standardization Mission Team (headed by Hidehiko Azuma) was dispatched to the USSR. (JSA) \\uf09f The 2nd Japan-America Joint Symposium on Bulk Material Sampling was held. (Oct., Hawaii)\\n\\n\\uf09f October 14 was declared as World\\n\\nStandards Day. (ISO)\\n\\n\\uf09f The Japanese Society for Quality Control foundation meeting was held. (Nov.) \\uf09f The 11th QCS: Planning and quality. \\uf09f The 12th QCS: Product safety, pollution\\n\\nand QC.\\n\\n\\uf09f The QC Correspondence Basic Course for Foremen was held. (Jan., JUSE) \\uf09f The QC Circle Hokkaido Regional\\n\\nChapter was founded. (March, QC Circle Headquarters)\\n\\n\\uf09f Reliability Symposium [71–, Reliability and Maintainability Symposium] was held. (Apr., JUSE)\\n\\n\\uf09f The Japanese Society for Quality Control', metadata={'source': '/content/gdrive/MyDrive/Projects/Digital_Deming/src_content/ParallelChronology_Ver2_150717.pdf'}), Document(page_content='1) AGREE: Advisory Group on Reliability of Electronic Equipment 2) AOTS: Association for Overseas Technical Scholarship 3) APO: Asian Productivity Organization 4) ASA: American Standards Association 5) ASQC: American Society for Quality Control 6) BS: British Standards 7) CCS: Civil Communication Section 8) COSCO: Control System Committee 9) EOQC: European Organization for Quality Control 10) EOQ: European Organization for Quality 11) EFQM: European Foundation for Quality Management 12) FMES: Japan Federation of Managerial Engineering Societies\\n\\n524\\n\\nA Parallel Chronology of Prof. Kaoru Ishikawa’s Life and TQC in Japan', metadata={'source': '/content/gdrive/MyDrive/Projects/Digital_Deming/src_content/ParallelChronology_Ver2_150717.pdf'}), Document(page_content='JUSE)\\n\\n\\uf09f The QC and Standardization Seminar was\\n\\nheld. (JSA)\\n\\n\\uf09f The Award of the Excellent Factories in\\n\\nImplementation of Industrial Standardization, the Award of the Minister of International Trade and Industry, the Award of Director-General of Agency of Industrial Science and Technology for the Excellent Factory in Implementation of Industrial Standardization and the Award of the Director-General of the Regional Bureau of International Trade and Industry for the Excellent Factory in Implementation of Industrial Standardization were established.\\n\\n\\uf09f He became a part-time lecturer at Gunma\\n\\n\\uf09f Dr. Juran visited Japan. During his\\n\\nUniversity. (–66)\\n\\n(Age 39)\\n\\n\\uf09f He published Introduction to Quality\\n\\n45-day stay in Japan, he gave a special QC Seminar for Executives and a QC\\n\\n502\\n\\nA Parallel Chronology of Prof. Kaoru Ishikawa’s Life and TQC in Japan\\n\\nYear\\n\\nProf. Ishikawa’s Life\\n\\nMajor Events in the Development of QC\\n\\nControl. (JUSE)\\n\\n\\uf09f His book Sampling in Factories', metadata={'source': '/content/gdrive/MyDrive/Projects/Digital_Deming/src_content/ParallelChronology_Ver2_150717.pdf'}), Document(page_content='held. (July, JUSE)\\n\\n\\uf09f Governmental Building Construction Q-S Round-table conference was held. (JSA)\\n\\n\\uf09f The Mexican Quality Control Training\\n\\n(Age 62)\\n\\n515\\n\\nA Parallel Chronology of Prof. Kaoru Ishikawa’s Life and TQC in Japan\\n\\nYear\\n\\nProf. Ishikawa’s Life\\n\\nMajor Events in the Development of QC\\n\\n\\uf09f He became a researcher at the\\n\\nTeam visited Japan. (JICA/JUSE)\\n\\nComponent Measurement Department, Laboratory of Metrology, the Agency of Industrial Science and Technology. \\uf09f He became the chair of the executive\\n\\ncommittee of the 20th National Meeting of Standardization. (JSA)\\n\\n\\uf09f He became the chair of the organization committee of the Mexican Quality Control Training Course. (JICA/JUSE)\\n\\n\\uf09f He was awarded with the Medal with\\n\\nBlue Ribbon for his contribution to the promotion of industrial standardization. \\uf09f He became an honorary member of the Argentine Association for Quality Control.\\n\\n\\uf09f The 1st PL World Conference was held\\n\\nin London.\\n\\n\\uf09f Yoshio Kondo was awarded the Grant\\n\\nMedal. (ASQC)', metadata={'source': '/content/gdrive/MyDrive/Projects/Digital_Deming/src_content/ParallelChronology_Ver2_150717.pdf'}), Document(page_content='University. (–70)\\n\\n\\uf09f He gave a special lecture and acted as a discussion leader at the Quality Control Symposium held in Tokyo, welcoming representatives from various countries in Asia. (APO)\\n\\n\\uf09f He published How to Establish Product\\n\\nStandards of Japanese Industrial Standards. (JSA)\\n\\n\\uf09f He became an advisor to the Japan\\n\\nProductivity Center.\\n\\n(Age 49)\\n\\n507\\n\\nA Parallel Chronology of Prof. Kaoru Ishikawa’s Life and TQC in Japan\\n\\nYear\\n\\n1965\\n\\nProf. Ishikawa’s Life\\n\\nMajor Events in the Development of QC\\n\\n\\uf09f He joined the 2nd QC Overseas Research\\n\\n\\uf09f Genba To QC-magazine established the\\n\\nTeam as the head of the delegation (JUSE). He introduced the activities of QC circles at the ASQC Annual Conference. \\uf09f He became a member of the Quality Control Symposium Organizing Committee. (–78, JUSE)\\n\\n\\uf09f JIS M 8100 “Particulate materials –\\n\\nGeneral rules for methods of sampling” was established. (He served as the chair of the Draft Committee.)\\n\\nFQC Award. (Jan., JUSE)', metadata={'source': '/content/gdrive/MyDrive/Projects/Digital_Deming/src_content/ParallelChronology_Ver2_150717.pdf'}), Document(page_content='\\uf09f The Deming Application Prize for Small Enterprise was established. (Nov.) The first winner was Nakayo, Inc.\\n\\n\\uf09f The Kyushu QC Research Group was\\n\\n(Age 42)\\n\\n1958\\n\\nFeb.\\n\\n(Age 43)\\n\\n\\uf09f Quality Control Guidebook (Vol. 1, Vol.\\n\\nestablished. (JSA)\\n\\n504\\n\\nA Parallel Chronology of Prof. Kaoru Ishikawa’s Life and TQC in Japan\\n\\nYear\\n\\nProf. Ishikawa’s Life\\n\\nMajor Events in the Development of QC\\n\\n2), written and edited by Ishikawa, were published. (A revised edition of Vol. 1 was published in July, 1963 and a revised edition of Vol. 2 was published in Nov., 1964.)\\n\\n\\uf09f The Shikoku QC Research Group was\\n\\nestablished. (JSA)\\n\\n\\uf09f QC slides were released. (JSA) \\uf09f Konishi & Taguchi proposed the linear graph method in their book Orthogonal Array Table and Allocation Type.\\n\\n1959\\n\\nFeb. 1\\n\\n\\uf09f The 1st QCG (QC GOLF) competition\\n\\n\\uf09f Dr. Shewhart visited Japan and gave', metadata={'source': '/content/gdrive/MyDrive/Projects/Digital_Deming/src_content/ParallelChronology_Ver2_150717.pdf'}), Document(page_content='Jan. 23\\n\\n\\uf09f A party to celebrate his honor conferred decoration was held at the Hotel Okura.\\n\\nJan. 31\\n\\n\\uf09f He published Introduction to\\n\\nQuality Control (3rd Edition). (JUSE Press)\\n\\nThe English edition:\\n\\nIntroduction to Quality Control (3rd\\n\\n523\\n\\n\\uf09f The 2000th Memorial QC Circle\\n\\nConference was held. (March, QC Circle Headquarters)\\n\\n\\uf09f EFQM was founded. (Sep.) \\uf09f The Software Quality Control Seminar for Managers was held. (Oct., JUSE)\\n\\n\\uf09f The 1st Malcolm Baldrige National Quality Award was awarded. (Oct., America)\\n\\n\\uf09f Joban Hawaiian Center was awarded the Deming Application Prize for Division, as the first service company to win the prize. (Nov.)\\n\\n\\uf09f ICQCC ’88-Taipei was held. (Nov.,\\n\\nTaipei)\\n\\n\\uf09f The number of foreign companies too whom the use of JIS mark is permitted exceeded 100.\\n\\n\\uf09f The 46th QCS: Quality control\\n\\ntraining—current situation and future direction.\\n\\n\\uf09f The 47th QCS: New product planning\\n\\nand market research—how to understand the quality required by customers.', metadata={'source': '/content/gdrive/MyDrive/Projects/Digital_Deming/src_content/ParallelChronology_Ver2_150717.pdf'}), Document(page_content='Deming Application Prize. It was the first construction company to win the prize. (Nov.)\\n\\n\\uf09f A committee to research QC in the\\n\\nservice industry was established. (Nov.,\\n\\nA Parallel Chronology of Prof. Kaoru Ishikawa’s Life and TQC in Japan\\n\\nYear\\n\\nProf. Ishikawa’s Life\\n\\nMajor Events in the Development of QC\\n\\ncommissioned by the Ministry of the Environment.)\\n\\n\\uf09f His book Control Points of Quality (joint authorship) (Zeimukeiri Kyokai) was awarded Nikkei Quality Control Literature Prize.\\n\\nJUSE)\\n\\n\\uf09f The 28th QCS: New product planning\\n\\nand market research.\\n\\n\\uf09f The 29th QCS: Future Quality\\n\\nControl—challenges in the 1980s.\\n\\n1980\\n\\n\\uf09f He became a council member of the Japan Standards Association. (–84)\\n\\n\\uf09f He became a council member of the Japanese Society for Quality Control. (–82)\\n\\n\\uf09f He became the chair of the Nuclear\\n\\nPower Plant Quality Assurance Review Committee. (MITI)\\n\\n\\uf09f He became the chair of the Management\\n\\nResearch Group of Japan-China Economic Association.', metadata={'source': '/content/gdrive/MyDrive/Projects/Digital_Deming/src_content/ParallelChronology_Ver2_150717.pdf'}), Document(page_content='1) AGREE: Advisory Group on Reliability of Electronic Equipment 2) AOTS: Association for Overseas Technical Scholarship 3) APO: Asian Productivity Organization 4) ASA: American Standards Association 5) ASQC: American Society for Quality Control 6) BS: British Standards 7) CCS: Civil Communication Section 8) COSCO: Control System Committee 9) EOQC: European Organization for Quality Control 10) EOQ: European Organization for Quality 11) EFQM: European Foundation for Quality Management 12) FMES: Japan Federation of Managerial Engineering Societies\\n\\n524\\n\\nA Parallel Chronology of Prof. Kaoru Ishikawa’s Life and TQC in Japan', metadata={'source': '/content/gdrive/MyDrive/Projects/Digital_Deming/src_content/ParallelChronology_Ver2_150717.pdf'}), Document(page_content='1) AGREE: Advisory Group on Reliability of Electronic Equipment 2) AOTS: Association for Overseas Technical Scholarship 3) APO: Asian Productivity Organization 4) ASA: American Standards Association 5) ASQC: American Society for Quality Control 6) BS: British Standards 7) CCS: Civil Communication Section 8) COSCO: Control System Committee 9) EOQC: European Organization for Quality Control 10) EOQ: European Organization for Quality 11) EFQM: European Foundation for Quality Management 12) FMES: Japan Federation of Managerial Engineering Societies\\n\\n524\\n\\nA Parallel Chronology of Prof. Kaoru Ishikawa’s Life and TQC in Japan', metadata={'source': '/content/gdrive/MyDrive/Projects/Digital_Deming/src_content/ParallelChronology_Ver2_150717.pdf'}), Document(page_content='Deming Application Prize. It was the first construction company to win the prize. (Nov.)\\n\\n\\uf09f A committee to research QC in the\\n\\nservice industry was established. (Nov.,\\n\\nA Parallel Chronology of Prof. Kaoru Ishikawa’s Life and TQC in Japan\\n\\nYear\\n\\nProf. Ishikawa’s Life\\n\\nMajor Events in the Development of QC\\n\\ncommissioned by the Ministry of the Environment.)\\n\\n\\uf09f His book Control Points of Quality (joint authorship) (Zeimukeiri Kyokai) was awarded Nikkei Quality Control Literature Prize.\\n\\nJUSE)\\n\\n\\uf09f The 28th QCS: New product planning\\n\\nand market research.\\n\\n\\uf09f The 29th QCS: Future Quality\\n\\nControl—challenges in the 1980s.\\n\\n1980\\n\\n\\uf09f He became a council member of the Japan Standards Association. (–84)\\n\\n\\uf09f He became a council member of the Japanese Society for Quality Control. (–82)\\n\\n\\uf09f He became the chair of the Nuclear\\n\\nPower Plant Quality Assurance Review Committee. (MITI)\\n\\n\\uf09f He became the chair of the Management\\n\\nResearch Group of Japan-China Economic Association.', metadata={'source': '/content/gdrive/MyDrive/Projects/Digital_Deming/src_content/ParallelChronology_Ver2_150717.pdf'}), Document(page_content='Jan. 23\\n\\n\\uf09f A party to celebrate his honor conferred decoration was held at the Hotel Okura.\\n\\nJan. 31\\n\\n\\uf09f He published Introduction to\\n\\nQuality Control (3rd Edition). (JUSE Press)\\n\\nThe English edition:\\n\\nIntroduction to Quality Control (3rd\\n\\n523\\n\\n\\uf09f The 2000th Memorial QC Circle\\n\\nConference was held. (March, QC Circle Headquarters)\\n\\n\\uf09f EFQM was founded. (Sep.) \\uf09f The Software Quality Control Seminar for Managers was held. (Oct., JUSE)\\n\\n\\uf09f The 1st Malcolm Baldrige National Quality Award was awarded. (Oct., America)\\n\\n\\uf09f Joban Hawaiian Center was awarded the Deming Application Prize for Division, as the first service company to win the prize. (Nov.)\\n\\n\\uf09f ICQCC ’88-Taipei was held. (Nov.,\\n\\nTaipei)\\n\\n\\uf09f The number of foreign companies too whom the use of JIS mark is permitted exceeded 100.\\n\\n\\uf09f The 46th QCS: Quality control\\n\\ntraining—current situation and future direction.\\n\\n\\uf09f The 47th QCS: New product planning\\n\\nand market research—how to understand the quality required by customers.', metadata={'source': '/content/gdrive/MyDrive/Projects/Digital_Deming/src_content/ParallelChronology_Ver2_150717.pdf'}), Document(page_content='International Friendship Club. \\uf09f Quality Assurance Guidebook (JUSE Press) written and edited by Ishikawa was awarded the Nikkei Quality Control Literature Prize.\\n\\nASQC Annual Conference.\\n\\n\\uf09f IAQ meeting was held in Venice in September, at the same time as the EOQC Conference.\\n\\n\\uf09f The 25th anniversary of the Deming\\n\\nPrize. Dr. Deming was invited to Japan. \\uf09f The South Korea’s Industrial Promotion\\n\\nBureau began promoting QC.\\n\\n\\uf09f The 1st National QC Circle Conference\\n\\n514\\n\\nA Parallel Chronology of Prof. Kaoru Ishikawa’s Life and TQC in Japan\\n\\nYear\\n\\nProf. Ishikawa’s Life\\n\\nMajor Events in the Development of QC\\n\\nwas held in South Korea. The 1st QC and Standardization Conference was also held.\\n\\n\\uf09f The Delegation Team from the South\\n\\nKorea’s Industrial Promotion Bureau and the Korean Standards Association Research visited Japan.\\n\\n\\uf09f A delegation team was dispatched to the USSR. (Japan-Soviet Round-table Conference on Standardization) \\uf09f The 21st QCS: Measures to address\\n\\nproduct liability.', metadata={'source': '/content/gdrive/MyDrive/Projects/Digital_Deming/src_content/ParallelChronology_Ver2_150717.pdf'}), Document(page_content='\\uf09f The Quality Control Research Group was established. [The group was called the “QC Research Group” from around autumn of 1949.”] (JUSE)\\n\\n\\uf09f NEC Tamagawa Plant introduced QC in accordance with Z1-1 to Z1-3 under the guidance of Sarasohn. (GHQ, CCS) \\uf09f Magil, Sarasohn, Reck and others gave\\n\\nlectures on QC at several communication device manufacturing companies. \\uf09f The Research Institute for Electrical Communication introduced sampling inspection on purchased products. (Nippon Telegraph and Telephone Public Corporation)\\n\\n\\uf09f Consultations on QC activities started at\\n\\nseveral companies by Eizaburo Nishibori, etc. (May, JMA)\\n\\n\\uf09f A 2-days QC seminar was held. (June,\\n\\nJSA)\\n\\n\\uf09f The Industrial Standardization Act came into effect. (JES was unified into JIS and the JIS Marking System was established. July)\\n\\n\\uf09f The QC Basic Course was held. (The first\\n\\ncourse was one year long. From the second year, the course lasted for 6 months.) (Sep. JUSE)\\n\\n\\uf09f The Overseas Technologies Research', metadata={'source': '/content/gdrive/MyDrive/Projects/Digital_Deming/src_content/ParallelChronology_Ver2_150717.pdf'}), Document(page_content='\\uf09f His first daughter, Hiroko, was born.\\n\\n\\uf09f A. Wald proposed the method of sequential sampling inspection.\\n\\n\\uf09f The Japan Standards Association was\\n\\nfounded. (Dec.)\\n\\n\\uf09f The American Society for Quality\\n\\nControl (ASQC) was founded and the publication of the journal Industrial Quality Control (renamed Quality Progress in Feb. 68) started.\\n\\n\\uf09f The Great Japan Society of Technology was dissolved and replaced by the Union of Japanese Scientists and Engineers. (May) (The first president: Ichiro Ishikawa, –70)\\n\\n\\uf09f The publication of the Standards and\\n\\nStandardization journal started. (Aug., JSA)\\n\\n\\uf09f The Japan Business Federation was\\n\\nfounded. (Sep. The first president: Ichiro Ishikawa)\\n\\n\\uf09f Magil and others instructed QC at NEC’s\\n\\nTamagawa Plant. (GHQ, CCS)\\n\\n\\uf09f The Rice Statistics Mission, including Dr.\\n\\nDeming, visited Japan to investigate statistical survey systems.', metadata={'source': '/content/gdrive/MyDrive/Projects/Digital_Deming/src_content/ParallelChronology_Ver2_150717.pdf'}), Document(page_content='(JUSE Press)\\n\\nThe English edition of Guide to Quality Control (1st ed. 1974, rev. ed. 1976. 2nd rev. ed. 1982), French edition (1984), Italian edition (1985), Spanish edition (1985), Indonesian edition (1986), Hebrew edition (1988), and Dutch edition (1989) were published. A publishing deal for the Portuguese edition was concluded, but it hasn’t been published yet. (APO) \\uf09f His report Ideal Product Standard and\\n\\nHow to Create It won the Standardization Literature Award. (JSA)\\n\\n\\uf09f He published Control Chart. (JSA)\\n\\n(Age 53)\\n\\n509\\n\\n\\uf09f The World Health Organization (WHO) recommended pharmaceutical companies to adopt QC.\\n\\n\\uf09f The National Meeting on Quality Control and Standardization (Q-S Conference) was established. (JSA)\\n\\n\\uf09f The 5th QCS: Process analysis. \\uf09f The 6th QCS: QC in the era of\\n\\nautomation and computerization (1).', metadata={'source': '/content/gdrive/MyDrive/Projects/Digital_Deming/src_content/ParallelChronology_Ver2_150717.pdf'}), Document(page_content='1) AGREE: Advisory Group on Reliability of Electronic Equipment 2) AOTS: Association for Overseas Technical Scholarship 3) APO: Asian Productivity Organization 4) ASA: American Standards Association 5) ASQC: American Society for Quality Control 6) BS: British Standards 7) CCS: Civil Communication Section 8) COSCO: Control System Committee 9) EOQC: European Organization for Quality Control 10) EOQ: European Organization for Quality 11) EFQM: European Foundation for Quality Management 12) FMES: Japan Federation of Managerial Engineering Societies\\n\\n524\\n\\nA Parallel Chronology of Prof. Kaoru Ishikawa’s Life and TQC in Japan', metadata={'source': '/content/gdrive/MyDrive/Projects/Digital_Deming/src_content/ParallelChronology_Ver2_150717.pdf'}), Document(page_content='\\uf09f Shewhart’s Economic Control of Quality of Manufactured Products was published. (1931)\\n\\n\\uf09f Yasushi Ishida devised the control chart, which he called “makimono,” and used to control the production process of lightbulbs. (1931)\\n\\n\\uf09f Kanzo Kiribuchi introduced quality\\n\\ncontrol as “Hinshitsu Tosei” in his book The Science of Industrial Control. (1931) \\uf09f Pearson’s “The Application of Statistical Methods to Industrial Standardization and Quality Control,” which later became BS 600, was published. (1935)\\n\\n\\uf09f Shewhart’s Statistical Method from the Viewpoint of Quality Control was published.\\n\\n1936\\n\\n(Age 21)\\n\\n1937\\n\\n\\uf09f Entered the Department of Applied\\n\\nChemistry, the Faculty of Engineering, Tokyo Imperial University\\n\\n\\uf09f During the summer vacation of his', metadata={'source': '/content/gdrive/MyDrive/Projects/Digital_Deming/src_content/ParallelChronology_Ver2_150717.pdf'}), Document(page_content='(JUSE Press)\\n\\nThe English edition of Guide to Quality Control (1st ed. 1974, rev. ed. 1976. 2nd rev. ed. 1982), French edition (1984), Italian edition (1985), Spanish edition (1985), Indonesian edition (1986), Hebrew edition (1988), and Dutch edition (1989) were published. A publishing deal for the Portuguese edition was concluded, but it hasn’t been published yet. (APO) \\uf09f His report Ideal Product Standard and\\n\\nHow to Create It won the Standardization Literature Award. (JSA)\\n\\n\\uf09f He published Control Chart. (JSA)\\n\\n(Age 53)\\n\\n509\\n\\n\\uf09f The World Health Organization (WHO) recommended pharmaceutical companies to adopt QC.\\n\\n\\uf09f The National Meeting on Quality Control and Standardization (Q-S Conference) was established. (JSA)\\n\\n\\uf09f The 5th QCS: Process analysis. \\uf09f The 6th QCS: QC in the era of\\n\\nautomation and computerization (1).', metadata={'source': '/content/gdrive/MyDrive/Projects/Digital_Deming/src_content/ParallelChronology_Ver2_150717.pdf'}), Document(page_content='\\uf09f Statistical mathematicians led by Jiro Yamauchi instructed QC methods at military factories.\\n\\n\\uf09f Dodge proposed the method of sampling inspection plan for continual production (CSP-1).\\n\\n\\uf09f Toshio Kitagawa proposed the methods\\n\\nA Parallel Chronology of Prof. Kaoru Ishikawa’s Life and TQC in Japan\\n\\nYear\\n\\nProf. Ishikawa’s Life\\n\\nMajor Events in the Development of QC\\n\\n1944 March 17\\n\\n\\uf09f His first son, Tadashi, was born.\\n\\nof single and double sampling inspection plan.\\n\\n\\uf09f Kosei-kai, Japan Society of Technology, and All Japan Society of Scientists and Engineers were dissolved and the Great Japan Society of Technology (the predecessor of the Union of Japanese Scientists and Engineers) was founded. \\uf09f The Ministry of Education established the\\n\\nInstitute of Statistical Mathematics.\\n\\n(Age 29)\\n\\n1945 Autumn\\n\\nOct. 25 (Age 30)\\n\\n1946\\n\\n(Age 31)\\n\\n1947\\n\\nJan. 18\\n\\n(Age 32)\\n\\n\\uf09f He was transferred to Nissan Liquid Fuel’s Head Office and moved to Kamiishiwara Chofu Town, Kitatama County, Tokyo.', metadata={'source': '/content/gdrive/MyDrive/Projects/Digital_Deming/src_content/ParallelChronology_Ver2_150717.pdf'}), Document(page_content='A Parallel Chronology of\\n\\nProf. Kaoru Ishikawa’s Life and TQC in Japan\\n\\nA Parallel Chronology of Prof. Kaoru Ishikawa’s Life and TQC in Japan\\n\\nProf. Ishikawa’s Life\\n\\nMajor Events in the Development of QC\\n\\n\\uf09f Born in Nishigahara, Takinogawa Ward, Tokyo City as the first son of Ichiro and Tomiko Ishikawa\\n\\nYear\\n\\n1915\\n\\nJuly 13\\n\\n1923\\n\\n\\uf09f Entered Elementary School attached to\\n\\n\\uf09f Shewhart devised the control chart.\\n\\n(Age 8)\\n\\nTokyo Higher Normal School\\n\\n(1924)\\n\\n1928\\n\\n\\uf09f Entered Junior High School attached to\\n\\n(Age 13)\\n\\nTokyo Higher Normal School\\n\\n1933\\n\\n\\uf09f Kinnosuke Ogura suggested the\\n\\npossibility of the application of statistical methods to the production process. (1924)\\n\\n(Age 18)\\n\\n\\uf09f Entered Tokyo High School\\n\\n\\uf09f Fisher’s Statistical Method for Research\\n\\nWorkers was published. (1925) \\uf09f Yasushi Ishida (Tokyo Electric\\n\\nCompany) introduced statistical methods to the production of lightbulbs. (1929) \\uf09f Dodge and Roming proposed a method of sampling inspection with screening. (1929)', metadata={'source': '/content/gdrive/MyDrive/Projects/Digital_Deming/src_content/ParallelChronology_Ver2_150717.pdf'}), Document(page_content='1) AGREE: Advisory Group on Reliability of Electronic Equipment 2) AOTS: Association for Overseas Technical Scholarship 3) APO: Asian Productivity Organization 4) ASA: American Standards Association 5) ASQC: American Society for Quality Control 6) BS: British Standards 7) CCS: Civil Communication Section 8) COSCO: Control System Committee 9) EOQC: European Organization for Quality Control 10) EOQ: European Organization for Quality 11) EFQM: European Foundation for Quality Management 12) FMES: Japan Federation of Managerial Engineering Societies\\n\\n524\\n\\nA Parallel Chronology of Prof. Kaoru Ishikawa’s Life and TQC in Japan', metadata={'source': '/content/gdrive/MyDrive/Projects/Digital_Deming/src_content/ParallelChronology_Ver2_150717.pdf'}), Document(page_content='\\uf09f The Deming Application Prize for Small Enterprise was established. (Nov.) The first winner was Nakayo, Inc.\\n\\n\\uf09f The Kyushu QC Research Group was\\n\\n(Age 42)\\n\\n1958\\n\\nFeb.\\n\\n(Age 43)\\n\\n\\uf09f Quality Control Guidebook (Vol. 1, Vol.\\n\\nestablished. (JSA)\\n\\n504\\n\\nA Parallel Chronology of Prof. Kaoru Ishikawa’s Life and TQC in Japan\\n\\nYear\\n\\nProf. Ishikawa’s Life\\n\\nMajor Events in the Development of QC\\n\\n2), written and edited by Ishikawa, were published. (A revised edition of Vol. 1 was published in July, 1963 and a revised edition of Vol. 2 was published in Nov., 1964.)\\n\\n\\uf09f The Shikoku QC Research Group was\\n\\nestablished. (JSA)\\n\\n\\uf09f QC slides were released. (JSA) \\uf09f Konishi & Taguchi proposed the linear graph method in their book Orthogonal Array Table and Allocation Type.\\n\\n1959\\n\\nFeb. 1\\n\\n\\uf09f The 1st QCG (QC GOLF) competition\\n\\n\\uf09f Dr. Shewhart visited Japan and gave', metadata={'source': '/content/gdrive/MyDrive/Projects/Digital_Deming/src_content/ParallelChronology_Ver2_150717.pdf'}), Document(page_content='A Parallel Chronology of\\n\\nProf. Kaoru Ishikawa’s Life and TQC in Japan\\n\\nA Parallel Chronology of Prof. Kaoru Ishikawa’s Life and TQC in Japan\\n\\nProf. Ishikawa’s Life\\n\\nMajor Events in the Development of QC\\n\\n\\uf09f Born in Nishigahara, Takinogawa Ward, Tokyo City as the first son of Ichiro and Tomiko Ishikawa\\n\\nYear\\n\\n1915\\n\\nJuly 13\\n\\n1923\\n\\n\\uf09f Entered Elementary School attached to\\n\\n\\uf09f Shewhart devised the control chart.\\n\\n(Age 8)\\n\\nTokyo Higher Normal School\\n\\n(1924)\\n\\n1928\\n\\n\\uf09f Entered Junior High School attached to\\n\\n(Age 13)\\n\\nTokyo Higher Normal School\\n\\n1933\\n\\n\\uf09f Kinnosuke Ogura suggested the\\n\\npossibility of the application of statistical methods to the production process. (1924)\\n\\n(Age 18)\\n\\n\\uf09f Entered Tokyo High School\\n\\n\\uf09f Fisher’s Statistical Method for Research\\n\\nWorkers was published. (1925) \\uf09f Yasushi Ishida (Tokyo Electric\\n\\nCompany) introduced statistical methods to the production of lightbulbs. (1929) \\uf09f Dodge and Roming proposed a method of sampling inspection with screening. (1929)', metadata={'source': '/content/gdrive/MyDrive/Projects/Digital_Deming/src_content/ParallelChronology_Ver2_150717.pdf'}), Document(page_content='\\uf09f Statistical mathematicians led by Jiro Yamauchi instructed QC methods at military factories.\\n\\n\\uf09f Dodge proposed the method of sampling inspection plan for continual production (CSP-1).\\n\\n\\uf09f Toshio Kitagawa proposed the methods\\n\\nA Parallel Chronology of Prof. Kaoru Ishikawa’s Life and TQC in Japan\\n\\nYear\\n\\nProf. Ishikawa’s Life\\n\\nMajor Events in the Development of QC\\n\\n1944 March 17\\n\\n\\uf09f His first son, Tadashi, was born.\\n\\nof single and double sampling inspection plan.\\n\\n\\uf09f Kosei-kai, Japan Society of Technology, and All Japan Society of Scientists and Engineers were dissolved and the Great Japan Society of Technology (the predecessor of the Union of Japanese Scientists and Engineers) was founded. \\uf09f The Ministry of Education established the\\n\\nInstitute of Statistical Mathematics.\\n\\n(Age 29)\\n\\n1945 Autumn\\n\\nOct. 25 (Age 30)\\n\\n1946\\n\\n(Age 31)\\n\\n1947\\n\\nJan. 18\\n\\n(Age 32)\\n\\n\\uf09f He was transferred to Nissan Liquid Fuel’s Head Office and moved to Kamiishiwara Chofu Town, Kitatama County, Tokyo.', metadata={'source': '/content/gdrive/MyDrive/Projects/Digital_Deming/src_content/ParallelChronology_Ver2_150717.pdf'}), Document(page_content='1) AGREE: Advisory Group on Reliability of Electronic Equipment 2) AOTS: Association for Overseas Technical Scholarship 3) APO: Asian Productivity Organization 4) ASA: American Standards Association 5) ASQC: American Society for Quality Control 6) BS: British Standards 7) CCS: Civil Communication Section 8) COSCO: Control System Committee 9) EOQC: European Organization for Quality Control 10) EOQ: European Organization for Quality 11) EFQM: European Foundation for Quality Management 12) FMES: Japan Federation of Managerial Engineering Societies\\n\\n524\\n\\nA Parallel Chronology of Prof. Kaoru Ishikawa’s Life and TQC in Japan', metadata={'source': '/content/gdrive/MyDrive/Projects/Digital_Deming/src_content/ParallelChronology_Ver2_150717.pdf'}), Document(page_content='prize. (Nov.)\\n\\n\\uf09f The Japan Federation of Managerial Engineering Societies (FMES) was established. (JSQC, JIMA, and ORSJ)\\n\\n\\uf09f The Act on Science Council of Japan was revised. (Cabinet decision). “Management engineering” was added to “Part 5: Engineering.”\\n\\n\\uf09f ICQCC ’84-Manila was held. \\uf09f The 38th QCS: Sales department and\\n\\nTQC.\\n\\n\\uf09f The 39th QCS: Current situations and\\n\\nissues of TQC.\\n\\n1985\\n\\nJune 15\\n\\n\\uf09f He achieved a hole-in-one (at Tomei\\n\\n\\uf09f The number of countries where QC circle\\n\\nGotemba Country Club). \\uf09f He became the director of the\\n\\nAssociation for Overseas Technical Scholarship. (–87)\\n\\nactivities are conducted reached 52. \\uf09f The Software QC Research Group was\\n\\nestablished. (Apr., JUSE)\\n\\n\\uf09f ICQCC ’85-TOKYO was held. (May,\\n\\n\\uf09f He became the accounting audit for the\\n\\nJUSE)\\n\\nPrivate University Council for Information Processing Education. \\uf09f He became the chair of the ICQCC ’85-TOKYO Program Committee.', metadata={'source': '/content/gdrive/MyDrive/Projects/Digital_Deming/src_content/ParallelChronology_Ver2_150717.pdf'}), Document(page_content='Medal. (ASQC)\\n\\n\\uf09f The Pharmaceutical Manufacturing and Quality Control (GMP) Seminar was held. (Sep., JUSE)\\n\\n\\uf09f The Japan Prefabricated Construction\\n\\nSuppliers and Manufacturers Association held TQC seminars.\\n\\n\\uf09f Noboru Takagi was elected as the 22nd\\n\\npresident of the IEC.\\n\\n\\uf09f The 4th ICPR Conference (IE\\n\\ninternational conference) was held. \\uf09f The 24th QCS: Quality design and\\n\\n\\uf09f Quality Control Handbook (New Edition)\\n\\nprocess design.\\n\\nwritten and edited by Ishikawa was published. (The second edition was published in April, 1988, JSA)\\n\\n\\uf09f The 25th QCS: Small-group activities\\n\\nand QC.\\n\\n1978\\n\\nApril 1\\n\\n\\uf09f He became the President of Musashi\\n\\n\\uf09f The Construction Industry TQC\\n\\nInstitute of Technology.\\n\\nRound-table Conference was held. (JSA)\\n\\n\\uf09f He became the director of Goto-Ikueikai. \\uf09f He became the director of the Tokyu Foundation for Foreign Students.\\n\\n\\uf09f He became the chairperson of the board\\n\\nof directors of the Japan-China Industrial Technology and Culture Center. (–82)', metadata={'source': '/content/gdrive/MyDrive/Projects/Digital_Deming/src_content/ParallelChronology_Ver2_150717.pdf'}), Document(page_content='\\uf09f The Taiwanese QC Team visited Japan and attended the QC Conference for Foreman and the QC Conference for Manager and Staff.\\n\\n\\uf09f The 7th QCS: Quality Assurance and\\n\\nreliability.\\n\\n\\uf09f The 8th QCS: Sales activities and QC.\\n\\n\\uf09f ICQC ’69-TOKYO (the first international QC conference held on a world-wide level) was held in Tokyo. (Oct., JUSE)\\n\\n\\uf09f IAQ was founded. (Oct., Tokyo) \\uf09f The Kansai ZD Group’s conference was\\n\\nheld. (JMA)\\n\\n\\uf09f The QC Application Seminar for Office and Sales Department was held. (JSA) \\uf09f The Self Motivated Micro-Management (Jishu-Kanri; JK) Activity Committee held their JK activity report meeting. (Japan Iron and Steel Federation)\\n\\n\\uf09f The 1st Tochigi Q-S Conference, and the 1st Tohoku Q-S Conference were held. (JSA)\\n\\n\\uf09f The Yamanashi Prefecture QC Research Group was established. (Kofu Chamber of Commerce and Industry)\\n\\n\\uf09f A questionnaire survey on in-house\\n\\nstandardization and quality control was conducted. (Agency of Industrial Science and Technology/JSA)', metadata={'source': '/content/gdrive/MyDrive/Projects/Digital_Deming/src_content/ParallelChronology_Ver2_150717.pdf'}), Document(page_content='1) AGREE: Advisory Group on Reliability of Electronic Equipment 2) AOTS: Association for Overseas Technical Scholarship 3) APO: Asian Productivity Organization 4) ASA: American Standards Association 5) ASQC: American Society for Quality Control 6) BS: British Standards 7) CCS: Civil Communication Section 8) COSCO: Control System Committee 9) EOQC: European Organization for Quality Control 10) EOQ: European Organization for Quality 11) EFQM: European Foundation for Quality Management 12) FMES: Japan Federation of Managerial Engineering Societies\\n\\n524\\n\\nA Parallel Chronology of Prof. Kaoru Ishikawa’s Life and TQC in Japan', metadata={'source': '/content/gdrive/MyDrive/Projects/Digital_Deming/src_content/ParallelChronology_Ver2_150717.pdf'}), Document(page_content='Deming Application Prize. It was the first construction company to win the prize. (Nov.)\\n\\n\\uf09f A committee to research QC in the\\n\\nservice industry was established. (Nov.,\\n\\nA Parallel Chronology of Prof. Kaoru Ishikawa’s Life and TQC in Japan\\n\\nYear\\n\\nProf. Ishikawa’s Life\\n\\nMajor Events in the Development of QC\\n\\ncommissioned by the Ministry of the Environment.)\\n\\n\\uf09f His book Control Points of Quality (joint authorship) (Zeimukeiri Kyokai) was awarded Nikkei Quality Control Literature Prize.\\n\\nJUSE)\\n\\n\\uf09f The 28th QCS: New product planning\\n\\nand market research.\\n\\n\\uf09f The 29th QCS: Future Quality\\n\\nControl—challenges in the 1980s.\\n\\n1980\\n\\n\\uf09f He became a council member of the Japan Standards Association. (–84)\\n\\n\\uf09f He became a council member of the Japanese Society for Quality Control. (–82)\\n\\n\\uf09f He became the chair of the Nuclear\\n\\nPower Plant Quality Assurance Review Committee. (MITI)\\n\\n\\uf09f He became the chair of the Management\\n\\nResearch Group of Japan-China Economic Association.', metadata={'source': '/content/gdrive/MyDrive/Projects/Digital_Deming/src_content/ParallelChronology_Ver2_150717.pdf'}), Document(page_content='University. (–70)\\n\\n\\uf09f He gave a special lecture and acted as a discussion leader at the Quality Control Symposium held in Tokyo, welcoming representatives from various countries in Asia. (APO)\\n\\n\\uf09f He published How to Establish Product\\n\\nStandards of Japanese Industrial Standards. (JSA)\\n\\n\\uf09f He became an advisor to the Japan\\n\\nProductivity Center.\\n\\n(Age 49)\\n\\n507\\n\\nA Parallel Chronology of Prof. Kaoru Ishikawa’s Life and TQC in Japan\\n\\nYear\\n\\n1965\\n\\nProf. Ishikawa’s Life\\n\\nMajor Events in the Development of QC\\n\\n\\uf09f He joined the 2nd QC Overseas Research\\n\\n\\uf09f Genba To QC-magazine established the\\n\\nTeam as the head of the delegation (JUSE). He introduced the activities of QC circles at the ASQC Annual Conference. \\uf09f He became a member of the Quality Control Symposium Organizing Committee. (–78, JUSE)\\n\\n\\uf09f JIS M 8100 “Particulate materials –\\n\\nGeneral rules for methods of sampling” was established. (He served as the chair of the Draft Committee.)\\n\\nFQC Award. (Jan., JUSE)', metadata={'source': '/content/gdrive/MyDrive/Projects/Digital_Deming/src_content/ParallelChronology_Ver2_150717.pdf'}), Document(page_content='\\uf09f The Deming Application Prize for Small Enterprise was established. (Nov.) The first winner was Nakayo, Inc.\\n\\n\\uf09f The Kyushu QC Research Group was\\n\\n(Age 42)\\n\\n1958\\n\\nFeb.\\n\\n(Age 43)\\n\\n\\uf09f Quality Control Guidebook (Vol. 1, Vol.\\n\\nestablished. (JSA)\\n\\n504\\n\\nA Parallel Chronology of Prof. Kaoru Ishikawa’s Life and TQC in Japan\\n\\nYear\\n\\nProf. Ishikawa’s Life\\n\\nMajor Events in the Development of QC\\n\\n2), written and edited by Ishikawa, were published. (A revised edition of Vol. 1 was published in July, 1963 and a revised edition of Vol. 2 was published in Nov., 1964.)\\n\\n\\uf09f The Shikoku QC Research Group was\\n\\nestablished. (JSA)\\n\\n\\uf09f QC slides were released. (JSA) \\uf09f Konishi & Taguchi proposed the linear graph method in their book Orthogonal Array Table and Allocation Type.\\n\\n1959\\n\\nFeb. 1\\n\\n\\uf09f The 1st QCG (QC GOLF) competition\\n\\n\\uf09f Dr. Shewhart visited Japan and gave', metadata={'source': '/content/gdrive/MyDrive/Projects/Digital_Deming/src_content/ParallelChronology_Ver2_150717.pdf'}), Document(page_content='1) AGREE: Advisory Group on Reliability of Electronic Equipment 2) AOTS: Association for Overseas Technical Scholarship 3) APO: Asian Productivity Organization 4) ASA: American Standards Association 5) ASQC: American Society for Quality Control 6) BS: British Standards 7) CCS: Civil Communication Section 8) COSCO: Control System Committee 9) EOQC: European Organization for Quality Control 10) EOQ: European Organization for Quality 11) EFQM: European Foundation for Quality Management 12) FMES: Japan Federation of Managerial Engineering Societies\\n\\n524\\n\\nA Parallel Chronology of Prof. Kaoru Ishikawa’s Life and TQC in Japan', metadata={'source': '/content/gdrive/MyDrive/Projects/Digital_Deming/src_content/ParallelChronology_Ver2_150717.pdf'}), Document(page_content='Deming Application Prize. It was the first construction company to win the prize. (Nov.)\\n\\n\\uf09f A committee to research QC in the\\n\\nservice industry was established. (Nov.,\\n\\nA Parallel Chronology of Prof. Kaoru Ishikawa’s Life and TQC in Japan\\n\\nYear\\n\\nProf. Ishikawa’s Life\\n\\nMajor Events in the Development of QC\\n\\ncommissioned by the Ministry of the Environment.)\\n\\n\\uf09f His book Control Points of Quality (joint authorship) (Zeimukeiri Kyokai) was awarded Nikkei Quality Control Literature Prize.\\n\\nJUSE)\\n\\n\\uf09f The 28th QCS: New product planning\\n\\nand market research.\\n\\n\\uf09f The 29th QCS: Future Quality\\n\\nControl—challenges in the 1980s.\\n\\n1980\\n\\n\\uf09f He became a council member of the Japan Standards Association. (–84)\\n\\n\\uf09f He became a council member of the Japanese Society for Quality Control. (–82)\\n\\n\\uf09f He became the chair of the Nuclear\\n\\nPower Plant Quality Assurance Review Committee. (MITI)\\n\\n\\uf09f He became the chair of the Management\\n\\nResearch Group of Japan-China Economic Association.', metadata={'source': '/content/gdrive/MyDrive/Projects/Digital_Deming/src_content/ParallelChronology_Ver2_150717.pdf'}), Document(page_content='by Deming Prize Committee was established. (Nov.)\\n\\n\\uf09f He became a member of the Japan-Soviet\\n\\nThe first winner was Mitsubishi\\n\\nRound-table Conference on Standardization. (JSA)\\n\\n\\uf09f He visited China as a delegation member to research industrial standardization and quality control.\\n\\n\\uf09f He visited Europe as the general leader of the 6th QC Circle Overseas Research Delegation Team. (Head of the delegation; Koichi Ohba) (JUSE) \\uf09f He published Product Liability (joint authorship). (Nov., JUSE Press)\\n\\nHeavy Industries’ Kobe Shipyard.\\n\\n\\uf09f The QC Circle Seminar for Top\\n\\nManagement was held. (Jan., JUSE) \\uf09f Genba To QC-magazine was renamed\\n\\nFQC. (Jan., JUSE)\\n\\n\\uf09f The Distribution Department QC\\n\\nResearch Group (textile field) was established. (Apr., JUSE)\\n\\n\\uf09f The 1st Product Liability Study Team (PLT) to Overseas was dispatched. (Aug., JUSE)\\n\\n\\uf09f The 1st Pacific Area Standards Congress\\n\\n(PASC) was held in Honolulu.\\n\\n\\uf09f The PLP Seminar was held, inviting American experts as lecturers. (Oct., JUSE)', metadata={'source': '/content/gdrive/MyDrive/Projects/Digital_Deming/src_content/ParallelChronology_Ver2_150717.pdf'}), Document(page_content='product liability.\\n\\n1976 March 31\\n\\nApril 1\\n\\n\\uf09f Ishikawa retired from the University of\\n\\n\\uf09f The Iranian QC Research Team visited\\n\\nTokyo.\\n\\nJapan. (APO)\\n\\n\\uf09f He became a professor of the Faculty of Engineering, Science University of Tokyo.\\n\\n\\uf09f The 1st East Asia QC Circle International\\n\\nExchange Meeting was held. (Apr., Seoul)\\n\\nMay 18\\n\\n\\uf09f He became a professor emeritus of the\\n\\n\\uf09f The TQC Promotion Seminar for\\n\\nUniversity of Tokyo.\\n\\n\\uf09f He was awarded with the Asada Medal\\n\\nfrom the Iron and Steel Institute of Japan.\\n\\n\\uf09f He became the head of the 2nd\\n\\nInternationally-Operating Company QC Research Team dispatched to Central and South America. (JUSE)\\n\\n\\uf09f He became a member of PASC. \\uf09f He became an honorary member of the\\n\\nPhilippine Society for Quality.\\n\\n\\uf09f He became the director of JUSE Press. \\uf09f He was awarded with the Fuel Society of\\n\\nPractioners was held. [79–, TQC Seminar for Facilitators] (June, JUSE) \\uf09f “Industrial Standardization Basic', metadata={'source': '/content/gdrive/MyDrive/Projects/Digital_Deming/src_content/ParallelChronology_Ver2_150717.pdf'}), Document(page_content='1) AGREE: Advisory Group on Reliability of Electronic Equipment 2) AOTS: Association for Overseas Technical Scholarship 3) APO: Asian Productivity Organization 4) ASA: American Standards Association 5) ASQC: American Society for Quality Control 6) BS: British Standards 7) CCS: Civil Communication Section 8) COSCO: Control System Committee 9) EOQC: European Organization for Quality Control 10) EOQ: European Organization for Quality 11) EFQM: European Foundation for Quality Management 12) FMES: Japan Federation of Managerial Engineering Societies\\n\\n524\\n\\nA Parallel Chronology of Prof. Kaoru Ishikawa’s Life and TQC in Japan', metadata={'source': '/content/gdrive/MyDrive/Projects/Digital_Deming/src_content/ParallelChronology_Ver2_150717.pdf'}), Document(page_content='International Friendship Club. \\uf09f Quality Assurance Guidebook (JUSE Press) written and edited by Ishikawa was awarded the Nikkei Quality Control Literature Prize.\\n\\nASQC Annual Conference.\\n\\n\\uf09f IAQ meeting was held in Venice in September, at the same time as the EOQC Conference.\\n\\n\\uf09f The 25th anniversary of the Deming\\n\\nPrize. Dr. Deming was invited to Japan. \\uf09f The South Korea’s Industrial Promotion\\n\\nBureau began promoting QC.\\n\\n\\uf09f The 1st National QC Circle Conference\\n\\n514\\n\\nA Parallel Chronology of Prof. Kaoru Ishikawa’s Life and TQC in Japan\\n\\nYear\\n\\nProf. Ishikawa’s Life\\n\\nMajor Events in the Development of QC\\n\\nwas held in South Korea. The 1st QC and Standardization Conference was also held.\\n\\n\\uf09f The Delegation Team from the South\\n\\nKorea’s Industrial Promotion Bureau and the Korean Standards Association Research visited Japan.\\n\\n\\uf09f A delegation team was dispatched to the USSR. (Japan-Soviet Round-table Conference on Standardization) \\uf09f The 21st QCS: Measures to address\\n\\nproduct liability.', metadata={'source': '/content/gdrive/MyDrive/Projects/Digital_Deming/src_content/ParallelChronology_Ver2_150717.pdf'}), Document(page_content='\\uf09f The Deming Application Prize for Small Enterprise was established. (Nov.) The first winner was Nakayo, Inc.\\n\\n\\uf09f The Kyushu QC Research Group was\\n\\n(Age 42)\\n\\n1958\\n\\nFeb.\\n\\n(Age 43)\\n\\n\\uf09f Quality Control Guidebook (Vol. 1, Vol.\\n\\nestablished. (JSA)\\n\\n504\\n\\nA Parallel Chronology of Prof. Kaoru Ishikawa’s Life and TQC in Japan\\n\\nYear\\n\\nProf. Ishikawa’s Life\\n\\nMajor Events in the Development of QC\\n\\n2), written and edited by Ishikawa, were published. (A revised edition of Vol. 1 was published in July, 1963 and a revised edition of Vol. 2 was published in Nov., 1964.)\\n\\n\\uf09f The Shikoku QC Research Group was\\n\\nestablished. (JSA)\\n\\n\\uf09f QC slides were released. (JSA) \\uf09f Konishi & Taguchi proposed the linear graph method in their book Orthogonal Array Table and Allocation Type.\\n\\n1959\\n\\nFeb. 1\\n\\n\\uf09f The 1st QCG (QC GOLF) competition\\n\\n\\uf09f Dr. Shewhart visited Japan and gave', metadata={'source': '/content/gdrive/MyDrive/Projects/Digital_Deming/src_content/ParallelChronology_Ver2_150717.pdf'}), Document(page_content='A Parallel Chronology of\\n\\nProf. Kaoru Ishikawa’s Life and TQC in Japan\\n\\nA Parallel Chronology of Prof. Kaoru Ishikawa’s Life and TQC in Japan\\n\\nProf. Ishikawa’s Life\\n\\nMajor Events in the Development of QC\\n\\n\\uf09f Born in Nishigahara, Takinogawa Ward, Tokyo City as the first son of Ichiro and Tomiko Ishikawa\\n\\nYear\\n\\n1915\\n\\nJuly 13\\n\\n1923\\n\\n\\uf09f Entered Elementary School attached to\\n\\n\\uf09f Shewhart devised the control chart.\\n\\n(Age 8)\\n\\nTokyo Higher Normal School\\n\\n(1924)\\n\\n1928\\n\\n\\uf09f Entered Junior High School attached to\\n\\n(Age 13)\\n\\nTokyo Higher Normal School\\n\\n1933\\n\\n\\uf09f Kinnosuke Ogura suggested the\\n\\npossibility of the application of statistical methods to the production process. (1924)\\n\\n(Age 18)\\n\\n\\uf09f Entered Tokyo High School\\n\\n\\uf09f Fisher’s Statistical Method for Research\\n\\nWorkers was published. (1925) \\uf09f Yasushi Ishida (Tokyo Electric\\n\\nCompany) introduced statistical methods to the production of lightbulbs. (1929) \\uf09f Dodge and Roming proposed a method of sampling inspection with screening. (1929)', metadata={'source': '/content/gdrive/MyDrive/Projects/Digital_Deming/src_content/ParallelChronology_Ver2_150717.pdf'}), Document(page_content='A Parallel Chronology of\\n\\nProf. Kaoru Ishikawa’s Life and TQC in Japan\\n\\nA Parallel Chronology of Prof. Kaoru Ishikawa’s Life and TQC in Japan\\n\\nProf. Ishikawa’s Life\\n\\nMajor Events in the Development of QC\\n\\n\\uf09f Born in Nishigahara, Takinogawa Ward, Tokyo City as the first son of Ichiro and Tomiko Ishikawa\\n\\nYear\\n\\n1915\\n\\nJuly 13\\n\\n1923\\n\\n\\uf09f Entered Elementary School attached to\\n\\n\\uf09f Shewhart devised the control chart.\\n\\n(Age 8)\\n\\nTokyo Higher Normal School\\n\\n(1924)\\n\\n1928\\n\\n\\uf09f Entered Junior High School attached to\\n\\n(Age 13)\\n\\nTokyo Higher Normal School\\n\\n1933\\n\\n\\uf09f Kinnosuke Ogura suggested the\\n\\npossibility of the application of statistical methods to the production process. (1924)\\n\\n(Age 18)\\n\\n\\uf09f Entered Tokyo High School\\n\\n\\uf09f Fisher’s Statistical Method for Research\\n\\nWorkers was published. (1925) \\uf09f Yasushi Ishida (Tokyo Electric\\n\\nCompany) introduced statistical methods to the production of lightbulbs. (1929) \\uf09f Dodge and Roming proposed a method of sampling inspection with screening. (1929)', metadata={'source': '/content/gdrive/MyDrive/Projects/Digital_Deming/src_content/ParallelChronology_Ver2_150717.pdf'}), Document(page_content='University. (–70)\\n\\n\\uf09f He gave a special lecture and acted as a discussion leader at the Quality Control Symposium held in Tokyo, welcoming representatives from various countries in Asia. (APO)\\n\\n\\uf09f He published How to Establish Product\\n\\nStandards of Japanese Industrial Standards. (JSA)\\n\\n\\uf09f He became an advisor to the Japan\\n\\nProductivity Center.\\n\\n(Age 49)\\n\\n507\\n\\nA Parallel Chronology of Prof. Kaoru Ishikawa’s Life and TQC in Japan\\n\\nYear\\n\\n1965\\n\\nProf. Ishikawa’s Life\\n\\nMajor Events in the Development of QC\\n\\n\\uf09f He joined the 2nd QC Overseas Research\\n\\n\\uf09f Genba To QC-magazine established the\\n\\nTeam as the head of the delegation (JUSE). He introduced the activities of QC circles at the ASQC Annual Conference. \\uf09f He became a member of the Quality Control Symposium Organizing Committee. (–78, JUSE)\\n\\n\\uf09f JIS M 8100 “Particulate materials –\\n\\nGeneral rules for methods of sampling” was established. (He served as the chair of the Draft Committee.)\\n\\nFQC Award. (Jan., JUSE)', metadata={'source': '/content/gdrive/MyDrive/Projects/Digital_Deming/src_content/ParallelChronology_Ver2_150717.pdf'}), Document(page_content='Deming Application Prize. It was the first construction company to win the prize. (Nov.)\\n\\n\\uf09f A committee to research QC in the\\n\\nservice industry was established. (Nov.,\\n\\nA Parallel Chronology of Prof. Kaoru Ishikawa’s Life and TQC in Japan\\n\\nYear\\n\\nProf. Ishikawa’s Life\\n\\nMajor Events in the Development of QC\\n\\ncommissioned by the Ministry of the Environment.)\\n\\n\\uf09f His book Control Points of Quality (joint authorship) (Zeimukeiri Kyokai) was awarded Nikkei Quality Control Literature Prize.\\n\\nJUSE)\\n\\n\\uf09f The 28th QCS: New product planning\\n\\nand market research.\\n\\n\\uf09f The 29th QCS: Future Quality\\n\\nControl—challenges in the 1980s.\\n\\n1980\\n\\n\\uf09f He became a council member of the Japan Standards Association. (–84)\\n\\n\\uf09f He became a council member of the Japanese Society for Quality Control. (–82)\\n\\n\\uf09f He became the chair of the Nuclear\\n\\nPower Plant Quality Assurance Review Committee. (MITI)\\n\\n\\uf09f He became the chair of the Management\\n\\nResearch Group of Japan-China Economic Association.', metadata={'source': '/content/gdrive/MyDrive/Projects/Digital_Deming/src_content/ParallelChronology_Ver2_150717.pdf'}), Document(page_content='1) AGREE: Advisory Group on Reliability of Electronic Equipment 2) AOTS: Association for Overseas Technical Scholarship 3) APO: Asian Productivity Organization 4) ASA: American Standards Association 5) ASQC: American Society for Quality Control 6) BS: British Standards 7) CCS: Civil Communication Section 8) COSCO: Control System Committee 9) EOQC: European Organization for Quality Control 10) EOQ: European Organization for Quality 11) EFQM: European Foundation for Quality Management 12) FMES: Japan Federation of Managerial Engineering Societies\\n\\n524\\n\\nA Parallel Chronology of Prof. Kaoru Ishikawa’s Life and TQC in Japan', metadata={'source': '/content/gdrive/MyDrive/Projects/Digital_Deming/src_content/ParallelChronology_Ver2_150717.pdf'}), Document(page_content='A Parallel Chronology of\\n\\nProf. Kaoru Ishikawa’s Life and TQC in Japan\\n\\nA Parallel Chronology of Prof. Kaoru Ishikawa’s Life and TQC in Japan\\n\\nProf. Ishikawa’s Life\\n\\nMajor Events in the Development of QC\\n\\n\\uf09f Born in Nishigahara, Takinogawa Ward, Tokyo City as the first son of Ichiro and Tomiko Ishikawa\\n\\nYear\\n\\n1915\\n\\nJuly 13\\n\\n1923\\n\\n\\uf09f Entered Elementary School attached to\\n\\n\\uf09f Shewhart devised the control chart.\\n\\n(Age 8)\\n\\nTokyo Higher Normal School\\n\\n(1924)\\n\\n1928\\n\\n\\uf09f Entered Junior High School attached to\\n\\n(Age 13)\\n\\nTokyo Higher Normal School\\n\\n1933\\n\\n\\uf09f Kinnosuke Ogura suggested the\\n\\npossibility of the application of statistical methods to the production process. (1924)\\n\\n(Age 18)\\n\\n\\uf09f Entered Tokyo High School\\n\\n\\uf09f Fisher’s Statistical Method for Research\\n\\nWorkers was published. (1925) \\uf09f Yasushi Ishida (Tokyo Electric\\n\\nCompany) introduced statistical methods to the production of lightbulbs. (1929) \\uf09f Dodge and Roming proposed a method of sampling inspection with screening. (1929)', metadata={'source': '/content/gdrive/MyDrive/Projects/Digital_Deming/src_content/ParallelChronology_Ver2_150717.pdf'}), Document(page_content='held at Atami Golf Club. After the reorganization of the department, Ishikawa belonged to the Department of Chemical Engineering, Fuel Engineering Laboratory. (the University of Tokyo)\\n\\n\\uf09f He became the chair of the Editorial\\n\\nCommittee of the JUSE English Report. \\uf09f He became an examiner of the Ministry of International Trade and Industry’s Professional engineers qualification examination. (–61)\\n\\n\\uf09f He became a member of the Council for\\n\\nIndustrial Rationalization. (–61)\\n\\n\\uf09f He became a lecturer of the QC Seminar\\n\\nfor Managers. (JSA)\\n\\nlectures around the country.\\n\\n\\uf09f The QC Seminar for Managers was held.\\n\\n(JSA)\\n\\n\\uf09f The Inspection Seminar was held. (JSA) \\uf09f To celebrate the 10th anniversary of the Industrial Standardization Act, Japan’s Industrial Standardization was published. (Agency of Industrial Science and Technology)\\n\\n\\uf09f The TV series “The Training of Quality', metadata={'source': '/content/gdrive/MyDrive/Projects/Digital_Deming/src_content/ParallelChronology_Ver2_150717.pdf'}), Document(page_content='department, Ishikawa belonged to the 4th Fuel Engineering Laboratory (Applied Combustible Science). (the University of Tokyo)\\n\\n\\uf09f He became a lecturer of the Introductory\\n\\n\\uf09f The QC Seminar for Managers and the QC Seminar for Supervisors started. (Central Japan Industries Association)\\n\\n\\uf09f Introductory Course for Design of\\n\\nExperiment was held. (Apr., JUSE) \\uf09f The Asian Productivity Organization\\n\\nCourse for Design of Experiment. (JUSE)\\n\\n(APO) was founded. (May) \\uf09f Japan became the secretariat of\\n\\n\\uf09f He became a member of the ISO/TC 102 Japan Committee and served as the chair of the Sampling Subcommittee. (–81, Japan Iron and Steel Federation)\\n\\n\\uf09f He was awarded with the Fuel Society of\\n\\n(Age 46) 1962\\n\\nJapan Award.\\n\\nISO/TC102 (iron ore).\\n\\n\\uf09f The Japan Consumers’ Association was\\n\\nfounded. (Sep.)\\n\\n\\uf09f The “Supervisor Special Issue” of\\n\\nHinshitsu Kanri (Statistical Quality Control) was issued. (Nov., JUSE)\\n\\n\\uf09f He became the chair of the editorial board of Genba To QC-magazine. (JUSE)', metadata={'source': '/content/gdrive/MyDrive/Projects/Digital_Deming/src_content/ParallelChronology_Ver2_150717.pdf'}), Document(page_content='\\uf09f How to Operate QC Circle Activities written and edited by Ishikawa was published. (The 1st revised edition was published in July 1976 and the 3rd revised edition was published in April 1991. JUSE)\\n\\n\\uf09f He became a member of the Japanese\\n\\nSociety for Quality Control.\\n\\n1972\\n\\nOct. 27\\n\\n\\uf09f His first son, Tadashi, married Noriko\\n\\nInoue.\\n\\n\\uf09f He joined the 7th QC Overseas Research Team as the head of the delegation and introduced PL issues to Japan. (JUSE) \\uf09f He became a member of the International Cooperation Committee. (–78, ASQC) \\uf09f Ishikawa, as the chair of the Standards\\n\\nRationalization Committee, submitted the Improvement Proposal “Japanese Industrial Standards.” (JSA)\\n\\n\\uf09f He became the chair of the ISO/TC 102/SC 1 7th International Meeting. \\uf09f He became the chair of the organizing\\n\\ncommittee for the International Symposium on the Air Pollution Prevention Technology. (JUSE) \\uf09f He became a member of IAQ. \\uf09f He was awarded with the Grant Medal\\n\\n1971. (ASQC)\\n\\n(Age 57)\\n\\n512', metadata={'source': '/content/gdrive/MyDrive/Projects/Digital_Deming/src_content/ParallelChronology_Ver2_150717.pdf'}), Document(page_content='\\uf09f How to Operate QC Circle Activities written and edited by Ishikawa was published. (The 1st revised edition was published in July 1976 and the 3rd revised edition was published in April 1991. JUSE)\\n\\n\\uf09f He became a member of the Japanese\\n\\nSociety for Quality Control.\\n\\n1972\\n\\nOct. 27\\n\\n\\uf09f His first son, Tadashi, married Noriko\\n\\nInoue.\\n\\n\\uf09f He joined the 7th QC Overseas Research Team as the head of the delegation and introduced PL issues to Japan. (JUSE) \\uf09f He became a member of the International Cooperation Committee. (–78, ASQC) \\uf09f Ishikawa, as the chair of the Standards\\n\\nRationalization Committee, submitted the Improvement Proposal “Japanese Industrial Standards.” (JSA)\\n\\n\\uf09f He became the chair of the ISO/TC 102/SC 1 7th International Meeting. \\uf09f He became the chair of the organizing\\n\\ncommittee for the International Symposium on the Air Pollution Prevention Technology. (JUSE) \\uf09f He became a member of IAQ. \\uf09f He was awarded with the Grant Medal\\n\\n1971. (ASQC)\\n\\n(Age 57)\\n\\n512', metadata={'source': '/content/gdrive/MyDrive/Projects/Digital_Deming/src_content/ParallelChronology_Ver2_150717.pdf'}), Document(page_content='1971\\n\\nthe occasion of Ishikawa’s visit to Taiwan, the 1st National QC Circle Conference was held. (PETT, Taiwan) \\uf09f He became the chair of the ISO/TC 69\\n\\nJapan Committee.\\n\\n\\uf09f He became a lecturer on the “Production\\n\\nControl Course for Machinery Manufacturers” for participants from developing countries.\\n\\n\\uf09f QC Circle Koryo, General Principles of the QC Circle written and edited by Ishikawa was published. (A revised edition was published in Oct. 1990. JUSE)\\n\\n\\uf09f After the reorganization of the faculty,\\n\\nIshikawa belonged to the Department of Reaction Chemistry, the 4th Laboratory (Reaction Management Engineering). (the University of Tokyo)\\n\\n\\uf09f He became the Vice-president of the\\n\\nJapanese Society for Quality Control. (– 74)\\n\\n\\uf09f He became the director of the Union of Japanese Scientists and Engineers. \\uf09f He became the chair of the Sampling Research Group of Environmental Pollution. (–81, JUSE)', metadata={'source': '/content/gdrive/MyDrive/Projects/Digital_Deming/src_content/ParallelChronology_Ver2_150717.pdf'}), Document(page_content='International Friendship Club. \\uf09f Quality Assurance Guidebook (JUSE Press) written and edited by Ishikawa was awarded the Nikkei Quality Control Literature Prize.\\n\\nASQC Annual Conference.\\n\\n\\uf09f IAQ meeting was held in Venice in September, at the same time as the EOQC Conference.\\n\\n\\uf09f The 25th anniversary of the Deming\\n\\nPrize. Dr. Deming was invited to Japan. \\uf09f The South Korea’s Industrial Promotion\\n\\nBureau began promoting QC.\\n\\n\\uf09f The 1st National QC Circle Conference\\n\\n514\\n\\nA Parallel Chronology of Prof. Kaoru Ishikawa’s Life and TQC in Japan\\n\\nYear\\n\\nProf. Ishikawa’s Life\\n\\nMajor Events in the Development of QC\\n\\nwas held in South Korea. The 1st QC and Standardization Conference was also held.\\n\\n\\uf09f The Delegation Team from the South\\n\\nKorea’s Industrial Promotion Bureau and the Korean Standards Association Research visited Japan.\\n\\n\\uf09f A delegation team was dispatched to the USSR. (Japan-Soviet Round-table Conference on Standardization) \\uf09f The 21st QCS: Measures to address\\n\\nproduct liability.', metadata={'source': '/content/gdrive/MyDrive/Projects/Digital_Deming/src_content/ParallelChronology_Ver2_150717.pdf'}), Document(page_content='\\uf09f The 32nd QCS: Data analysis in QC. \\uf09f The 33rd QCS: Review and outlook of the company-wide quality control.\\n\\n\\uf09f He became an honorary advisor to the China Quality Control Association.\\n\\n(Age 66) 1982\\n\\n\\uf09f The Ishikawa Laboratory was established at Musashi Institute of Technology. (–86)\\n\\n\\uf09f He became the chairperson of the board of directors of the Japan-China Science, Technology and Culture Center. (–88) \\uf09f He became the head of the QC Circle Delegation Team and visited China. (JUSE/Japan-China Economic Association)\\n\\n\\uf09f He gave a special lecture at ICQCC ’82-Seoul. (Nov., Korean Industrial Standardization Association)\\n\\n\\uf09f He became a member of the Reliability\\n\\n\\uf09f The QC Circle Delegation Team visited\\n\\nChina. (Sep., JUSE/Japan-China Economic Association)\\n\\n\\uf09f The TQC Special Committee of\\n\\nAssociated General Constructors was established.\\n\\n\\uf09f The symposium “Policy Management in\\n\\nTQC II” was held. (Sep., JSQC)\\n\\n\\uf09f Dr. Deming was invited to Japan. (Nov.,\\n\\nJUSE)', metadata={'source': '/content/gdrive/MyDrive/Projects/Digital_Deming/src_content/ParallelChronology_Ver2_150717.pdf'}), Document(page_content='A Parallel Chronology of\\n\\nProf. Kaoru Ishikawa’s Life and TQC in Japan\\n\\nA Parallel Chronology of Prof. Kaoru Ishikawa’s Life and TQC in Japan\\n\\nProf. Ishikawa’s Life\\n\\nMajor Events in the Development of QC\\n\\n\\uf09f Born in Nishigahara, Takinogawa Ward, Tokyo City as the first son of Ichiro and Tomiko Ishikawa\\n\\nYear\\n\\n1915\\n\\nJuly 13\\n\\n1923\\n\\n\\uf09f Entered Elementary School attached to\\n\\n\\uf09f Shewhart devised the control chart.\\n\\n(Age 8)\\n\\nTokyo Higher Normal School\\n\\n(1924)\\n\\n1928\\n\\n\\uf09f Entered Junior High School attached to\\n\\n(Age 13)\\n\\nTokyo Higher Normal School\\n\\n1933\\n\\n\\uf09f Kinnosuke Ogura suggested the\\n\\npossibility of the application of statistical methods to the production process. (1924)\\n\\n(Age 18)\\n\\n\\uf09f Entered Tokyo High School\\n\\n\\uf09f Fisher’s Statistical Method for Research\\n\\nWorkers was published. (1925) \\uf09f Yasushi Ishida (Tokyo Electric\\n\\nCompany) introduced statistical methods to the production of lightbulbs. (1929) \\uf09f Dodge and Roming proposed a method of sampling inspection with screening. (1929)', metadata={'source': '/content/gdrive/MyDrive/Projects/Digital_Deming/src_content/ParallelChronology_Ver2_150717.pdf'}), Document(page_content='1971\\n\\nthe occasion of Ishikawa’s visit to Taiwan, the 1st National QC Circle Conference was held. (PETT, Taiwan) \\uf09f He became the chair of the ISO/TC 69\\n\\nJapan Committee.\\n\\n\\uf09f He became a lecturer on the “Production\\n\\nControl Course for Machinery Manufacturers” for participants from developing countries.\\n\\n\\uf09f QC Circle Koryo, General Principles of the QC Circle written and edited by Ishikawa was published. (A revised edition was published in Oct. 1990. JUSE)\\n\\n\\uf09f After the reorganization of the faculty,\\n\\nIshikawa belonged to the Department of Reaction Chemistry, the 4th Laboratory (Reaction Management Engineering). (the University of Tokyo)\\n\\n\\uf09f He became the Vice-president of the\\n\\nJapanese Society for Quality Control. (– 74)\\n\\n\\uf09f He became the director of the Union of Japanese Scientists and Engineers. \\uf09f He became the chair of the Sampling Research Group of Environmental Pollution. (–81, JUSE)', metadata={'source': '/content/gdrive/MyDrive/Projects/Digital_Deming/src_content/ParallelChronology_Ver2_150717.pdf'}), Document(page_content='\\uf09f How to Operate QC Circle Activities written and edited by Ishikawa was published. (The 1st revised edition was published in July 1976 and the 3rd revised edition was published in April 1991. JUSE)\\n\\n\\uf09f He became a member of the Japanese\\n\\nSociety for Quality Control.\\n\\n1972\\n\\nOct. 27\\n\\n\\uf09f His first son, Tadashi, married Noriko\\n\\nInoue.\\n\\n\\uf09f He joined the 7th QC Overseas Research Team as the head of the delegation and introduced PL issues to Japan. (JUSE) \\uf09f He became a member of the International Cooperation Committee. (–78, ASQC) \\uf09f Ishikawa, as the chair of the Standards\\n\\nRationalization Committee, submitted the Improvement Proposal “Japanese Industrial Standards.” (JSA)\\n\\n\\uf09f He became the chair of the ISO/TC 102/SC 1 7th International Meeting. \\uf09f He became the chair of the organizing\\n\\ncommittee for the International Symposium on the Air Pollution Prevention Technology. (JUSE) \\uf09f He became a member of IAQ. \\uf09f He was awarded with the Grant Medal\\n\\n1971. (ASQC)\\n\\n(Age 57)\\n\\n512', metadata={'source': '/content/gdrive/MyDrive/Projects/Digital_Deming/src_content/ParallelChronology_Ver2_150717.pdf'}), Document(page_content='Deming Application Prize. It was the first construction company to win the prize. (Nov.)\\n\\n\\uf09f A committee to research QC in the\\n\\nservice industry was established. (Nov.,\\n\\nA Parallel Chronology of Prof. Kaoru Ishikawa’s Life and TQC in Japan\\n\\nYear\\n\\nProf. Ishikawa’s Life\\n\\nMajor Events in the Development of QC\\n\\ncommissioned by the Ministry of the Environment.)\\n\\n\\uf09f His book Control Points of Quality (joint authorship) (Zeimukeiri Kyokai) was awarded Nikkei Quality Control Literature Prize.\\n\\nJUSE)\\n\\n\\uf09f The 28th QCS: New product planning\\n\\nand market research.\\n\\n\\uf09f The 29th QCS: Future Quality\\n\\nControl—challenges in the 1980s.\\n\\n1980\\n\\n\\uf09f He became a council member of the Japan Standards Association. (–84)\\n\\n\\uf09f He became a council member of the Japanese Society for Quality Control. (–82)\\n\\n\\uf09f He became the chair of the Nuclear\\n\\nPower Plant Quality Assurance Review Committee. (MITI)\\n\\n\\uf09f He became the chair of the Management\\n\\nResearch Group of Japan-China Economic Association.', metadata={'source': '/content/gdrive/MyDrive/Projects/Digital_Deming/src_content/ParallelChronology_Ver2_150717.pdf'}), Document(page_content='Deming Application Prize. It was the first construction company to win the prize. (Nov.)\\n\\n\\uf09f A committee to research QC in the\\n\\nservice industry was established. (Nov.,\\n\\nA Parallel Chronology of Prof. Kaoru Ishikawa’s Life and TQC in Japan\\n\\nYear\\n\\nProf. Ishikawa’s Life\\n\\nMajor Events in the Development of QC\\n\\ncommissioned by the Ministry of the Environment.)\\n\\n\\uf09f His book Control Points of Quality (joint authorship) (Zeimukeiri Kyokai) was awarded Nikkei Quality Control Literature Prize.\\n\\nJUSE)\\n\\n\\uf09f The 28th QCS: New product planning\\n\\nand market research.\\n\\n\\uf09f The 29th QCS: Future Quality\\n\\nControl—challenges in the 1980s.\\n\\n1980\\n\\n\\uf09f He became a council member of the Japan Standards Association. (–84)\\n\\n\\uf09f He became a council member of the Japanese Society for Quality Control. (–82)\\n\\n\\uf09f He became the chair of the Nuclear\\n\\nPower Plant Quality Assurance Review Committee. (MITI)\\n\\n\\uf09f He became the chair of the Management\\n\\nResearch Group of Japan-China Economic Association.', metadata={'source': '/content/gdrive/MyDrive/Projects/Digital_Deming/src_content/ParallelChronology_Ver2_150717.pdf'}), Document(page_content='A Parallel Chronology of\\n\\nProf. Kaoru Ishikawa’s Life and TQC in Japan\\n\\nA Parallel Chronology of Prof. Kaoru Ishikawa’s Life and TQC in Japan\\n\\nProf. Ishikawa’s Life\\n\\nMajor Events in the Development of QC\\n\\n\\uf09f Born in Nishigahara, Takinogawa Ward, Tokyo City as the first son of Ichiro and Tomiko Ishikawa\\n\\nYear\\n\\n1915\\n\\nJuly 13\\n\\n1923\\n\\n\\uf09f Entered Elementary School attached to\\n\\n\\uf09f Shewhart devised the control chart.\\n\\n(Age 8)\\n\\nTokyo Higher Normal School\\n\\n(1924)\\n\\n1928\\n\\n\\uf09f Entered Junior High School attached to\\n\\n(Age 13)\\n\\nTokyo Higher Normal School\\n\\n1933\\n\\n\\uf09f Kinnosuke Ogura suggested the\\n\\npossibility of the application of statistical methods to the production process. (1924)\\n\\n(Age 18)\\n\\n\\uf09f Entered Tokyo High School\\n\\n\\uf09f Fisher’s Statistical Method for Research\\n\\nWorkers was published. (1925) \\uf09f Yasushi Ishida (Tokyo Electric\\n\\nCompany) introduced statistical methods to the production of lightbulbs. (1929) \\uf09f Dodge and Roming proposed a method of sampling inspection with screening. (1929)', metadata={'source': '/content/gdrive/MyDrive/Projects/Digital_Deming/src_content/ParallelChronology_Ver2_150717.pdf'}), Document(page_content='\\uf09f How to Operate QC Circle Activities written and edited by Ishikawa was published. (The 1st revised edition was published in July 1976 and the 3rd revised edition was published in April 1991. JUSE)\\n\\n\\uf09f He became a member of the Japanese\\n\\nSociety for Quality Control.\\n\\n1972\\n\\nOct. 27\\n\\n\\uf09f His first son, Tadashi, married Noriko\\n\\nInoue.\\n\\n\\uf09f He joined the 7th QC Overseas Research Team as the head of the delegation and introduced PL issues to Japan. (JUSE) \\uf09f He became a member of the International Cooperation Committee. (–78, ASQC) \\uf09f Ishikawa, as the chair of the Standards\\n\\nRationalization Committee, submitted the Improvement Proposal “Japanese Industrial Standards.” (JSA)\\n\\n\\uf09f He became the chair of the ISO/TC 102/SC 1 7th International Meeting. \\uf09f He became the chair of the organizing\\n\\ncommittee for the International Symposium on the Air Pollution Prevention Technology. (JUSE) \\uf09f He became a member of IAQ. \\uf09f He was awarded with the Grant Medal\\n\\n1971. (ASQC)\\n\\n(Age 57)\\n\\n512', metadata={'source': '/content/gdrive/MyDrive/Projects/Digital_Deming/src_content/ParallelChronology_Ver2_150717.pdf'}), Document(page_content='\\uf09f The Deming Application Prize for Small Enterprise was established. (Nov.) The first winner was Nakayo, Inc.\\n\\n\\uf09f The Kyushu QC Research Group was\\n\\n(Age 42)\\n\\n1958\\n\\nFeb.\\n\\n(Age 43)\\n\\n\\uf09f Quality Control Guidebook (Vol. 1, Vol.\\n\\nestablished. (JSA)\\n\\n504\\n\\nA Parallel Chronology of Prof. Kaoru Ishikawa’s Life and TQC in Japan\\n\\nYear\\n\\nProf. Ishikawa’s Life\\n\\nMajor Events in the Development of QC\\n\\n2), written and edited by Ishikawa, were published. (A revised edition of Vol. 1 was published in July, 1963 and a revised edition of Vol. 2 was published in Nov., 1964.)\\n\\n\\uf09f The Shikoku QC Research Group was\\n\\nestablished. (JSA)\\n\\n\\uf09f QC slides were released. (JSA) \\uf09f Konishi & Taguchi proposed the linear graph method in their book Orthogonal Array Table and Allocation Type.\\n\\n1959\\n\\nFeb. 1\\n\\n\\uf09f The 1st QCG (QC GOLF) competition\\n\\n\\uf09f Dr. Shewhart visited Japan and gave', metadata={'source': '/content/gdrive/MyDrive/Projects/Digital_Deming/src_content/ParallelChronology_Ver2_150717.pdf'}), Document(page_content='\\uf09f He became the vice-chair of the Reliability and Maintainability Symposium Organizing Committee. (JUSE)\\n\\n\\uf09f He became the chair of the Organizing Committee of the JUSE Course for Purchasing. (JUSE)\\n\\n\\uf09f The Sensory Test Overseas Research Team was dispatched. (May, JUSE) \\uf09f The Standardization Mission Team (headed by Hidehiko Azuma) was dispatched to the USSR. (JSA) \\uf09f The 2nd Japan-America Joint Symposium on Bulk Material Sampling was held. (Oct., Hawaii)\\n\\n\\uf09f October 14 was declared as World\\n\\nStandards Day. (ISO)\\n\\n\\uf09f The Japanese Society for Quality Control foundation meeting was held. (Nov.) \\uf09f The 11th QCS: Planning and quality. \\uf09f The 12th QCS: Product safety, pollution\\n\\nand QC.\\n\\n\\uf09f The QC Correspondence Basic Course for Foremen was held. (Jan., JUSE) \\uf09f The QC Circle Hokkaido Regional\\n\\nChapter was founded. (March, QC Circle Headquarters)\\n\\n\\uf09f Reliability Symposium [71–, Reliability and Maintainability Symposium] was held. (Apr., JUSE)\\n\\n\\uf09f The Japanese Society for Quality Control', metadata={'source': '/content/gdrive/MyDrive/Projects/Digital_Deming/src_content/ParallelChronology_Ver2_150717.pdf'}), Document(page_content='Methods. (June, JUSE Press)\\n\\nestablished. (JSA)\\n\\n\\uf09f The Professional Engineer Act came into effect, which created the qualification of “production management engineer.”\\n\\n\\uf09f George Box proposed EVOP. \\uf09f The radio programs New Management\\n\\nand Quality Control (57), Basic Course on Production Management (58), Introduction to Production Management (59), Production Management Made Simple (60), Quality Control Made Simple (61), and Introduction to Quality Control (62) were broadcast on NHK Radio 2.\\n\\n\\uf09f He received a Ph.D. in engineering from the University of Tokyo. His doctoral thesis was “Coal Sampling.”\\n\\n\\uf09f He visited the US as the deputy of the QC Special Delegation. (Head of the delegation: Noboru Yamaguchi) (Jan., JPC)\\n\\n\\uf09f He became a member of The Japan\\n\\nPetroleum Institute.\\n\\n\\uf09f The Reliability Research Committee was\\n\\nestablished. (Oct., JUSE) \\uf09f The 1st National Meeting of\\n\\nStandardization was held in Tokyo. (Oct., JSA)', metadata={'source': '/content/gdrive/MyDrive/Projects/Digital_Deming/src_content/ParallelChronology_Ver2_150717.pdf'}), Document(page_content='established. (April, JUSE)\\n\\n\\uf09f The QC Seminar for Managers was held.\\n\\n(May, JUSE)\\n\\n\\uf09f The Design of Experiment Seminar was\\n\\nheld. (May, JUSE)\\n\\n\\uf09f The JUSE Press, LTD. was established in June. (Renamed JUSE Press, Ltd. in Nov. 1966)\\n\\n\\uf09f Research on QC implementation in Japan\\n\\nwas conducted. (JSA)\\n\\n\\uf09f The Japan Industrial Training\\n\\nAssociation was founded and started the promotion of TWI and WSP.\\n\\n\\uf09f The Standardization Seminar was held.\\n\\n(JSA)\\n\\n\\uf09f He became the chief of ASQC Japan\\n\\nBranch. (–58)\\n\\n\\uf09f The JIS journal was renamed Standardization. (Jan., JSA)\\n\\n\\uf09f He appeared as a lecturer on Nihon\\n\\n\\uf09f The 6-day QC Introductory Seminar was\\n\\nShort-Wave Broadcasting’s program “QC Courses.”\\n\\nheld. (Apr., JUSE)\\n\\n\\uf09f The first issue of Operations Research journal was published. (June, JUSE)\\n\\n\\uf09f Nihon Short-Wave Broadcasting broadcast a program titled the QC\\n\\n503\\n\\n(Age 40) 1956\\n\\n(Age 41)\\n\\nA Parallel Chronology of Prof. Kaoru Ishikawa’s Life and TQC in Japan\\n\\nYear\\n\\nProf. Ishikawa’s Life', metadata={'source': '/content/gdrive/MyDrive/Projects/Digital_Deming/src_content/ParallelChronology_Ver2_150717.pdf'}), Document(page_content='1951\\n\\n\\uf09f After the reorganization of the\\n\\n\\uf09f The first issue of Reports of Statistical\\n\\ndepartment, Ishikawa belonged to the Department of Applied Chemistry, Chemical Engineering Course, Fuel Engineering Laboratory. (The University of Tokyo)\\n\\n\\uf09f He became a member of the Deming\\n\\nApplication Research, JUSE (hereinafter referred to as the “JUSE English Report”) was published. (March, JUSE)\\n\\n\\uf09f The QC Committee was established. (July, the Iron and Steel Institute of Japan)\\n\\nPrize Committee. He also served as the Vice-chair of the Deming Application Prize Subcommittee. (–85)\\n\\n\\uf09f The Deming Prize [Prize for Individuals and Application Prize] was established. (June, JUSE)\\n\\n\\uf09f He became the chair of the Sampling\\n\\n\\uf09f Dr. Deming visited Japan. (July–Oct.,\\n\\nResearch Group. (JUSE)\\n\\nJUSE)\\n\\n\\uf09f He became the chair of the QC\\n\\nConference. (–71, JUSE)\\n\\n\\uf09f He served as a member of the Editorial Committee of the JUSE English Report.\\n\\n\\uf09f He became a member of the American\\n\\nSociety for Quality Control.\\n\\n(Age 36)', metadata={'source': '/content/gdrive/MyDrive/Projects/Digital_Deming/src_content/ParallelChronology_Ver2_150717.pdf'}), Document(page_content='Methods. (June, JUSE Press)\\n\\nestablished. (JSA)\\n\\n\\uf09f The Professional Engineer Act came into effect, which created the qualification of “production management engineer.”\\n\\n\\uf09f George Box proposed EVOP. \\uf09f The radio programs New Management\\n\\nand Quality Control (57), Basic Course on Production Management (58), Introduction to Production Management (59), Production Management Made Simple (60), Quality Control Made Simple (61), and Introduction to Quality Control (62) were broadcast on NHK Radio 2.\\n\\n\\uf09f He received a Ph.D. in engineering from the University of Tokyo. His doctoral thesis was “Coal Sampling.”\\n\\n\\uf09f He visited the US as the deputy of the QC Special Delegation. (Head of the delegation: Noboru Yamaguchi) (Jan., JPC)\\n\\n\\uf09f He became a member of The Japan\\n\\nPetroleum Institute.\\n\\n\\uf09f The Reliability Research Committee was\\n\\nestablished. (Oct., JUSE) \\uf09f The 1st National Meeting of\\n\\nStandardization was held in Tokyo. (Oct., JSA)', metadata={'source': '/content/gdrive/MyDrive/Projects/Digital_Deming/src_content/ParallelChronology_Ver2_150717.pdf'}), Document(page_content='\\uf09f He became the vice-chair of the Reliability and Maintainability Symposium Organizing Committee. (JUSE)\\n\\n\\uf09f He became the chair of the Organizing Committee of the JUSE Course for Purchasing. (JUSE)\\n\\n\\uf09f The Sensory Test Overseas Research Team was dispatched. (May, JUSE) \\uf09f The Standardization Mission Team (headed by Hidehiko Azuma) was dispatched to the USSR. (JSA) \\uf09f The 2nd Japan-America Joint Symposium on Bulk Material Sampling was held. (Oct., Hawaii)\\n\\n\\uf09f October 14 was declared as World\\n\\nStandards Day. (ISO)\\n\\n\\uf09f The Japanese Society for Quality Control foundation meeting was held. (Nov.) \\uf09f The 11th QCS: Planning and quality. \\uf09f The 12th QCS: Product safety, pollution\\n\\nand QC.\\n\\n\\uf09f The QC Correspondence Basic Course for Foremen was held. (Jan., JUSE) \\uf09f The QC Circle Hokkaido Regional\\n\\nChapter was founded. (March, QC Circle Headquarters)\\n\\n\\uf09f Reliability Symposium [71–, Reliability and Maintainability Symposium] was held. (Apr., JUSE)\\n\\n\\uf09f The Japanese Society for Quality Control', metadata={'source': '/content/gdrive/MyDrive/Projects/Digital_Deming/src_content/ParallelChronology_Ver2_150717.pdf'}), Document(page_content='(Age 57)\\n\\n512\\n\\nPurchasing and Material Department was held. [75–, JUSE Training Course for Procurement and Material Department] (Oct., JUSE)\\n\\n\\uf09f The Multivariate Analysis Research\\n\\nGroup was established. (Nov., JUSE) \\uf09f The All Japan QC Circle Conference was held. (Nov., JUSE) The President of QC Circle Grand Prize was established. \\uf09f The Chubu Quality Control Association\\n\\nwas founded.\\n\\n\\uf09f The 13th QCS: Future QC staff —\\n\\nchallenges in 1970s.\\n\\n\\uf09f The 14th QCS: Quality evaluation.\\n\\n\\uf09f Reliability Study Team to overseas (RET) was dispatched. (July, JUSE)\\n\\n\\uf09f The QC Research Delegation was\\n\\ndispatched to Europe. (Chubu Quality Control Association)\\n\\n\\uf09f There was a presentation on “Quality Table” at Fukuoka QC Conference. \\uf09f Hinshitsu Kanri (Statistical Quality Control) established the SQC Prize. (June, JUSE)\\n\\n\\uf09f The Council for the Trainers of Business Management Technology held a national conference. (July, JUSE)', metadata={'source': '/content/gdrive/MyDrive/Projects/Digital_Deming/src_content/ParallelChronology_Ver2_150717.pdf'}), Document(page_content='JUSE)\\n\\n\\uf09f The QC and Standardization Seminar was\\n\\nheld. (JSA)\\n\\n\\uf09f The Award of the Excellent Factories in\\n\\nImplementation of Industrial Standardization, the Award of the Minister of International Trade and Industry, the Award of Director-General of Agency of Industrial Science and Technology for the Excellent Factory in Implementation of Industrial Standardization and the Award of the Director-General of the Regional Bureau of International Trade and Industry for the Excellent Factory in Implementation of Industrial Standardization were established.\\n\\n\\uf09f He became a part-time lecturer at Gunma\\n\\n\\uf09f Dr. Juran visited Japan. During his\\n\\nUniversity. (–66)\\n\\n(Age 39)\\n\\n\\uf09f He published Introduction to Quality\\n\\n45-day stay in Japan, he gave a special QC Seminar for Executives and a QC\\n\\n502\\n\\nA Parallel Chronology of Prof. Kaoru Ishikawa’s Life and TQC in Japan\\n\\nYear\\n\\nProf. Ishikawa’s Life\\n\\nMajor Events in the Development of QC\\n\\nControl. (JUSE)\\n\\n\\uf09f His book Sampling in Factories', metadata={'source': '/content/gdrive/MyDrive/Projects/Digital_Deming/src_content/ParallelChronology_Ver2_150717.pdf'}), Document(page_content='establishment of the Deming Prize Dr. Deming was invited to Japan. (Nov., JUSE)\\n\\n\\uf09f The Service Industry QC Conference was\\n\\n\\uf09f He became an honorary member of the\\n\\nheld (JUSE)\\n\\nColumbian Quality Control Association.\\n\\n\\uf09f The 40th QCS: TQC—to decide the\\n\\nfuture direction.\\n\\n\\uf09f The 41th QCS: TCC—Measures and\\n\\nperspective.\\n\\n521\\n\\n(Age 70)\\n\\nA Parallel Chronology of Prof. Kaoru Ishikawa’s Life and TQC in Japan\\n\\nYear\\n\\n1986\\n\\nProf. Ishikawa’s Life\\n\\nMajor Events in the Development of QC\\n\\n\\uf09f He gave a lecture to American\\n\\n\\uf09f The 15th Anniversary Party of the\\n\\nHouse of Representatives’ Research Delegation. His lecture inspired them to establish the Malcolm Baldrige National Quality Award. (Jan.)\\n\\n\\uf09f He became the vice-president of the International Standardization Forum. \\uf09f He became an advisory member of the Executive Committee of the 46th Conference of the International Statistical Institute. (–87)\\n\\n\\uf09f He became a program', metadata={'source': '/content/gdrive/MyDrive/Projects/Digital_Deming/src_content/ParallelChronology_Ver2_150717.pdf'}), Document(page_content='by Deming Prize Committee was established. (Nov.)\\n\\n\\uf09f He became a member of the Japan-Soviet\\n\\nThe first winner was Mitsubishi\\n\\nRound-table Conference on Standardization. (JSA)\\n\\n\\uf09f He visited China as a delegation member to research industrial standardization and quality control.\\n\\n\\uf09f He visited Europe as the general leader of the 6th QC Circle Overseas Research Delegation Team. (Head of the delegation; Koichi Ohba) (JUSE) \\uf09f He published Product Liability (joint authorship). (Nov., JUSE Press)\\n\\nHeavy Industries’ Kobe Shipyard.\\n\\n\\uf09f The QC Circle Seminar for Top\\n\\nManagement was held. (Jan., JUSE) \\uf09f Genba To QC-magazine was renamed\\n\\nFQC. (Jan., JUSE)\\n\\n\\uf09f The Distribution Department QC\\n\\nResearch Group (textile field) was established. (Apr., JUSE)\\n\\n\\uf09f The 1st Product Liability Study Team (PLT) to Overseas was dispatched. (Aug., JUSE)\\n\\n\\uf09f The 1st Pacific Area Standards Congress\\n\\n(PASC) was held in Honolulu.\\n\\n\\uf09f The PLP Seminar was held, inviting American experts as lecturers. (Oct., JUSE)', metadata={'source': '/content/gdrive/MyDrive/Projects/Digital_Deming/src_content/ParallelChronology_Ver2_150717.pdf'}), Document(page_content='1951\\n\\n\\uf09f After the reorganization of the\\n\\n\\uf09f The first issue of Reports of Statistical\\n\\ndepartment, Ishikawa belonged to the Department of Applied Chemistry, Chemical Engineering Course, Fuel Engineering Laboratory. (The University of Tokyo)\\n\\n\\uf09f He became a member of the Deming\\n\\nApplication Research, JUSE (hereinafter referred to as the “JUSE English Report”) was published. (March, JUSE)\\n\\n\\uf09f The QC Committee was established. (July, the Iron and Steel Institute of Japan)\\n\\nPrize Committee. He also served as the Vice-chair of the Deming Application Prize Subcommittee. (–85)\\n\\n\\uf09f The Deming Prize [Prize for Individuals and Application Prize] was established. (June, JUSE)\\n\\n\\uf09f He became the chair of the Sampling\\n\\n\\uf09f Dr. Deming visited Japan. (July–Oct.,\\n\\nResearch Group. (JUSE)\\n\\nJUSE)\\n\\n\\uf09f He became the chair of the QC\\n\\nConference. (–71, JUSE)\\n\\n\\uf09f He served as a member of the Editorial Committee of the JUSE English Report.\\n\\n\\uf09f He became a member of the American\\n\\nSociety for Quality Control.\\n\\n(Age 36)', metadata={'source': '/content/gdrive/MyDrive/Projects/Digital_Deming/src_content/ParallelChronology_Ver2_150717.pdf'}), Document(page_content='Deming Application Prize. It was the first construction company to win the prize. (Nov.)\\n\\n\\uf09f A committee to research QC in the\\n\\nservice industry was established. (Nov.,\\n\\nA Parallel Chronology of Prof. Kaoru Ishikawa’s Life and TQC in Japan\\n\\nYear\\n\\nProf. Ishikawa’s Life\\n\\nMajor Events in the Development of QC\\n\\ncommissioned by the Ministry of the Environment.)\\n\\n\\uf09f His book Control Points of Quality (joint authorship) (Zeimukeiri Kyokai) was awarded Nikkei Quality Control Literature Prize.\\n\\nJUSE)\\n\\n\\uf09f The 28th QCS: New product planning\\n\\nand market research.\\n\\n\\uf09f The 29th QCS: Future Quality\\n\\nControl—challenges in the 1980s.\\n\\n1980\\n\\n\\uf09f He became a council member of the Japan Standards Association. (–84)\\n\\n\\uf09f He became a council member of the Japanese Society for Quality Control. (–82)\\n\\n\\uf09f He became the chair of the Nuclear\\n\\nPower Plant Quality Assurance Review Committee. (MITI)\\n\\n\\uf09f He became the chair of the Management\\n\\nResearch Group of Japan-China Economic Association.', metadata={'source': '/content/gdrive/MyDrive/Projects/Digital_Deming/src_content/ParallelChronology_Ver2_150717.pdf'}), Document(page_content='(–83).\\n\\n\\uf09f He became the chair of the International Affairs Group (for the discussion on whether the Deming Application Prize should be awarded to foreign companies.)\\n\\nFrancisco in May at the same time as the ASQC Conference.\\n\\n\\uf09f JIS certified factories were required to elect a responsible person for QC promotion.\\n\\n\\uf09f Yokogawa Electric Singapore became the first foreign company, to whom the use of JIS mark was permitted.\\n\\n\\uf09f The Software Production QC Symposium\\n\\nwas held. (July, JUSE)\\n\\n\\uf09f He published What is Total Quality\\n\\n\\uf09f ICQCC ’81-TOKYO was held. (Sep.,\\n\\nControl? The Japanese Way. (Extended edition was published in Jan., 1984. JUSE Press) [Chinese edition (Taiwan) (’82), French edition (’84), Chinese edition (’84, ’86), English edition (’85), Portuguese edition (’86), Slovenian edition (’87), Dutch edition (’87), Italian edition (’92)]\\n\\nJUSE)\\n\\n\\uf09f The Symposium “Policy Management in\\n\\nTQC” was held. (Sep., JSQC)\\n\\n\\uf09f The Award for Young Researcher’s\\n\\nEncouragement was established. (JSQC)', metadata={'source': '/content/gdrive/MyDrive/Projects/Digital_Deming/src_content/ParallelChronology_Ver2_150717.pdf'}), Document(page_content='held. (June, JUSE)\\n\\nAssociation of Private Universities of Japan.\\n\\n\\uf09f He became the principle instructor at of the “Quality Control Training Course” for Chinese QC engineers. (–86, Chinese Enterprise Management Association/AOTS)\\n\\n\\uf09f The English translation of QC\\n\\nCircle Koryo, General Principle of the QC Circle was published. [Chinese and French editions (’81), Indonesian edition (’83), Portuguese edition (’85), Spanish edition (’86), Marathi edition (’87, India)] (JUSE)\\n\\n\\uf09f The Quality Control Team for Southeast Asia (SEAQCT) was dispatched. (Oct., the head of the delegation: Ikuro Kusaba, JUSE)\\n\\n\\uf09f A ceremony to celebrate the 30th\\n\\nanniversary of the Deming Prize was held, inviting Dr. Deming. (JUSE)\\n\\n\\uf09f The number of countries where QC circle activities are conducted exceeded 35. \\uf09f The Certification and Inspection Course\\n\\nfor participants from developing countries was held. (JICA/JSA)\\n\\n\\uf09f The 30th QCS: QC in service. \\uf09f The 31st QCS: QC in the assembly', metadata={'source': '/content/gdrive/MyDrive/Projects/Digital_Deming/src_content/ParallelChronology_Ver2_150717.pdf'}), Document(page_content='by Deming Prize Committee was established. (Nov.)\\n\\n\\uf09f He became a member of the Japan-Soviet\\n\\nThe first winner was Mitsubishi\\n\\nRound-table Conference on Standardization. (JSA)\\n\\n\\uf09f He visited China as a delegation member to research industrial standardization and quality control.\\n\\n\\uf09f He visited Europe as the general leader of the 6th QC Circle Overseas Research Delegation Team. (Head of the delegation; Koichi Ohba) (JUSE) \\uf09f He published Product Liability (joint authorship). (Nov., JUSE Press)\\n\\nHeavy Industries’ Kobe Shipyard.\\n\\n\\uf09f The QC Circle Seminar for Top\\n\\nManagement was held. (Jan., JUSE) \\uf09f Genba To QC-magazine was renamed\\n\\nFQC. (Jan., JUSE)\\n\\n\\uf09f The Distribution Department QC\\n\\nResearch Group (textile field) was established. (Apr., JUSE)\\n\\n\\uf09f The 1st Product Liability Study Team (PLT) to Overseas was dispatched. (Aug., JUSE)\\n\\n\\uf09f The 1st Pacific Area Standards Congress\\n\\n(PASC) was held in Honolulu.\\n\\n\\uf09f The PLP Seminar was held, inviting American experts as lecturers. (Oct., JUSE)', metadata={'source': '/content/gdrive/MyDrive/Projects/Digital_Deming/src_content/ParallelChronology_Ver2_150717.pdf'}), Document(page_content='JUSE)\\n\\n\\uf09f The QC and Standardization Seminar was\\n\\nheld. (JSA)\\n\\n\\uf09f The Award of the Excellent Factories in\\n\\nImplementation of Industrial Standardization, the Award of the Minister of International Trade and Industry, the Award of Director-General of Agency of Industrial Science and Technology for the Excellent Factory in Implementation of Industrial Standardization and the Award of the Director-General of the Regional Bureau of International Trade and Industry for the Excellent Factory in Implementation of Industrial Standardization were established.\\n\\n\\uf09f He became a part-time lecturer at Gunma\\n\\n\\uf09f Dr. Juran visited Japan. During his\\n\\nUniversity. (–66)\\n\\n(Age 39)\\n\\n\\uf09f He published Introduction to Quality\\n\\n45-day stay in Japan, he gave a special QC Seminar for Executives and a QC\\n\\n502\\n\\nA Parallel Chronology of Prof. Kaoru Ishikawa’s Life and TQC in Japan\\n\\nYear\\n\\nProf. Ishikawa’s Life\\n\\nMajor Events in the Development of QC\\n\\nControl. (JUSE)\\n\\n\\uf09f His book Sampling in Factories', metadata={'source': '/content/gdrive/MyDrive/Projects/Digital_Deming/src_content/ParallelChronology_Ver2_150717.pdf'}), Document(page_content='Internationally-operating Company QC Research Delegation (Southeast Asia). (JUSE)\\n\\n\\uf09f He became a principal lecturer of the\\n\\n“In-Plant Group Training Program in the Field of Quality Improvement for Industrial Products.” (UNIDO/AOTS) \\uf09f JIS Z 8402 “General rules for permissible\\n\\ntolerance of chemical analyses and physical tests” was established. (Ishikawa was the chair of the Draft Committee.) \\uf09f He became an honorary member of the Japan Environmental Measurements & Chemical Analysis Association.\\n\\n\\uf09f Quality Assurance Guidebook edited by Ishikawa was published. (Oct., JUSE Press)\\n\\n\\uf09f The Introductory QC Course for\\n\\nMarketing was held. (March, JUSE) \\uf09f The Housing Industry QC Research Group was established. (MITI)\\n\\n\\uf09f The Service Industry QC Symposium\\n\\nwas held, inviting Dr. Juran. (Oct., JUSE)\\n\\n\\uf09f ISO/TC 69 newly established SC 1. \\uf09f The International Standardization Activities Cooperation Center was founded. (JSA)\\n\\n\\uf09f A Long-term Plan for Industrial', metadata={'source': '/content/gdrive/MyDrive/Projects/Digital_Deming/src_content/ParallelChronology_Ver2_150717.pdf'}), Document(page_content='\\uf09f How to Operate QC Circle Activities written and edited by Ishikawa was published. (The 1st revised edition was published in July 1976 and the 3rd revised edition was published in April 1991. JUSE)\\n\\n\\uf09f He became a member of the Japanese\\n\\nSociety for Quality Control.\\n\\n1972\\n\\nOct. 27\\n\\n\\uf09f His first son, Tadashi, married Noriko\\n\\nInoue.\\n\\n\\uf09f He joined the 7th QC Overseas Research Team as the head of the delegation and introduced PL issues to Japan. (JUSE) \\uf09f He became a member of the International Cooperation Committee. (–78, ASQC) \\uf09f Ishikawa, as the chair of the Standards\\n\\nRationalization Committee, submitted the Improvement Proposal “Japanese Industrial Standards.” (JSA)\\n\\n\\uf09f He became the chair of the ISO/TC 102/SC 1 7th International Meeting. \\uf09f He became the chair of the organizing\\n\\ncommittee for the International Symposium on the Air Pollution Prevention Technology. (JUSE) \\uf09f He became a member of IAQ. \\uf09f He was awarded with the Grant Medal\\n\\n1971. (ASQC)\\n\\n(Age 57)\\n\\n512', metadata={'source': '/content/gdrive/MyDrive/Projects/Digital_Deming/src_content/ParallelChronology_Ver2_150717.pdf'}), Document(page_content='JUSE)\\n\\n\\uf09f The QC and Standardization Seminar was\\n\\nheld. (JSA)\\n\\n\\uf09f The Award of the Excellent Factories in\\n\\nImplementation of Industrial Standardization, the Award of the Minister of International Trade and Industry, the Award of Director-General of Agency of Industrial Science and Technology for the Excellent Factory in Implementation of Industrial Standardization and the Award of the Director-General of the Regional Bureau of International Trade and Industry for the Excellent Factory in Implementation of Industrial Standardization were established.\\n\\n\\uf09f He became a part-time lecturer at Gunma\\n\\n\\uf09f Dr. Juran visited Japan. During his\\n\\nUniversity. (–66)\\n\\n(Age 39)\\n\\n\\uf09f He published Introduction to Quality\\n\\n45-day stay in Japan, he gave a special QC Seminar for Executives and a QC\\n\\n502\\n\\nA Parallel Chronology of Prof. Kaoru Ishikawa’s Life and TQC in Japan\\n\\nYear\\n\\nProf. Ishikawa’s Life\\n\\nMajor Events in the Development of QC\\n\\nControl. (JUSE)\\n\\n\\uf09f His book Sampling in Factories', metadata={'source': '/content/gdrive/MyDrive/Projects/Digital_Deming/src_content/ParallelChronology_Ver2_150717.pdf'}), Document(page_content='Deming Application Prize. It was the first construction company to win the prize. (Nov.)\\n\\n\\uf09f A committee to research QC in the\\n\\nservice industry was established. (Nov.,\\n\\nA Parallel Chronology of Prof. Kaoru Ishikawa’s Life and TQC in Japan\\n\\nYear\\n\\nProf. Ishikawa’s Life\\n\\nMajor Events in the Development of QC\\n\\ncommissioned by the Ministry of the Environment.)\\n\\n\\uf09f His book Control Points of Quality (joint authorship) (Zeimukeiri Kyokai) was awarded Nikkei Quality Control Literature Prize.\\n\\nJUSE)\\n\\n\\uf09f The 28th QCS: New product planning\\n\\nand market research.\\n\\n\\uf09f The 29th QCS: Future Quality\\n\\nControl—challenges in the 1980s.\\n\\n1980\\n\\n\\uf09f He became a council member of the Japan Standards Association. (–84)\\n\\n\\uf09f He became a council member of the Japanese Society for Quality Control. (–82)\\n\\n\\uf09f He became the chair of the Nuclear\\n\\nPower Plant Quality Assurance Review Committee. (MITI)\\n\\n\\uf09f He became the chair of the Management\\n\\nResearch Group of Japan-China Economic Association.', metadata={'source': '/content/gdrive/MyDrive/Projects/Digital_Deming/src_content/ParallelChronology_Ver2_150717.pdf'}), Document(page_content='Deming Application Prize. It was the first construction company to win the prize. (Nov.)\\n\\n\\uf09f A committee to research QC in the\\n\\nservice industry was established. (Nov.,\\n\\nA Parallel Chronology of Prof. Kaoru Ishikawa’s Life and TQC in Japan\\n\\nYear\\n\\nProf. Ishikawa’s Life\\n\\nMajor Events in the Development of QC\\n\\ncommissioned by the Ministry of the Environment.)\\n\\n\\uf09f His book Control Points of Quality (joint authorship) (Zeimukeiri Kyokai) was awarded Nikkei Quality Control Literature Prize.\\n\\nJUSE)\\n\\n\\uf09f The 28th QCS: New product planning\\n\\nand market research.\\n\\n\\uf09f The 29th QCS: Future Quality\\n\\nControl—challenges in the 1980s.\\n\\n1980\\n\\n\\uf09f He became a council member of the Japan Standards Association. (–84)\\n\\n\\uf09f He became a council member of the Japanese Society for Quality Control. (–82)\\n\\n\\uf09f He became the chair of the Nuclear\\n\\nPower Plant Quality Assurance Review Committee. (MITI)\\n\\n\\uf09f He became the chair of the Management\\n\\nResearch Group of Japan-China Economic Association.', metadata={'source': '/content/gdrive/MyDrive/Projects/Digital_Deming/src_content/ParallelChronology_Ver2_150717.pdf'}), Document(page_content='University. (–70)\\n\\n\\uf09f He gave a special lecture and acted as a discussion leader at the Quality Control Symposium held in Tokyo, welcoming representatives from various countries in Asia. (APO)\\n\\n\\uf09f He published How to Establish Product\\n\\nStandards of Japanese Industrial Standards. (JSA)\\n\\n\\uf09f He became an advisor to the Japan\\n\\nProductivity Center.\\n\\n(Age 49)\\n\\n507\\n\\nA Parallel Chronology of Prof. Kaoru Ishikawa’s Life and TQC in Japan\\n\\nYear\\n\\n1965\\n\\nProf. Ishikawa’s Life\\n\\nMajor Events in the Development of QC\\n\\n\\uf09f He joined the 2nd QC Overseas Research\\n\\n\\uf09f Genba To QC-magazine established the\\n\\nTeam as the head of the delegation (JUSE). He introduced the activities of QC circles at the ASQC Annual Conference. \\uf09f He became a member of the Quality Control Symposium Organizing Committee. (–78, JUSE)\\n\\n\\uf09f JIS M 8100 “Particulate materials –\\n\\nGeneral rules for methods of sampling” was established. (He served as the chair of the Draft Committee.)\\n\\nFQC Award. (Jan., JUSE)', metadata={'source': '/content/gdrive/MyDrive/Projects/Digital_Deming/src_content/ParallelChronology_Ver2_150717.pdf'}), Document(page_content='\\uf09f To celebrate the 20th anniversary of the Industrial Standardization Act, The 20-year History of Japan’s Industrial Standardization was published.\\n\\n\\uf09f The 9th QCS: The distinctive features\\n\\nand problems of Japanese QC.\\n\\n\\uf09f The 10th QCS: Reflection and future\\n\\ndevelopment of Japanese QC.\\n\\n(Age 54)\\n\\n1970\\n\\nJan. 20\\n\\n\\uf09f His father, Ichiro Ishikawa, passed away\\n\\nat 84.\\n\\n\\uf09f He became the Vice-chair of the Establishment Committee for the Japanese Society for Quality Control.\\n\\n(Age 55)\\n\\n\\uf09f The Ishikawa Award was established. The Ishikawa Award Committee was established. (June, JUSE)\\n\\n\\uf09f The Japan Quality Control Medal was\\n\\nestablished. (Aug., JUSE)\\n\\n510\\n\\nA Parallel Chronology of Prof. Kaoru Ishikawa’s Life and TQC in Japan\\n\\nYear\\n\\nProf. Ishikawa’s Life\\n\\nMajor Events in the Development of QC\\n\\n(–71)\\n\\n\\uf09f The first winner was Toyota Motor\\n\\n\\uf09f He introduced QC circles to Taiwan. On\\n\\nIndustries (Nov.)\\n\\n1971', metadata={'source': '/content/gdrive/MyDrive/Projects/Digital_Deming/src_content/ParallelChronology_Ver2_150717.pdf'}), Document(page_content='\\uf09f The 1st Software Production Quality Control Study Team (SPCT) was dispatched abroad. (Apr., JUSE) \\uf09f The pioneers of quality control in Japan\\n\\npassed away. Kaoru Ishikawa and Eizaburo Nishibori passed away in April and Shigeru Mizuno in May.\\n\\nA Parallel Chronology of Prof. Kaoru Ishikawa’s Life and TQC in Japan\\n\\nYear\\n\\nProf. Ishikawa’s Life\\n\\nMajor Events in the Development of QC\\n\\nMarch 16\\n\\nEdition). (3A Corporation) \\uf09f He became a fellow of the\\n\\nOperations Research Society of Japan.\\n\\n\\uf09f The 40th anniversary of the QC Basic\\n\\nCourse. The number of people who have completed the course reached 24,000. (JUSE)\\n\\nApril 16\\n\\n\\uf09f Kaoru Ishikawa passed away at the age\\n\\n\\uf09f The 32nd National Meeting of\\n\\nof 73.\\n\\nApril 18\\n\\n\\uf09f A wake was held at his home in\\n\\nTobitakyu, Chofu City.\\n\\nApril 19\\n\\n\\uf09f A private funeral was also held at his\\n\\nApril 24\\n\\nhome.', metadata={'source': '/content/gdrive/MyDrive/Projects/Digital_Deming/src_content/ParallelChronology_Ver2_150717.pdf'}), Document(page_content='1) AGREE: Advisory Group on Reliability of Electronic Equipment 2) AOTS: Association for Overseas Technical Scholarship 3) APO: Asian Productivity Organization 4) ASA: American Standards Association 5) ASQC: American Society for Quality Control 6) BS: British Standards 7) CCS: Civil Communication Section 8) COSCO: Control System Committee 9) EOQC: European Organization for Quality Control 10) EOQ: European Organization for Quality 11) EFQM: European Foundation for Quality Management 12) FMES: Japan Federation of Managerial Engineering Societies\\n\\n524\\n\\nA Parallel Chronology of Prof. Kaoru Ishikawa’s Life and TQC in Japan', metadata={'source': '/content/gdrive/MyDrive/Projects/Digital_Deming/src_content/ParallelChronology_Ver2_150717.pdf'}), Document(page_content='Deming Application Prize. It was the first construction company to win the prize. (Nov.)\\n\\n\\uf09f A committee to research QC in the\\n\\nservice industry was established. (Nov.,\\n\\nA Parallel Chronology of Prof. Kaoru Ishikawa’s Life and TQC in Japan\\n\\nYear\\n\\nProf. Ishikawa’s Life\\n\\nMajor Events in the Development of QC\\n\\ncommissioned by the Ministry of the Environment.)\\n\\n\\uf09f His book Control Points of Quality (joint authorship) (Zeimukeiri Kyokai) was awarded Nikkei Quality Control Literature Prize.\\n\\nJUSE)\\n\\n\\uf09f The 28th QCS: New product planning\\n\\nand market research.\\n\\n\\uf09f The 29th QCS: Future Quality\\n\\nControl—challenges in the 1980s.\\n\\n1980\\n\\n\\uf09f He became a council member of the Japan Standards Association. (–84)\\n\\n\\uf09f He became a council member of the Japanese Society for Quality Control. (–82)\\n\\n\\uf09f He became the chair of the Nuclear\\n\\nPower Plant Quality Assurance Review Committee. (MITI)\\n\\n\\uf09f He became the chair of the Management\\n\\nResearch Group of Japan-China Economic Association.', metadata={'source': '/content/gdrive/MyDrive/Projects/Digital_Deming/src_content/ParallelChronology_Ver2_150717.pdf'}), Document(page_content='prize. (Nov.)\\n\\n\\uf09f The Japan Federation of Managerial Engineering Societies (FMES) was established. (JSQC, JIMA, and ORSJ)\\n\\n\\uf09f The Act on Science Council of Japan was revised. (Cabinet decision). “Management engineering” was added to “Part 5: Engineering.”\\n\\n\\uf09f ICQCC ’84-Manila was held. \\uf09f The 38th QCS: Sales department and\\n\\nTQC.\\n\\n\\uf09f The 39th QCS: Current situations and\\n\\nissues of TQC.\\n\\n1985\\n\\nJune 15\\n\\n\\uf09f He achieved a hole-in-one (at Tomei\\n\\n\\uf09f The number of countries where QC circle\\n\\nGotemba Country Club). \\uf09f He became the director of the\\n\\nAssociation for Overseas Technical Scholarship. (–87)\\n\\nactivities are conducted reached 52. \\uf09f The Software QC Research Group was\\n\\nestablished. (Apr., JUSE)\\n\\n\\uf09f ICQCC ’85-TOKYO was held. (May,\\n\\n\\uf09f He became the accounting audit for the\\n\\nJUSE)\\n\\nPrivate University Council for Information Processing Education. \\uf09f He became the chair of the ICQCC ’85-TOKYO Program Committee.', metadata={'source': '/content/gdrive/MyDrive/Projects/Digital_Deming/src_content/ParallelChronology_Ver2_150717.pdf'}), Document(page_content='\\uf09f The Symposium on QC in the Service\\n\\nIndustry was held. (July, JUSE)\\n\\n\\uf09f The Seven Management Tools for QC\\n\\nResearch Group for Managers and Staff (for the Tokyo Area) was established. (Sep., JUSE)\\n\\nWada Kunko Society.\\n\\n\\uf09f The QC Symposium “QC in service” was\\n\\n\\uf09f He gave a keynote speech at ICQCC\\n\\nheld (JSQC)\\n\\n’83-Taipei. (PETT).\\n\\n\\uf09f ICQCC ’83-Taipei was held. (PETT,\\n\\n\\uf09f He was awarded with the 1982 Shewhart\\n\\nTaiwan)\\n\\n\\uf09f The 36th QCS: Robotics and QC. \\uf09f The 37th QCS: Quality assurance in\\n\\nproduct planning.\\n\\nMedal. (ASQC)\\n\\n\\uf09f He was awarded with the Japan Management Association’s 1st Management Technology Development Award for his contribution to QC circle activities.\\n\\n\\uf09f He gave Crown Prince Akihito a lecture\\n\\non quality control. (At the Crown Prince’s Palace, on Nov. 11)\\n\\n\\uf09f He established QC circles at the\\n\\n\\uf09f The QC Circle Okinawa Regional\\n\\nAdministration Office of Musashi Institute of Technology.\\n\\n\\uf09f He became a council member of the Operations Research Society of Japan.', metadata={'source': '/content/gdrive/MyDrive/Projects/Digital_Deming/src_content/ParallelChronology_Ver2_150717.pdf'}), Document(page_content='Jan. 23\\n\\n\\uf09f A party to celebrate his honor conferred decoration was held at the Hotel Okura.\\n\\nJan. 31\\n\\n\\uf09f He published Introduction to\\n\\nQuality Control (3rd Edition). (JUSE Press)\\n\\nThe English edition:\\n\\nIntroduction to Quality Control (3rd\\n\\n523\\n\\n\\uf09f The 2000th Memorial QC Circle\\n\\nConference was held. (March, QC Circle Headquarters)\\n\\n\\uf09f EFQM was founded. (Sep.) \\uf09f The Software Quality Control Seminar for Managers was held. (Oct., JUSE)\\n\\n\\uf09f The 1st Malcolm Baldrige National Quality Award was awarded. (Oct., America)\\n\\n\\uf09f Joban Hawaiian Center was awarded the Deming Application Prize for Division, as the first service company to win the prize. (Nov.)\\n\\n\\uf09f ICQCC ’88-Taipei was held. (Nov.,\\n\\nTaipei)\\n\\n\\uf09f The number of foreign companies too whom the use of JIS mark is permitted exceeded 100.\\n\\n\\uf09f The 46th QCS: Quality control\\n\\ntraining—current situation and future direction.\\n\\n\\uf09f The 47th QCS: New product planning\\n\\nand market research—how to understand the quality required by customers.', metadata={'source': '/content/gdrive/MyDrive/Projects/Digital_Deming/src_content/ParallelChronology_Ver2_150717.pdf'}), Document(page_content='JUSE)\\n\\n\\uf09f The QC and Standardization Seminar was\\n\\nheld. (JSA)\\n\\n\\uf09f The Award of the Excellent Factories in\\n\\nImplementation of Industrial Standardization, the Award of the Minister of International Trade and Industry, the Award of Director-General of Agency of Industrial Science and Technology for the Excellent Factory in Implementation of Industrial Standardization and the Award of the Director-General of the Regional Bureau of International Trade and Industry for the Excellent Factory in Implementation of Industrial Standardization were established.\\n\\n\\uf09f He became a part-time lecturer at Gunma\\n\\n\\uf09f Dr. Juran visited Japan. During his\\n\\nUniversity. (–66)\\n\\n(Age 39)\\n\\n\\uf09f He published Introduction to Quality\\n\\n45-day stay in Japan, he gave a special QC Seminar for Executives and a QC\\n\\n502\\n\\nA Parallel Chronology of Prof. Kaoru Ishikawa’s Life and TQC in Japan\\n\\nYear\\n\\nProf. Ishikawa’s Life\\n\\nMajor Events in the Development of QC\\n\\nControl. (JUSE)\\n\\n\\uf09f His book Sampling in Factories', metadata={'source': '/content/gdrive/MyDrive/Projects/Digital_Deming/src_content/ParallelChronology_Ver2_150717.pdf'}), Document(page_content='(–83).\\n\\n\\uf09f He became the chair of the International Affairs Group (for the discussion on whether the Deming Application Prize should be awarded to foreign companies.)\\n\\nFrancisco in May at the same time as the ASQC Conference.\\n\\n\\uf09f JIS certified factories were required to elect a responsible person for QC promotion.\\n\\n\\uf09f Yokogawa Electric Singapore became the first foreign company, to whom the use of JIS mark was permitted.\\n\\n\\uf09f The Software Production QC Symposium\\n\\nwas held. (July, JUSE)\\n\\n\\uf09f He published What is Total Quality\\n\\n\\uf09f ICQCC ’81-TOKYO was held. (Sep.,\\n\\nControl? The Japanese Way. (Extended edition was published in Jan., 1984. JUSE Press) [Chinese edition (Taiwan) (’82), French edition (’84), Chinese edition (’84, ’86), English edition (’85), Portuguese edition (’86), Slovenian edition (’87), Dutch edition (’87), Italian edition (’92)]\\n\\nJUSE)\\n\\n\\uf09f The Symposium “Policy Management in\\n\\nTQC” was held. (Sep., JSQC)\\n\\n\\uf09f The Award for Young Researcher’s\\n\\nEncouragement was established. (JSQC)', metadata={'source': '/content/gdrive/MyDrive/Projects/Digital_Deming/src_content/ParallelChronology_Ver2_150717.pdf'}), Document(page_content='by Deming Prize Committee was established. (Nov.)\\n\\n\\uf09f He became a member of the Japan-Soviet\\n\\nThe first winner was Mitsubishi\\n\\nRound-table Conference on Standardization. (JSA)\\n\\n\\uf09f He visited China as a delegation member to research industrial standardization and quality control.\\n\\n\\uf09f He visited Europe as the general leader of the 6th QC Circle Overseas Research Delegation Team. (Head of the delegation; Koichi Ohba) (JUSE) \\uf09f He published Product Liability (joint authorship). (Nov., JUSE Press)\\n\\nHeavy Industries’ Kobe Shipyard.\\n\\n\\uf09f The QC Circle Seminar for Top\\n\\nManagement was held. (Jan., JUSE) \\uf09f Genba To QC-magazine was renamed\\n\\nFQC. (Jan., JUSE)\\n\\n\\uf09f The Distribution Department QC\\n\\nResearch Group (textile field) was established. (Apr., JUSE)\\n\\n\\uf09f The 1st Product Liability Study Team (PLT) to Overseas was dispatched. (Aug., JUSE)\\n\\n\\uf09f The 1st Pacific Area Standards Congress\\n\\n(PASC) was held in Honolulu.\\n\\n\\uf09f The PLP Seminar was held, inviting American experts as lecturers. (Oct., JUSE)', metadata={'source': '/content/gdrive/MyDrive/Projects/Digital_Deming/src_content/ParallelChronology_Ver2_150717.pdf'}), Document(page_content='Internationally-operating Company QC Research Delegation (Southeast Asia). (JUSE)\\n\\n\\uf09f He became a principal lecturer of the\\n\\n“In-Plant Group Training Program in the Field of Quality Improvement for Industrial Products.” (UNIDO/AOTS) \\uf09f JIS Z 8402 “General rules for permissible\\n\\ntolerance of chemical analyses and physical tests” was established. (Ishikawa was the chair of the Draft Committee.) \\uf09f He became an honorary member of the Japan Environmental Measurements & Chemical Analysis Association.\\n\\n\\uf09f Quality Assurance Guidebook edited by Ishikawa was published. (Oct., JUSE Press)\\n\\n\\uf09f The Introductory QC Course for\\n\\nMarketing was held. (March, JUSE) \\uf09f The Housing Industry QC Research Group was established. (MITI)\\n\\n\\uf09f The Service Industry QC Symposium\\n\\nwas held, inviting Dr. Juran. (Oct., JUSE)\\n\\n\\uf09f ISO/TC 69 newly established SC 1. \\uf09f The International Standardization Activities Cooperation Center was founded. (JSA)\\n\\n\\uf09f A Long-term Plan for Industrial', metadata={'source': '/content/gdrive/MyDrive/Projects/Digital_Deming/src_content/ParallelChronology_Ver2_150717.pdf'}), Document(page_content='JUSE)\\n\\n\\uf09f The QC and Standardization Seminar was\\n\\nheld. (JSA)\\n\\n\\uf09f The Award of the Excellent Factories in\\n\\nImplementation of Industrial Standardization, the Award of the Minister of International Trade and Industry, the Award of Director-General of Agency of Industrial Science and Technology for the Excellent Factory in Implementation of Industrial Standardization and the Award of the Director-General of the Regional Bureau of International Trade and Industry for the Excellent Factory in Implementation of Industrial Standardization were established.\\n\\n\\uf09f He became a part-time lecturer at Gunma\\n\\n\\uf09f Dr. Juran visited Japan. During his\\n\\nUniversity. (–66)\\n\\n(Age 39)\\n\\n\\uf09f He published Introduction to Quality\\n\\n45-day stay in Japan, he gave a special QC Seminar for Executives and a QC\\n\\n502\\n\\nA Parallel Chronology of Prof. Kaoru Ishikawa’s Life and TQC in Japan\\n\\nYear\\n\\nProf. Ishikawa’s Life\\n\\nMajor Events in the Development of QC\\n\\nControl. (JUSE)\\n\\n\\uf09f His book Sampling in Factories', metadata={'source': '/content/gdrive/MyDrive/Projects/Digital_Deming/src_content/ParallelChronology_Ver2_150717.pdf'}), Document(page_content='\\uf09f How to Operate QC Circle Activities written and edited by Ishikawa was published. (The 1st revised edition was published in July 1976 and the 3rd revised edition was published in April 1991. JUSE)\\n\\n\\uf09f He became a member of the Japanese\\n\\nSociety for Quality Control.\\n\\n1972\\n\\nOct. 27\\n\\n\\uf09f His first son, Tadashi, married Noriko\\n\\nInoue.\\n\\n\\uf09f He joined the 7th QC Overseas Research Team as the head of the delegation and introduced PL issues to Japan. (JUSE) \\uf09f He became a member of the International Cooperation Committee. (–78, ASQC) \\uf09f Ishikawa, as the chair of the Standards\\n\\nRationalization Committee, submitted the Improvement Proposal “Japanese Industrial Standards.” (JSA)\\n\\n\\uf09f He became the chair of the ISO/TC 102/SC 1 7th International Meeting. \\uf09f He became the chair of the organizing\\n\\ncommittee for the International Symposium on the Air Pollution Prevention Technology. (JUSE) \\uf09f He became a member of IAQ. \\uf09f He was awarded with the Grant Medal\\n\\n1971. (ASQC)\\n\\n(Age 57)\\n\\n512', metadata={'source': '/content/gdrive/MyDrive/Projects/Digital_Deming/src_content/ParallelChronology_Ver2_150717.pdf'}), Document(page_content='1) AGREE: Advisory Group on Reliability of Electronic Equipment 2) AOTS: Association for Overseas Technical Scholarship 3) APO: Asian Productivity Organization 4) ASA: American Standards Association 5) ASQC: American Society for Quality Control 6) BS: British Standards 7) CCS: Civil Communication Section 8) COSCO: Control System Committee 9) EOQC: European Organization for Quality Control 10) EOQ: European Organization for Quality 11) EFQM: European Foundation for Quality Management 12) FMES: Japan Federation of Managerial Engineering Societies\\n\\n524\\n\\nA Parallel Chronology of Prof. Kaoru Ishikawa’s Life and TQC in Japan', metadata={'source': '/content/gdrive/MyDrive/Projects/Digital_Deming/src_content/ParallelChronology_Ver2_150717.pdf'}), Document(page_content='1) AGREE: Advisory Group on Reliability of Electronic Equipment 2) AOTS: Association for Overseas Technical Scholarship 3) APO: Asian Productivity Organization 4) ASA: American Standards Association 5) ASQC: American Society for Quality Control 6) BS: British Standards 7) CCS: Civil Communication Section 8) COSCO: Control System Committee 9) EOQC: European Organization for Quality Control 10) EOQ: European Organization for Quality 11) EFQM: European Foundation for Quality Management 12) FMES: Japan Federation of Managerial Engineering Societies\\n\\n524\\n\\nA Parallel Chronology of Prof. Kaoru Ishikawa’s Life and TQC in Japan', metadata={'source': '/content/gdrive/MyDrive/Projects/Digital_Deming/src_content/ParallelChronology_Ver2_150717.pdf'}), Document(page_content='University. (–70)\\n\\n\\uf09f He gave a special lecture and acted as a discussion leader at the Quality Control Symposium held in Tokyo, welcoming representatives from various countries in Asia. (APO)\\n\\n\\uf09f He published How to Establish Product\\n\\nStandards of Japanese Industrial Standards. (JSA)\\n\\n\\uf09f He became an advisor to the Japan\\n\\nProductivity Center.\\n\\n(Age 49)\\n\\n507\\n\\nA Parallel Chronology of Prof. Kaoru Ishikawa’s Life and TQC in Japan\\n\\nYear\\n\\n1965\\n\\nProf. Ishikawa’s Life\\n\\nMajor Events in the Development of QC\\n\\n\\uf09f He joined the 2nd QC Overseas Research\\n\\n\\uf09f Genba To QC-magazine established the\\n\\nTeam as the head of the delegation (JUSE). He introduced the activities of QC circles at the ASQC Annual Conference. \\uf09f He became a member of the Quality Control Symposium Organizing Committee. (–78, JUSE)\\n\\n\\uf09f JIS M 8100 “Particulate materials –\\n\\nGeneral rules for methods of sampling” was established. (He served as the chair of the Draft Committee.)\\n\\nFQC Award. (Jan., JUSE)', metadata={'source': '/content/gdrive/MyDrive/Projects/Digital_Deming/src_content/ParallelChronology_Ver2_150717.pdf'}), Document(page_content='Internationally-operating Company QC Research Delegation (Southeast Asia). (JUSE)\\n\\n\\uf09f He became a principal lecturer of the\\n\\n“In-Plant Group Training Program in the Field of Quality Improvement for Industrial Products.” (UNIDO/AOTS) \\uf09f JIS Z 8402 “General rules for permissible\\n\\ntolerance of chemical analyses and physical tests” was established. (Ishikawa was the chair of the Draft Committee.) \\uf09f He became an honorary member of the Japan Environmental Measurements & Chemical Analysis Association.\\n\\n\\uf09f Quality Assurance Guidebook edited by Ishikawa was published. (Oct., JUSE Press)\\n\\n\\uf09f The Introductory QC Course for\\n\\nMarketing was held. (March, JUSE) \\uf09f The Housing Industry QC Research Group was established. (MITI)\\n\\n\\uf09f The Service Industry QC Symposium\\n\\nwas held, inviting Dr. Juran. (Oct., JUSE)\\n\\n\\uf09f ISO/TC 69 newly established SC 1. \\uf09f The International Standardization Activities Cooperation Center was founded. (JSA)\\n\\n\\uf09f A Long-term Plan for Industrial', metadata={'source': '/content/gdrive/MyDrive/Projects/Digital_Deming/src_content/ParallelChronology_Ver2_150717.pdf'}), Document(page_content='held. (July, JUSE)\\n\\n\\uf09f Governmental Building Construction Q-S Round-table conference was held. (JSA)\\n\\n\\uf09f The Mexican Quality Control Training\\n\\n(Age 62)\\n\\n515\\n\\nA Parallel Chronology of Prof. Kaoru Ishikawa’s Life and TQC in Japan\\n\\nYear\\n\\nProf. Ishikawa’s Life\\n\\nMajor Events in the Development of QC\\n\\n\\uf09f He became a researcher at the\\n\\nTeam visited Japan. (JICA/JUSE)\\n\\nComponent Measurement Department, Laboratory of Metrology, the Agency of Industrial Science and Technology. \\uf09f He became the chair of the executive\\n\\ncommittee of the 20th National Meeting of Standardization. (JSA)\\n\\n\\uf09f He became the chair of the organization committee of the Mexican Quality Control Training Course. (JICA/JUSE)\\n\\n\\uf09f He was awarded with the Medal with\\n\\nBlue Ribbon for his contribution to the promotion of industrial standardization. \\uf09f He became an honorary member of the Argentine Association for Quality Control.\\n\\n\\uf09f The 1st PL World Conference was held\\n\\nin London.\\n\\n\\uf09f Yoshio Kondo was awarded the Grant\\n\\nMedal. (ASQC)', metadata={'source': '/content/gdrive/MyDrive/Projects/Digital_Deming/src_content/ParallelChronology_Ver2_150717.pdf'}), Document(page_content='Deming Application Prize. It was the first construction company to win the prize. (Nov.)\\n\\n\\uf09f A committee to research QC in the\\n\\nservice industry was established. (Nov.,\\n\\nA Parallel Chronology of Prof. Kaoru Ishikawa’s Life and TQC in Japan\\n\\nYear\\n\\nProf. Ishikawa’s Life\\n\\nMajor Events in the Development of QC\\n\\ncommissioned by the Ministry of the Environment.)\\n\\n\\uf09f His book Control Points of Quality (joint authorship) (Zeimukeiri Kyokai) was awarded Nikkei Quality Control Literature Prize.\\n\\nJUSE)\\n\\n\\uf09f The 28th QCS: New product planning\\n\\nand market research.\\n\\n\\uf09f The 29th QCS: Future Quality\\n\\nControl—challenges in the 1980s.\\n\\n1980\\n\\n\\uf09f He became a council member of the Japan Standards Association. (–84)\\n\\n\\uf09f He became a council member of the Japanese Society for Quality Control. (–82)\\n\\n\\uf09f He became the chair of the Nuclear\\n\\nPower Plant Quality Assurance Review Committee. (MITI)\\n\\n\\uf09f He became the chair of the Management\\n\\nResearch Group of Japan-China Economic Association.', metadata={'source': '/content/gdrive/MyDrive/Projects/Digital_Deming/src_content/ParallelChronology_Ver2_150717.pdf'}), Document(page_content='establishment of the Deming Prize Dr. Deming was invited to Japan. (Nov., JUSE)\\n\\n\\uf09f The Service Industry QC Conference was\\n\\n\\uf09f He became an honorary member of the\\n\\nheld (JUSE)\\n\\nColumbian Quality Control Association.\\n\\n\\uf09f The 40th QCS: TQC—to decide the\\n\\nfuture direction.\\n\\n\\uf09f The 41th QCS: TCC—Measures and\\n\\nperspective.\\n\\n521\\n\\n(Age 70)\\n\\nA Parallel Chronology of Prof. Kaoru Ishikawa’s Life and TQC in Japan\\n\\nYear\\n\\n1986\\n\\nProf. Ishikawa’s Life\\n\\nMajor Events in the Development of QC\\n\\n\\uf09f He gave a lecture to American\\n\\n\\uf09f The 15th Anniversary Party of the\\n\\nHouse of Representatives’ Research Delegation. His lecture inspired them to establish the Malcolm Baldrige National Quality Award. (Jan.)\\n\\n\\uf09f He became the vice-president of the International Standardization Forum. \\uf09f He became an advisory member of the Executive Committee of the 46th Conference of the International Statistical Institute. (–87)\\n\\n\\uf09f He became a program', metadata={'source': '/content/gdrive/MyDrive/Projects/Digital_Deming/src_content/ParallelChronology_Ver2_150717.pdf'}), Document(page_content='(Age 36)\\n\\n501\\n\\n\\uf09f The 1st Deming Prize Ceremony was held at the same time as the 1st QC Conference. (Osaka, Sep., JUSE) \\uf09f [The first winners] Deming Prize for Individuals: Motosaburo Masuyama; Deming Application Prize: Showa Denko, Tanabe Pharmaceuticals, Fuji Iron & Steel, and Yawata Iron & Steel \\uf09f The Market Research Committee was\\n\\nA Parallel Chronology of Prof. Kaoru Ishikawa’s Life and TQC in Japan\\n\\nYear\\n\\nProf. Ishikawa’s Life\\n\\nMajor Events in the Development of QC\\n\\nestablished and held the Market Research Seminar. (Nov., JUSE)\\n\\n\\uf09f The Sampling Research Group was\\n\\nfounded. (Dec., JUSE)\\n\\n1952\\n\\n\\uf09f He became the Chair of the Editorial\\n\\nCommittee of Hinshitsu Kanri (Statistical Quality Control). (–78, JUSE)\\n\\n\\uf09f He became a temporary member of the\\n\\nJapanese Industrial Standards Committee. (the Ministry of International Trade and Industry)\\n\\n\\uf09f Dr. Deming visited Japan. (Jan., JUSE) \\uf09f Kenichi Koyanagi reported on QC practiced in Japan at the 6th ASQC Annual Conference. (May)', metadata={'source': '/content/gdrive/MyDrive/Projects/Digital_Deming/src_content/ParallelChronology_Ver2_150717.pdf'}), Document(page_content='by Deming Prize Committee was established. (Nov.)\\n\\n\\uf09f He became a member of the Japan-Soviet\\n\\nThe first winner was Mitsubishi\\n\\nRound-table Conference on Standardization. (JSA)\\n\\n\\uf09f He visited China as a delegation member to research industrial standardization and quality control.\\n\\n\\uf09f He visited Europe as the general leader of the 6th QC Circle Overseas Research Delegation Team. (Head of the delegation; Koichi Ohba) (JUSE) \\uf09f He published Product Liability (joint authorship). (Nov., JUSE Press)\\n\\nHeavy Industries’ Kobe Shipyard.\\n\\n\\uf09f The QC Circle Seminar for Top\\n\\nManagement was held. (Jan., JUSE) \\uf09f Genba To QC-magazine was renamed\\n\\nFQC. (Jan., JUSE)\\n\\n\\uf09f The Distribution Department QC\\n\\nResearch Group (textile field) was established. (Apr., JUSE)\\n\\n\\uf09f The 1st Product Liability Study Team (PLT) to Overseas was dispatched. (Aug., JUSE)\\n\\n\\uf09f The 1st Pacific Area Standards Congress\\n\\n(PASC) was held in Honolulu.\\n\\n\\uf09f The PLP Seminar was held, inviting American experts as lecturers. (Oct., JUSE)', metadata={'source': '/content/gdrive/MyDrive/Projects/Digital_Deming/src_content/ParallelChronology_Ver2_150717.pdf'}), Document(page_content='\\uf09f The Reliability Introductory Seminar was\\n\\nheld. (Feb., JUSE)\\n\\n\\uf09f The QC Circle Chugoku Regional\\n\\nChapter and Shikoku Regional Chapter were founded. (June, QC Circle Headquarters)\\n\\n\\uf09f The Quality Control Symposium (QCS) was established and decided to hold meetings twice a year. (July, JUSE)\\n\\n\\uf09f The Japan-America Joint\\n\\nSymposium on Bulk Material Sampling was held. (Nov., Tokyo)\\n\\n\\uf09f NEC implemented ZD activity on a\\n\\ncompany-wide level.\\n\\n\\uf09f The New Product Development Class\\n\\nwas held. (JSA)\\n\\n\\uf09f The Tohoku QC Research Group was\\n\\nestablished. (JSA)\\n\\n\\uf09f The 1st QCS: How to introduce, promote\\n\\nand establish QC.\\n\\n\\uf09f The 2nd QCS: The role of QC\\n\\ndepartment.\\n\\n\\uf09f He attended the 10th EOQC Conference held in Stockholm. During the QC circle special discussion, he was invited onto the stage.\\n\\n\\uf09f He became one of six man board of the International Academy for Quality preparation committee. (–69)\\n\\n\\uf09f The Deming Application Prize for\\n\\nDivision was established.', metadata={'source': '/content/gdrive/MyDrive/Projects/Digital_Deming/src_content/ParallelChronology_Ver2_150717.pdf'}), Document(page_content='\\uf09f The Symposium on QC in the Service\\n\\nIndustry was held. (July, JUSE)\\n\\n\\uf09f The Seven Management Tools for QC\\n\\nResearch Group for Managers and Staff (for the Tokyo Area) was established. (Sep., JUSE)\\n\\nWada Kunko Society.\\n\\n\\uf09f The QC Symposium “QC in service” was\\n\\n\\uf09f He gave a keynote speech at ICQCC\\n\\nheld (JSQC)\\n\\n’83-Taipei. (PETT).\\n\\n\\uf09f ICQCC ’83-Taipei was held. (PETT,\\n\\n\\uf09f He was awarded with the 1982 Shewhart\\n\\nTaiwan)\\n\\n\\uf09f The 36th QCS: Robotics and QC. \\uf09f The 37th QCS: Quality assurance in\\n\\nproduct planning.\\n\\nMedal. (ASQC)\\n\\n\\uf09f He was awarded with the Japan Management Association’s 1st Management Technology Development Award for his contribution to QC circle activities.\\n\\n\\uf09f He gave Crown Prince Akihito a lecture\\n\\non quality control. (At the Crown Prince’s Palace, on Nov. 11)\\n\\n\\uf09f He established QC circles at the\\n\\n\\uf09f The QC Circle Okinawa Regional\\n\\nAdministration Office of Musashi Institute of Technology.\\n\\n\\uf09f He became a council member of the Operations Research Society of Japan.', metadata={'source': '/content/gdrive/MyDrive/Projects/Digital_Deming/src_content/ParallelChronology_Ver2_150717.pdf'}), Document(page_content='\\uf09f IAQ meeting was held in Washington at the same time as the ASQC Annual Conference. IAQ was founded.\\n\\n\\uf09f The QC Circle Seminar for Facilitators\\n\\nwas held. (May, JUSE)\\n\\n\\uf09f The QC Circle Summer Seminar was\\n\\nheld in Koyasan. (July, JUSE) \\uf09f The PL Research Committee was\\n\\nestablished. (Oct., JUSE)\\n\\n\\uf09f The QC Council of Executives was\\n\\nestablished. (Dec., JUSE)\\n\\n\\uf09f The Certification System for Excellent\\n\\nQC Factories for Manufactured Housing was established. (MITI)\\n\\n\\uf09f USA enacted the Consumer Product\\n\\nSafety Act. Product Liability becomes an object of public concern.\\n\\nA Parallel Chronology of Prof. Kaoru Ishikawa’s Life and TQC in Japan\\n\\nYear\\n\\nProf. Ishikawa’s Life\\n\\nMajor Events in the Development of QC\\n\\n\\uf09f The 15th QCS: QC as a tool to overcome\\n\\nthe economic depression.\\n\\n\\uf09f The 16th QCS: Our company’s company-wide quality control.\\n\\n1973\\n\\n\\uf09f He became the chair of the organizing\\n\\n\\uf09f The Quality Control Award for Factory\\n\\ncommittee of QC Circle Seminar for Top Management. (JUSE)', metadata={'source': '/content/gdrive/MyDrive/Projects/Digital_Deming/src_content/ParallelChronology_Ver2_150717.pdf'}), Document(page_content='Jan. 23\\n\\n\\uf09f A party to celebrate his honor conferred decoration was held at the Hotel Okura.\\n\\nJan. 31\\n\\n\\uf09f He published Introduction to\\n\\nQuality Control (3rd Edition). (JUSE Press)\\n\\nThe English edition:\\n\\nIntroduction to Quality Control (3rd\\n\\n523\\n\\n\\uf09f The 2000th Memorial QC Circle\\n\\nConference was held. (March, QC Circle Headquarters)\\n\\n\\uf09f EFQM was founded. (Sep.) \\uf09f The Software Quality Control Seminar for Managers was held. (Oct., JUSE)\\n\\n\\uf09f The 1st Malcolm Baldrige National Quality Award was awarded. (Oct., America)\\n\\n\\uf09f Joban Hawaiian Center was awarded the Deming Application Prize for Division, as the first service company to win the prize. (Nov.)\\n\\n\\uf09f ICQCC ’88-Taipei was held. (Nov.,\\n\\nTaipei)\\n\\n\\uf09f The number of foreign companies too whom the use of JIS mark is permitted exceeded 100.\\n\\n\\uf09f The 46th QCS: Quality control\\n\\ntraining—current situation and future direction.\\n\\n\\uf09f The 47th QCS: New product planning\\n\\nand market research—how to understand the quality required by customers.', metadata={'source': '/content/gdrive/MyDrive/Projects/Digital_Deming/src_content/ParallelChronology_Ver2_150717.pdf'})]\n"
          ]
        }
      ]
    }
  ]
}